{
 "cells": [
  {
   "cell_type": "markdown",
   "id": "be8459af",
   "metadata": {},
   "source": [
    "# 데이터 전처리 1"
   ]
  },
  {
   "cell_type": "markdown",
   "id": "c0c93566",
   "metadata": {},
   "source": [
    "---"
   ]
  },
  {
   "cell_type": "code",
   "execution_count": null,
   "id": "f758a8dd",
   "metadata": {},
   "outputs": [],
   "source": [
    "import numpy as np\n",
    "import pandas as pd\n",
    "import matplotlib.pyplot as plt\n",
    "import seaborn as sns\n",
    "\n",
    "import mglearn\n",
    "\n",
    "plt.rc('figure', figsize=(10, 6))\n",
    "\n",
    "from matplotlib import rcParams\n",
    "rcParams['font.family'] = 'New Gulim'\n",
    "rcParams['font.size'] = 10\n",
    "rcParams['axes.unicode_minus'] = False"
   ]
  },
  {
   "cell_type": "markdown",
   "id": "01f3855a",
   "metadata": {},
   "source": [
    "# 1 Data Scaling\n",
    "- Feature(X값): 수치형 데이터\n",
    "- [scikit-learn preprocessing](https://scikit-learn.org/stable/modules/classes.html#module-sklearn.preprocessing)"
   ]
  },
  {
   "cell_type": "markdown",
   "id": "53d21ce8",
   "metadata": {},
   "source": [
    "1. Standard Scaling\n",
    "2. MinMax Scaling\n",
    "3. Robust Scaling\n",
    "4. Normalization Scaling\n",
    "5. Log Scaling\n",
    "6. Exponential Scaling"
   ]
  },
  {
   "cell_type": "code",
   "execution_count": null,
   "id": "6736e269",
   "metadata": {},
   "outputs": [],
   "source": [
    "mglearn.plots.plot_scaling()"
   ]
  },
  {
   "cell_type": "markdown",
   "id": "96318384",
   "metadata": {},
   "source": [
    "#### 데이터 로딩"
   ]
  },
  {
   "cell_type": "code",
   "execution_count": null,
   "id": "01b742e6",
   "metadata": {},
   "outputs": [],
   "source": [
    "from sklearn.datasets import load_breast_cancer\n",
    "cancer = load_breast_cancer()"
   ]
  },
  {
   "cell_type": "markdown",
   "id": "309153bf",
   "metadata": {},
   "source": [
    "#### 데이터 분할: 학습 데이터 + 테스트 데이터"
   ]
  },
  {
   "cell_type": "code",
   "execution_count": null,
   "id": "58c36867",
   "metadata": {},
   "outputs": [],
   "source": [
    "from sklearn.model_selection import train_test_split\n",
    "X_train, X_test, y_train, y_test = train_test_split(cancer.data, cancer.target, random_state=123)\n",
    "print(X_train.shape)\n",
    "print(X_test.shape)"
   ]
  },
  {
   "cell_type": "markdown",
   "id": "7bbefa90",
   "metadata": {},
   "source": [
    "### 1.1 Standard Scaling"
   ]
  },
  {
   "cell_type": "markdown",
   "id": "314fd929",
   "metadata": {},
   "source": [
    "#### 1.1.1 스케일러 생성"
   ]
  },
  {
   "cell_type": "code",
   "execution_count": null,
   "id": "90a1f706",
   "metadata": {},
   "outputs": [],
   "source": [
    "from sklearn.preprocessing import StandardScaler\n",
    "scaler = StandardScaler()"
   ]
  },
  {
   "cell_type": "markdown",
   "id": "d6e77cb2",
   "metadata": {},
   "source": [
    "#### 1.1.2 스케일러 학습 - 규칙 설정"
   ]
  },
  {
   "cell_type": "code",
   "execution_count": null,
   "id": "99714441",
   "metadata": {},
   "outputs": [],
   "source": [
    "scaler.fit(X_train)"
   ]
  },
  {
   "cell_type": "markdown",
   "id": "708f284c",
   "metadata": {},
   "source": [
    "#### 1.1.3 학습 데이터 변환"
   ]
  },
  {
   "cell_type": "code",
   "execution_count": null,
   "id": "41b88533",
   "metadata": {},
   "outputs": [],
   "source": [
    "X_train_scaled = scaler.transform(X_train)"
   ]
  },
  {
   "cell_type": "code",
   "execution_count": null,
   "id": "345e9c2f",
   "metadata": {},
   "outputs": [],
   "source": [
    "print('변환된 후 크기:', X_train_scaled.shape)\n",
    "print('스케일 조정 전 특성별 최소값:\\n', X_train.min(axis=0))\n",
    "print('스케일 조정 전 특성별 최대값:\\n', X_train.max(axis=0))\n",
    "print('스케일 조정 후 특성별 최소값:\\n', X_train_scaled.min(axis=0))\n",
    "print('스케일 조정 후 특성별 최대값:\\n', X_train_scaled.max(axis=0))"
   ]
  },
  {
   "cell_type": "markdown",
   "id": "f2a6586f",
   "metadata": {},
   "source": [
    "#### 1.1.4 테스트 데이터 변환"
   ]
  },
  {
   "cell_type": "code",
   "execution_count": null,
   "id": "9e996744",
   "metadata": {},
   "outputs": [],
   "source": [
    "X_test_scaled = scaler.transform(X_test)"
   ]
  },
  {
   "cell_type": "code",
   "execution_count": null,
   "id": "05c0a945",
   "metadata": {},
   "outputs": [],
   "source": [
    "print('스케일 조정 후 특성별 최소값:\\n', X_test_scaled.min(axis=0))\n",
    "print('스케일 조정 후 특성별 최대값:\\n', X_test_scaled.max(axis=0))"
   ]
  },
  {
   "cell_type": "markdown",
   "id": "208e100a",
   "metadata": {},
   "source": [
    "### 1.2 MinMaxScaler"
   ]
  },
  {
   "cell_type": "markdown",
   "id": "e33da381",
   "metadata": {},
   "source": [
    "#### 1.2.1 스케일러 생성"
   ]
  },
  {
   "cell_type": "code",
   "execution_count": null,
   "id": "56ef59a2",
   "metadata": {},
   "outputs": [],
   "source": [
    "from sklearn.preprocessing import MinMaxScaler\n",
    "scaler = MinMaxScaler()"
   ]
  },
  {
   "cell_type": "markdown",
   "id": "08c9ad7e",
   "metadata": {},
   "source": [
    "#### 1.2.2 스케일러 학습 - 규칙 설정"
   ]
  },
  {
   "cell_type": "code",
   "execution_count": null,
   "id": "a9e37093",
   "metadata": {},
   "outputs": [],
   "source": [
    "scaler.fit(X_train)"
   ]
  },
  {
   "cell_type": "markdown",
   "id": "759a26e6",
   "metadata": {},
   "source": [
    "#### 1.2.3 학습 데이터 변환"
   ]
  },
  {
   "cell_type": "code",
   "execution_count": null,
   "id": "856d7117",
   "metadata": {},
   "outputs": [],
   "source": [
    "X_train_scaled = scaler.transform(X_train)"
   ]
  },
  {
   "cell_type": "code",
   "execution_count": null,
   "id": "ed9ac119",
   "metadata": {},
   "outputs": [],
   "source": [
    "print('변환된 후 크기:', X_train_scaled.shape)\n",
    "print('스케일 조정 전 특성별 최소값:\\n', X_train.min(axis=0))\n",
    "print('스케일 조정 전 특성별 최대값:\\n', X_train.max(axis=0))\n",
    "print('스케일 조정 후 특성별 최소값:\\n', X_train_scaled.min(axis=0))\n",
    "print('스케일 조정 후 특성별 최대값:\\n', X_train_scaled.max(axis=0))"
   ]
  },
  {
   "cell_type": "markdown",
   "id": "7295363e",
   "metadata": {},
   "source": [
    "#### 1.2.4 테스트 데이터 변환"
   ]
  },
  {
   "cell_type": "code",
   "execution_count": null,
   "id": "301d641f",
   "metadata": {},
   "outputs": [],
   "source": [
    "X_test_scaled = scaler.transform(X_test)"
   ]
  },
  {
   "cell_type": "code",
   "execution_count": null,
   "id": "ccbaef59",
   "metadata": {},
   "outputs": [],
   "source": [
    "print('스케일 조정 후 특성별 최소값:\\n', X_test_scaled.min(axis=0))\n",
    "print('스케일 조정 후 특성별 최대값:\\n', X_test_scaled.max(axis=0))"
   ]
  },
  {
   "cell_type": "markdown",
   "id": "0df316e8",
   "metadata": {},
   "source": [
    "### 1.3 RobustScaler"
   ]
  },
  {
   "cell_type": "markdown",
   "id": "98aff47e",
   "metadata": {},
   "source": [
    "#### 1.3.1 스케일러 생성"
   ]
  },
  {
   "cell_type": "code",
   "execution_count": null,
   "id": "e9ef515f",
   "metadata": {},
   "outputs": [],
   "source": [
    "from sklearn.preprocessing import RobustScaler\n",
    "scaler = RobustScaler()"
   ]
  },
  {
   "cell_type": "markdown",
   "id": "e37ce3db",
   "metadata": {},
   "source": [
    "#### 1.3.2 스케일러 학습 - 규칙 설정"
   ]
  },
  {
   "cell_type": "code",
   "execution_count": null,
   "id": "af348bf9",
   "metadata": {},
   "outputs": [],
   "source": [
    "scaler.fit(X_train)"
   ]
  },
  {
   "cell_type": "markdown",
   "id": "4f754a6f",
   "metadata": {},
   "source": [
    "#### 1.3.3 학습 데이터 변환"
   ]
  },
  {
   "cell_type": "code",
   "execution_count": null,
   "id": "92198e2f",
   "metadata": {},
   "outputs": [],
   "source": [
    "X_train_scaled = scaler.transform(X_train)"
   ]
  },
  {
   "cell_type": "code",
   "execution_count": null,
   "id": "0c6faf8e",
   "metadata": {},
   "outputs": [],
   "source": [
    "print('변환된 후 크기:', X_train_scaled.shape)\n",
    "print('스케일 조정 전 특성별 최소값:\\n', X_train.min(axis=0))\n",
    "print('스케일 조정 전 특성별 최대값:\\n', X_train.max(axis=0))\n",
    "print('스케일 조정 후 특성별 최소값:\\n', X_train_scaled.min(axis=0))\n",
    "print('스케일 조정 후 특성별 최대값:\\n', X_train_scaled.max(axis=0))"
   ]
  },
  {
   "cell_type": "markdown",
   "id": "867b18d0",
   "metadata": {},
   "source": [
    "#### 1.3.4 테스트 데이터 변환"
   ]
  },
  {
   "cell_type": "code",
   "execution_count": null,
   "id": "25367574",
   "metadata": {},
   "outputs": [],
   "source": [
    "X_test_scaled = scaler.transform(X_test)"
   ]
  },
  {
   "cell_type": "code",
   "execution_count": null,
   "id": "4fe7686b",
   "metadata": {},
   "outputs": [],
   "source": [
    "print('스케일 조정 후 특성별 최소값:\\n', X_test_scaled.min(axis=0))\n",
    "print('스케일 조정 후 특성별 최대값:\\n', X_test_scaled.max(axis=0))"
   ]
  },
  {
   "cell_type": "markdown",
   "id": "f6e4d2d2",
   "metadata": {},
   "source": [
    "### 1.4 Normalizer"
   ]
  },
  {
   "cell_type": "markdown",
   "id": "42658e8e",
   "metadata": {},
   "source": [
    "#### 1.4.1 스케일러 생성"
   ]
  },
  {
   "cell_type": "code",
   "execution_count": null,
   "id": "69638c7d",
   "metadata": {},
   "outputs": [],
   "source": [
    "from sklearn.preprocessing import Normalizer\n",
    "scaler = Normalizer()"
   ]
  },
  {
   "cell_type": "markdown",
   "id": "f8ddab40",
   "metadata": {},
   "source": [
    "#### 1.4.2 스케일러 학습 - 규칙 설정"
   ]
  },
  {
   "cell_type": "code",
   "execution_count": null,
   "id": "b339553e",
   "metadata": {},
   "outputs": [],
   "source": [
    "scaler.fit(X_train)"
   ]
  },
  {
   "cell_type": "markdown",
   "id": "f4ae50f2",
   "metadata": {},
   "source": [
    "#### 1.4.3 학습 데이터 변환"
   ]
  },
  {
   "cell_type": "code",
   "execution_count": null,
   "id": "ba21d9e7",
   "metadata": {},
   "outputs": [],
   "source": [
    "X_train_scaled = scaler.transform(X_train)"
   ]
  },
  {
   "cell_type": "code",
   "execution_count": null,
   "id": "2e860a41",
   "metadata": {},
   "outputs": [],
   "source": [
    "print('변환된 후 크기:', X_train_scaled.shape)\n",
    "print('스케일 조정 전 특성별 최소값:\\n', X_train.min(axis=0))\n",
    "print('스케일 조정 전 특성별 최대값:\\n', X_train.max(axis=0))\n",
    "print('스케일 조정 후 특성별 최소값:\\n', X_train_scaled.min(axis=0))\n",
    "print('스케일 조정 후 특성별 최대값:\\n', X_train_scaled.max(axis=0))"
   ]
  },
  {
   "cell_type": "markdown",
   "id": "b738369c",
   "metadata": {},
   "source": [
    "#### 1.4.4 테스트 데이터 변환"
   ]
  },
  {
   "cell_type": "code",
   "execution_count": null,
   "id": "5d8248ea",
   "metadata": {},
   "outputs": [],
   "source": [
    "X_test_scaled = scaler.transform(X_test)"
   ]
  },
  {
   "cell_type": "code",
   "execution_count": null,
   "id": "da6be989",
   "metadata": {},
   "outputs": [],
   "source": [
    "print('스케일 조정 후 특성별 최소값:\\n', X_test_scaled.min(axis=0))\n",
    "print('스케일 조정 후 특성별 최대값:\\n', X_test_scaled.max(axis=0))"
   ]
  },
  {
   "cell_type": "markdown",
   "id": "e05b3914",
   "metadata": {},
   "source": [
    "### 1.5 Log  Scaling"
   ]
  },
  {
   "cell_type": "markdown",
   "id": "3e9d73e3",
   "metadata": {},
   "source": [
    "#### 1.5.1 스케일러 생성"
   ]
  },
  {
   "cell_type": "code",
   "execution_count": null,
   "id": "eaa120b9",
   "metadata": {},
   "outputs": [],
   "source": [
    "from sklearn.preprocessing import FunctionTransformer\n",
    "scaler = FunctionTransformer(np.log1p)"
   ]
  },
  {
   "cell_type": "markdown",
   "id": "90a7d586",
   "metadata": {},
   "source": [
    "#### 1.5.2 스케일러 학습 - 규칙 설정"
   ]
  },
  {
   "cell_type": "code",
   "execution_count": null,
   "id": "8c95073c",
   "metadata": {},
   "outputs": [],
   "source": [
    "scaler.fit(X_train)"
   ]
  },
  {
   "cell_type": "markdown",
   "id": "d510a451",
   "metadata": {},
   "source": [
    "#### 1.5.3 학습 데이터 변환"
   ]
  },
  {
   "cell_type": "code",
   "execution_count": null,
   "id": "80dadc7c",
   "metadata": {},
   "outputs": [],
   "source": [
    "X_train_scaled = scaler.transform(X_train)"
   ]
  },
  {
   "cell_type": "code",
   "execution_count": null,
   "id": "18feb611",
   "metadata": {},
   "outputs": [],
   "source": [
    "print('변환된 후 크기:', X_train_scaled.shape)\n",
    "print('스케일 조정 전 특성별 최소값:\\n', X_train.min(axis=0))\n",
    "print('스케일 조정 전 특성별 최대값:\\n', X_train.max(axis=0))\n",
    "print('스케일 조정 후 특성별 최소값:\\n', X_train_scaled.min(axis=0))\n",
    "print('스케일 조정 후 특성별 최대값:\\n', X_train_scaled.max(axis=0))"
   ]
  },
  {
   "cell_type": "markdown",
   "id": "f25adddb",
   "metadata": {},
   "source": [
    "#### 1.5.4 테스트 데이터 변환"
   ]
  },
  {
   "cell_type": "code",
   "execution_count": null,
   "id": "7cdd0f49",
   "metadata": {},
   "outputs": [],
   "source": [
    "X_test_scaled = scaler.transform(X_test)"
   ]
  },
  {
   "cell_type": "code",
   "execution_count": null,
   "id": "4f4fa99a",
   "metadata": {},
   "outputs": [],
   "source": [
    "print('스케일 조정 후 특성별 최소값:\\n', X_test_scaled.min(axis=0))\n",
    "print('스케일 조정 후 특성별 최대값:\\n', X_test_scaled.max(axis=0))"
   ]
  },
  {
   "cell_type": "markdown",
   "id": "ffa90c2d",
   "metadata": {},
   "source": [
    "### 1.6 Exponential Scaling"
   ]
  },
  {
   "cell_type": "markdown",
   "id": "19bada63",
   "metadata": {},
   "source": [
    "#### 1.6.1 스케일러 생성"
   ]
  },
  {
   "cell_type": "code",
   "execution_count": null,
   "id": "9e04c667",
   "metadata": {},
   "outputs": [],
   "source": [
    "from sklearn.preprocessing import FunctionTransformer\n",
    "scaler = FunctionTransformer(np.expm1)"
   ]
  },
  {
   "cell_type": "markdown",
   "id": "2471468f",
   "metadata": {},
   "source": [
    "#### 1.6.2 스케일러 학습 - 규칙 설정"
   ]
  },
  {
   "cell_type": "code",
   "execution_count": null,
   "id": "b0535261",
   "metadata": {},
   "outputs": [],
   "source": [
    "scaler.fit(X_train)"
   ]
  },
  {
   "cell_type": "markdown",
   "id": "d91594af",
   "metadata": {},
   "source": [
    "#### 1.6.3 학습 데이터 변환"
   ]
  },
  {
   "cell_type": "code",
   "execution_count": null,
   "id": "2089645a",
   "metadata": {},
   "outputs": [],
   "source": [
    "X_train_scaled = scaler.transform(X_train)"
   ]
  },
  {
   "cell_type": "code",
   "execution_count": null,
   "id": "95431666",
   "metadata": {},
   "outputs": [],
   "source": [
    "print('변환된 후 크기:', X_train_scaled.shape)\n",
    "print('스케일 조정 전 특성별 최소값:\\n', X_train.min(axis=0))\n",
    "print('스케일 조정 전 특성별 최대값:\\n', X_train.max(axis=0))\n",
    "print('스케일 조정 후 특성별 최소값:\\n', X_train_scaled.min(axis=0))\n",
    "print('스케일 조정 후 특성별 최대값:\\n', X_train_scaled.max(axis=0))"
   ]
  },
  {
   "cell_type": "markdown",
   "id": "fde06734",
   "metadata": {},
   "source": [
    "#### 1.6.4 테스트 데이터 변환"
   ]
  },
  {
   "cell_type": "code",
   "execution_count": null,
   "id": "3fba4f70",
   "metadata": {},
   "outputs": [],
   "source": [
    "X_test_scaled = scaler.transform(X_test)"
   ]
  },
  {
   "cell_type": "code",
   "execution_count": null,
   "id": "7a3db818",
   "metadata": {},
   "outputs": [],
   "source": [
    "print('스케일 조정 후 특성별 최소값:\\n', X_test_scaled.min(axis=0))\n",
    "print('스케일 조정 후 특성별 최대값:\\n', X_test_scaled.max(axis=0))"
   ]
  },
  {
   "cell_type": "markdown",
   "id": "7331d181",
   "metadata": {},
   "source": [
    "### 1.7 학습 데이터와 테스트 데이터의 스케일 조정 - 주의"
   ]
  },
  {
   "cell_type": "code",
   "execution_count": null,
   "id": "a6f3fb93",
   "metadata": {},
   "outputs": [],
   "source": [
    "# 데이터셋 생성\n",
    "from sklearn.datasets import make_blobs\n",
    "X, _ = make_blobs(n_samples=50, centers=5, random_state=4, cluster_std=2)\n",
    "\n",
    "# 데이터 분할\n",
    "X_train, X_test = train_test_split(X, random_state=123, test_size=0.1)\n",
    "\n",
    "# plot 1: 원본 데이터\n",
    "fig, axes = plt.subplots(1, 3, figsize=(13, 4))\n",
    "\n",
    "axes[0].scatter(X_train[:, 0], X_train[:, 1], c=mglearn.cm2.colors[0], label='학습 세트', s=60)\n",
    "axes[0].scatter(X_test[:, 0], X_test[:, 1], marker='^', c=mglearn.cm2.colors[1], label='테스트 세트', s=60)\n",
    "axes[0].legend(loc='upper left')\n",
    "axes[0].set_title('원본 데이터')\n",
    "\n",
    "#\n",
    "# plot 2: 스케일 조정된 데이터\n",
    "#\n",
    "\n",
    "# MinMaxScaler를 사용해 스케일을 조정합니다\n",
    "scaler = MinMaxScaler()\n",
    "scaler.fit(X_train)\n",
    "X_train_scaled = scaler.transform(X_train)\n",
    "X_test_scaled = scaler.transform(X_test)\n",
    "\n",
    "axes[1].scatter(X_train_scaled[:, 0], X_train_scaled[:, 1], c=mglearn.cm2.colors[0], label='학습 세트', s=60)\n",
    "axes[1].scatter(X_test_scaled[:, 0], X_test_scaled[:, 1], marker='^', c=mglearn.cm2.colors[1], label='테스트 세트', s=60)\n",
    "axes[1].set_title('스케일 조정된 데이터')\n",
    "\n",
    "#\n",
    "# plot 3: 잘못 조정된 데이터\n",
    "#\n",
    "# 잘못된 스케일 조정: 테스트 세트의 스케일을 따로 조정합니다\n",
    "test_scaler = MinMaxScaler()\n",
    "test_scaler.fit(X_test)\n",
    "\n",
    "X_test_scaled_badly = test_scaler.transform(X_test)\n",
    "\n",
    "axes[2].scatter(X_train_scaled[:, 0], X_train_scaled[:, 1], c=mglearn.cm2.colors[0], label='학습 세트', s=60)\n",
    "axes[2].scatter(X_test_scaled_badly[:, 0], X_test_scaled_badly[:, 1], marker='^', c=mglearn.cm2.colors[1], label='테스트 세트', s=60)\n",
    "axes[2].set_title('잘못 조정된 데이터')\n",
    "\n",
    "for ax in axes:\n",
    "    ax.set_xlabel(\"특성 0\")\n",
    "    ax.set_ylabel(\"특성 1\")\n",
    "fig.tight_layout()\n",
    "\n",
    "plt.show()"
   ]
  },
  {
   "cell_type": "markdown",
   "id": "cdd7c737",
   "metadata": {},
   "source": [
    "### 1.8 스케일링 적용 - 지도학습"
   ]
  },
  {
   "cell_type": "markdown",
   "id": "54fa7a66",
   "metadata": {},
   "source": [
    "#### 1.8.1 데이터 분할"
   ]
  },
  {
   "cell_type": "code",
   "execution_count": null,
   "id": "b2c51927",
   "metadata": {},
   "outputs": [],
   "source": [
    "from sklearn.model_selection import train_test_split\n",
    "X_train, X_test, y_train, y_test = train_test_split(cancer.data, cancer.target, random_state=123)"
   ]
  },
  {
   "cell_type": "markdown",
   "id": "a1bee589",
   "metadata": {},
   "source": [
    "#### 1.8.2 Supprt Vector Machine"
   ]
  },
  {
   "cell_type": "code",
   "execution_count": null,
   "id": "fd25ecb8",
   "metadata": {},
   "outputs": [],
   "source": [
    "from sklearn.svm import SVC\n",
    "\n",
    "svm = SVC(gamma='auto')\n",
    "\n",
    "svm.fit(X_train, y_train)\n",
    "\n",
    "print('테스트 세트 정확도: {:.2f}'.format(svm.score(X_test, y_test)))"
   ]
  },
  {
   "cell_type": "markdown",
   "id": "880e6390",
   "metadata": {},
   "source": [
    "#### 1.8.3 Supprt Vector Machine - StandardScaler 적용"
   ]
  },
  {
   "cell_type": "code",
   "execution_count": null,
   "id": "199c8a58",
   "metadata": {},
   "outputs": [],
   "source": [
    "# StandardScaler: 평균 0, 분산 1을 갖도록 스케일 조정\n",
    "from sklearn.preprocessing import StandardScaler\n",
    "scaler = StandardScaler()\n",
    "scaler.fit(X_train)\n",
    "X_train_scaled = scaler.transform(X_train)\n",
    "X_test_scaled = scaler.transform(X_test)\n",
    "\n",
    "# 조정된 데이터로 SVM 학습\n",
    "svm.fit(X_train_scaled, y_train)\n",
    "\n",
    "# 스케일 조정된 테스트 세트의 정확도\n",
    "print('스케일 조정된 테스트 세트의 정확도(StandardScaler): {:.2f}'.format(svm.score(X_test_scaled, y_test)))"
   ]
  },
  {
   "cell_type": "markdown",
   "id": "e0187778",
   "metadata": {},
   "source": [
    "#### 1.8.4 Supprt Vector Machine - MinMaxScaler 적용"
   ]
  },
  {
   "cell_type": "code",
   "execution_count": null,
   "id": "a3780a0b",
   "metadata": {},
   "outputs": [],
   "source": [
    "# MinMaxScaler: 0~1 사이로 스케일 조정\n",
    "from sklearn.preprocessing import MinMaxScaler\n",
    "scaler = MinMaxScaler()\n",
    "scaler.fit(X_train)\n",
    "X_train_scaled = scaler.transform(X_train)\n",
    "X_test_scaled = scaler.transform(X_test)\n",
    "\n",
    "# 조정된 데이터로 SVM 학습\n",
    "svm.fit(X_train_scaled, y_train)\n",
    "\n",
    "# 스케일 조정된 테스트 세트의 정확도\n",
    "print('스케일 조정된 테스트 세트의 정확도(MinMaxScaler): {:.2f}'.format(svm.score(X_test_scaled, y_test)))"
   ]
  },
  {
   "cell_type": "markdown",
   "id": "df1cc69f",
   "metadata": {},
   "source": [
    "### 1.9 로그 스케일링 적용"
   ]
  },
  {
   "cell_type": "markdown",
   "id": "b454200f",
   "metadata": {},
   "source": [
    "#### 1.9.1 데이터 생성"
   ]
  },
  {
   "cell_type": "code",
   "execution_count": null,
   "id": "02e6d5a1",
   "metadata": {},
   "outputs": [],
   "source": [
    "rnd = np.random.RandomState(123)\n",
    "X_org = rnd.normal(size=(1000, 3))\n",
    "w = rnd.normal(size=3)\n",
    "\n",
    "X = rnd.poisson(10 * np.exp(X_org))\n",
    "y = np.dot(X_org, w)\n",
    "X"
   ]
  },
  {
   "cell_type": "markdown",
   "id": "e5b88f9e",
   "metadata": {},
   "source": [
    "#### 1.9.2 데이터 분포 - 히스토그램"
   ]
  },
  {
   "cell_type": "code",
   "execution_count": null,
   "id": "5fa26dfb",
   "metadata": {},
   "outputs": [],
   "source": [
    "plt.hist(X[:, 0], bins=25)\n",
    "plt.ylabel(\"출현 횟수\")\n",
    "plt.xlabel(\"값\")\n",
    "plt.show()"
   ]
  },
  {
   "cell_type": "markdown",
   "id": "4a99548a",
   "metadata": {},
   "source": [
    "#### 1.9.3 Ridge 알고리즘 학습 및 평가"
   ]
  },
  {
   "cell_type": "code",
   "execution_count": null,
   "id": "2de2e807",
   "metadata": {},
   "outputs": [],
   "source": [
    "from sklearn.model_selection import train_test_split\n",
    "X_train, X_test, y_train, y_test = train_test_split(X, y, random_state=123)\n",
    "\n",
    "from sklearn.linear_model import Ridge\n",
    "score = Ridge().fit(X_train, y_train).score(X_test, y_test)\n",
    "score"
   ]
  },
  {
   "cell_type": "markdown",
   "id": "7cc31a77",
   "metadata": {},
   "source": [
    "#### 1.9.4 로그 스케일링 적용"
   ]
  },
  {
   "cell_type": "code",
   "execution_count": null,
   "id": "0a934fdb",
   "metadata": {},
   "outputs": [],
   "source": [
    "X_train_log = np.log1p(X_train)\n",
    "X_test_log = np.log1p(X_test)"
   ]
  },
  {
   "cell_type": "markdown",
   "id": "720e4a2a",
   "metadata": {},
   "source": [
    "#### 1.9.5 로그 스케일링 적용된 데이터 분포 - 히스토그램"
   ]
  },
  {
   "cell_type": "code",
   "execution_count": null,
   "id": "f255ca5f",
   "metadata": {},
   "outputs": [],
   "source": [
    "plt.hist(X_train_log[:, 0], bins=25)\n",
    "plt.ylabel(\"출현 횟수\")\n",
    "plt.xlabel(\"값\")\n",
    "plt.show()"
   ]
  },
  {
   "cell_type": "markdown",
   "id": "caddc649",
   "metadata": {},
   "source": [
    "#### 1.9.6 Ridge 알고리즘 학습 및 평가 - 로그 스케일링 적용"
   ]
  },
  {
   "cell_type": "code",
   "execution_count": null,
   "id": "1cd91790",
   "metadata": {},
   "outputs": [],
   "source": [
    "score = Ridge().fit(X_train_log, y_train).score(X_test_log, y_test)\n",
    "score"
   ]
  },
  {
   "cell_type": "markdown",
   "id": "420e3eeb",
   "metadata": {},
   "source": [
    "# 2 Data Encoding\n",
    "- Feature(X값): 범주형 데이터\n",
    "- [scikit-learn preprocessing](https://scikit-learn.org/stable/modules/classes.html#module-sklearn.preprocessing)"
   ]
  },
  {
   "cell_type": "markdown",
   "id": "71033177",
   "metadata": {},
   "source": [
    "1. Label Encoding\n",
    "2. Ordinal Encoding\n",
    "3. One-hot Encoding\n",
    "4. [Mean Encoding](https://dailyheumsi.tistory.com/120)"
   ]
  },
  {
   "cell_type": "markdown",
   "id": "96d198f1",
   "metadata": {},
   "source": [
    "#### 데이터 로딩"
   ]
  },
  {
   "cell_type": "code",
   "execution_count": null,
   "id": "27627622",
   "metadata": {},
   "outputs": [],
   "source": [
    "df = pd.DataFrame({'col1': [70000, 64000, 72000, 59000, 57000, 67000, 62000 , 69000],\n",
    "                   'col2': ['TV','냉장고','전자렌지','컴퓨터','선풍기','선풍기','믹서','믹서']})\n",
    "df"
   ]
  },
  {
   "cell_type": "markdown",
   "id": "4a98abba",
   "metadata": {},
   "source": [
    "### 2.1 Label Encoding"
   ]
  },
  {
   "cell_type": "markdown",
   "id": "08aa8047",
   "metadata": {},
   "source": [
    "#### 2.1.1 판다스 이용"
   ]
  },
  {
   "cell_type": "code",
   "execution_count": null,
   "id": "1ae51e64",
   "metadata": {},
   "outputs": [],
   "source": [
    "cat = pd.Categorical(df['col2'])\n",
    "\n",
    "print('Categories:', list(cat.categories))\n",
    "print('Codes:     ', cat.codes)"
   ]
  },
  {
   "cell_type": "code",
   "execution_count": null,
   "id": "c4b6b78c",
   "metadata": {},
   "outputs": [],
   "source": [
    "df1 = df.copy()\n",
    "df1['col2_label'] = cat.codes\n",
    "df1"
   ]
  },
  {
   "cell_type": "markdown",
   "id": "5983f1ea",
   "metadata": {},
   "source": [
    "#### 2.1.2 인코더 생성 - scikit-learn 이용"
   ]
  },
  {
   "cell_type": "code",
   "execution_count": null,
   "id": "e1f1bdc7",
   "metadata": {},
   "outputs": [],
   "source": [
    "from sklearn.preprocessing import LabelEncoder\n",
    "encoder = LabelEncoder()"
   ]
  },
  {
   "cell_type": "markdown",
   "id": "89e44bd2",
   "metadata": {},
   "source": [
    "#### 2.1.3 인코더 학습 - 규칙 설정"
   ]
  },
  {
   "cell_type": "code",
   "execution_count": null,
   "id": "2f3b1b1e",
   "metadata": {},
   "outputs": [],
   "source": [
    "encoder.fit(df['col2'])"
   ]
  },
  {
   "cell_type": "markdown",
   "id": "a5c7e4ef",
   "metadata": {},
   "source": [
    "#### 2.1.4 데이터 변환"
   ]
  },
  {
   "cell_type": "code",
   "execution_count": null,
   "id": "bea7ee4b",
   "metadata": {},
   "outputs": [],
   "source": [
    "encoded = encoder.transform(df['col2'])"
   ]
  },
  {
   "cell_type": "code",
   "execution_count": null,
   "id": "2d5f8aaf",
   "metadata": {},
   "outputs": [],
   "source": [
    "print('Categories:', encoder.classes_)\n",
    "print('Codes:     ', encoded)\n",
    "print('Inverse:   ', encoder.inverse_transform(encoded))"
   ]
  },
  {
   "cell_type": "markdown",
   "id": "d0b759c3",
   "metadata": {},
   "source": [
    "#### 2.1.5 판다스(DataFrame)로 표현"
   ]
  },
  {
   "cell_type": "code",
   "execution_count": null,
   "id": "1d16a55f",
   "metadata": {},
   "outputs": [],
   "source": [
    "df_t = pd.DataFrame(encoded, columns=['col2_label'])\n",
    "pd.concat([df,df_t], axis=1)"
   ]
  },
  {
   "cell_type": "markdown",
   "id": "7fdd4947",
   "metadata": {},
   "source": [
    "### 2.2 Ordinal Encoding"
   ]
  },
  {
   "cell_type": "markdown",
   "id": "fab3ab0b",
   "metadata": {},
   "source": [
    "#### 2.2.1 인코더 생성 - scikit-learn 이용"
   ]
  },
  {
   "cell_type": "code",
   "execution_count": null,
   "id": "332ce26e",
   "metadata": {},
   "outputs": [],
   "source": [
    "from sklearn.preprocessing import OrdinalEncoder\n",
    "encoder = OrdinalEncoder()"
   ]
  },
  {
   "cell_type": "markdown",
   "id": "63417a6d",
   "metadata": {},
   "source": [
    "#### 2.2.2 인코더 학습 - 규칙 설정"
   ]
  },
  {
   "cell_type": "code",
   "execution_count": null,
   "id": "c294caaf",
   "metadata": {},
   "outputs": [],
   "source": [
    "encoder.fit(df[['col2']])"
   ]
  },
  {
   "cell_type": "markdown",
   "id": "3fc71a28",
   "metadata": {},
   "source": [
    "#### 2.2.3 데이터 변환"
   ]
  },
  {
   "cell_type": "code",
   "execution_count": null,
   "id": "73f0e79d",
   "metadata": {},
   "outputs": [],
   "source": [
    "encoded = encoder.transform(df[['col2']])"
   ]
  },
  {
   "cell_type": "code",
   "execution_count": null,
   "id": "5bde417a",
   "metadata": {},
   "outputs": [],
   "source": [
    "print('Categories:', encoder.categories_)\n",
    "print('Codes:     ', encoded.ravel())\n",
    "print('Inverse:   ', encoder.inverse_transform(encoded).ravel())"
   ]
  },
  {
   "cell_type": "markdown",
   "id": "761c9158",
   "metadata": {},
   "source": [
    "#### 2.2.4 판다스(DataFrame)로 표현"
   ]
  },
  {
   "cell_type": "code",
   "execution_count": null,
   "id": "a8059ce6",
   "metadata": {},
   "outputs": [],
   "source": [
    "df_t = pd.DataFrame(encoded, columns=['col2_ordinal'])\n",
    "pd.concat([df,df_t], axis=1)"
   ]
  },
  {
   "cell_type": "markdown",
   "id": "cd1a7162",
   "metadata": {},
   "source": [
    "### 2.3 One-hot Encoding"
   ]
  },
  {
   "cell_type": "markdown",
   "id": "ebe118f7",
   "metadata": {},
   "source": [
    "#### 2.3.1 판다스 이용"
   ]
  },
  {
   "cell_type": "code",
   "execution_count": null,
   "id": "f7b7cf3d",
   "metadata": {},
   "outputs": [],
   "source": [
    "pd.get_dummies(df, columns=['col2'])"
   ]
  },
  {
   "cell_type": "markdown",
   "id": "28c11b6f",
   "metadata": {},
   "source": [
    "#### 2.3.2 인코더 생성 - scikit-learn 이용"
   ]
  },
  {
   "cell_type": "code",
   "execution_count": null,
   "id": "1ee6f3c8",
   "metadata": {},
   "outputs": [],
   "source": [
    "from sklearn.preprocessing import OneHotEncoder\n",
    "encoder = OneHotEncoder(sparse=False)"
   ]
  },
  {
   "cell_type": "markdown",
   "id": "65ff13cd",
   "metadata": {},
   "source": [
    "#### 2.3.3 인코더 학습 - 규칙 설정"
   ]
  },
  {
   "cell_type": "code",
   "execution_count": null,
   "id": "42487f77",
   "metadata": {},
   "outputs": [],
   "source": [
    "encoder.fit(df[['col2']])"
   ]
  },
  {
   "cell_type": "markdown",
   "id": "85776e1c",
   "metadata": {},
   "source": [
    "#### 2.3.4 데이터 변환"
   ]
  },
  {
   "cell_type": "code",
   "execution_count": null,
   "id": "9b94080a",
   "metadata": {},
   "outputs": [],
   "source": [
    "encoded = encoder.transform(df[['col2']])"
   ]
  },
  {
   "cell_type": "code",
   "execution_count": null,
   "id": "23e80af6",
   "metadata": {},
   "outputs": [],
   "source": [
    "print('Categories:', encoder.categories_)\n",
    "print('Codes:     ', encoded)\n",
    "print('Inverse:   ', encoder.inverse_transform(encoded).ravel())"
   ]
  },
  {
   "cell_type": "code",
   "execution_count": null,
   "id": "7601ed2c",
   "metadata": {},
   "outputs": [],
   "source": [
    "# 컬럼 이름\n",
    "print(encoder.get_feature_names_out(['col2']))"
   ]
  },
  {
   "cell_type": "markdown",
   "id": "42b36531",
   "metadata": {},
   "source": [
    "#### 2.3.5 판다스(DataFrame)로 표현"
   ]
  },
  {
   "cell_type": "code",
   "execution_count": null,
   "id": "765f3ba2",
   "metadata": {},
   "outputs": [],
   "source": [
    "df_t = pd.DataFrame(encoded, columns=encoder.get_feature_names_out(['col2']))\n",
    "pd.concat([df,df_t], axis=1)"
   ]
  },
  {
   "cell_type": "markdown",
   "id": "95ad17a5",
   "metadata": {},
   "source": [
    "### 2.4 Mean Encoding"
   ]
  },
  {
   "cell_type": "markdown",
   "id": "a9a98764",
   "metadata": {},
   "source": [
    "[category_encoders](https://contrib.scikit-learn.org/category_encoders/)"
   ]
  },
  {
   "cell_type": "code",
   "execution_count": null,
   "id": "6769da9a",
   "metadata": {},
   "outputs": [],
   "source": [
    "#!pip install category_encoders"
   ]
  },
  {
   "cell_type": "markdown",
   "id": "ad97d436",
   "metadata": {},
   "source": [
    "#### 2.4.1 인코더 생성 - scikit-learn 이용"
   ]
  },
  {
   "cell_type": "code",
   "execution_count": null,
   "id": "8eb796d5",
   "metadata": {},
   "outputs": [],
   "source": [
    "from category_encoders.target_encoder import TargetEncoder\n",
    "encoder = TargetEncoder(return_df=False)"
   ]
  },
  {
   "cell_type": "markdown",
   "id": "f879a862",
   "metadata": {},
   "source": [
    "#### 2.4.2 인코더 학습 - 규칙 설정"
   ]
  },
  {
   "cell_type": "code",
   "execution_count": null,
   "id": "ddd39289",
   "metadata": {},
   "outputs": [],
   "source": [
    "encoder.fit(df['col2'], df['col1'])"
   ]
  },
  {
   "cell_type": "markdown",
   "id": "efbbec04",
   "metadata": {},
   "source": [
    "#### 2.4.3 데이터 변환"
   ]
  },
  {
   "cell_type": "code",
   "execution_count": null,
   "id": "63954775",
   "metadata": {},
   "outputs": [],
   "source": [
    "encoded = encoder.transform(df['col2'])"
   ]
  },
  {
   "cell_type": "code",
   "execution_count": null,
   "id": "ebdb7201",
   "metadata": {},
   "outputs": [],
   "source": [
    "print(encoded)"
   ]
  },
  {
   "cell_type": "markdown",
   "id": "8da7d0fd",
   "metadata": {},
   "source": [
    "#### 2.4.4 판다스(DataFrame)로 표현"
   ]
  },
  {
   "cell_type": "code",
   "execution_count": null,
   "id": "3e036d49",
   "metadata": {},
   "outputs": [],
   "source": [
    "df_t = pd.DataFrame(encoded, columns=['col2_mean'])\n",
    "pd.concat([df,df_t], axis=1)"
   ]
  },
  {
   "cell_type": "markdown",
   "id": "e3a33a2f",
   "metadata": {},
   "source": [
    "### 2.5 인코딩 적용 - 지도학습"
   ]
  },
  {
   "cell_type": "markdown",
   "id": "8136c221",
   "metadata": {},
   "source": [
    "#### 2.5.1 데이터 로딩"
   ]
  },
  {
   "cell_type": "code",
   "execution_count": null,
   "id": "54d4673a",
   "metadata": {},
   "outputs": [],
   "source": [
    "df_ad = pd.read_csv('data/adult.csv')\n",
    "df_ad = df_ad[['age', 'workclass', 'education', 'gender', 'hours-per-week', 'occupation', 'income']]\n",
    "df_ad"
   ]
  },
  {
   "cell_type": "markdown",
   "id": "52f0f6af",
   "metadata": {},
   "source": [
    "#### 2.5.2 데이터 변환: One-hot Encoding"
   ]
  },
  {
   "cell_type": "code",
   "execution_count": null,
   "id": "875d7898",
   "metadata": {},
   "outputs": [],
   "source": [
    "df_ohe = pd.get_dummies(df_ad)\n",
    "df_ohe"
   ]
  },
  {
   "cell_type": "markdown",
   "id": "25f494fb",
   "metadata": {},
   "source": [
    "#### 2.5.3 데이터 분할"
   ]
  },
  {
   "cell_type": "code",
   "execution_count": null,
   "id": "45a2513c",
   "metadata": {},
   "outputs": [],
   "source": [
    "from sklearn.model_selection import train_test_split\n",
    "\n",
    "X = df_ohe.drop(['income_ <=50K','income_ >50K'], axis=1)\n",
    "y = df_ohe['income_ >50K']\n",
    "\n",
    "X_train, X_test, y_train, y_test = train_test_split(X, y, random_state=123)"
   ]
  },
  {
   "cell_type": "markdown",
   "id": "eb1aecc2",
   "metadata": {},
   "source": [
    "#### 2.5.4 LogisticRegression - One-hot Encoding 적용"
   ]
  },
  {
   "cell_type": "code",
   "execution_count": null,
   "id": "571d5f0a",
   "metadata": {},
   "outputs": [],
   "source": [
    "from sklearn.linear_model import LogisticRegression\n",
    "\n",
    "# 모델 생성\n",
    "model = LogisticRegression(max_iter=5000)\n",
    "\n",
    "# 모델 학습\n",
    "model.fit(X_train, y_train)\n",
    "\n",
    "# 모델 평가\n",
    "model.score(X_test, y_test)"
   ]
  },
  {
   "cell_type": "markdown",
   "id": "1af730ed",
   "metadata": {},
   "source": [
    "# 3 ColumnTransformer\n",
    "- 컬럼별 스케일링, 인코딩 적용"
   ]
  },
  {
   "cell_type": "markdown",
   "id": "260b958f",
   "metadata": {},
   "source": [
    "### 3.1 컬럼별 스케일링, 인코딩 적용 - 지도학습"
   ]
  },
  {
   "cell_type": "markdown",
   "id": "63a2754b",
   "metadata": {},
   "source": [
    "#### 3.1.1 컬럼 변환기 생성"
   ]
  },
  {
   "cell_type": "code",
   "execution_count": null,
   "id": "53f620e1",
   "metadata": {},
   "outputs": [],
   "source": [
    "from sklearn.compose import ColumnTransformer\n",
    "from sklearn.preprocessing import StandardScaler\n",
    "from sklearn.preprocessing import OneHotEncoder\n",
    "\n",
    "ct = ColumnTransformer(\n",
    "    [('scaling', StandardScaler(), ['age', 'hours-per-week']),\n",
    "     ('onehot',  OneHotEncoder(sparse=False), ['workclass', 'education', 'gender', 'occupation'])])"
   ]
  },
  {
   "cell_type": "markdown",
   "id": "f167c6ed",
   "metadata": {},
   "source": [
    "#### 3.1.2 데이터 분할"
   ]
  },
  {
   "cell_type": "code",
   "execution_count": null,
   "id": "0e573e47",
   "metadata": {},
   "outputs": [],
   "source": [
    "from sklearn.model_selection import train_test_split\n",
    "\n",
    "X = df_ad.drop('income', axis=1)\n",
    "y = df_ad['income']\n",
    "\n",
    "X_train, X_test, y_train, y_test = train_test_split(X, y, random_state=123)"
   ]
  },
  {
   "cell_type": "markdown",
   "id": "ccdb32f4",
   "metadata": {},
   "source": [
    "#### 3.1.3 컬럼 변환(스케일링, 인코딩)"
   ]
  },
  {
   "cell_type": "code",
   "execution_count": null,
   "id": "b44d02e0",
   "metadata": {},
   "outputs": [],
   "source": [
    "# 컬럼 변환 학습(스케일링, 인코딩)\n",
    "ct.fit(X_train)\n",
    "\n",
    "# 데이터 변환\n",
    "X_train_trans = ct.transform(X_train)\n",
    "X_test_trans  = ct.transform(X_test)\n",
    "\n",
    "print(X_train_trans.shape)\n",
    "print(X_test_trans.shape)"
   ]
  },
  {
   "cell_type": "markdown",
   "id": "c6067df1",
   "metadata": {},
   "source": [
    "#### 3.1.4 LogisticRegression - 컬럼 변환 적용(스케일링, 인코딩)"
   ]
  },
  {
   "cell_type": "code",
   "execution_count": null,
   "id": "6434efc8",
   "metadata": {},
   "outputs": [],
   "source": [
    "from sklearn.linear_model import LogisticRegression\n",
    "\n",
    "# 모델 생성\n",
    "model = LogisticRegression(max_iter=1000)\n",
    "\n",
    "# 모델 학습\n",
    "model.fit(X_train_trans, y_train)\n",
    "\n",
    "# 모델 평가\n",
    "model.score(X_test_trans, y_test)"
   ]
  },
  {
   "cell_type": "markdown",
   "id": "2ad79947",
   "metadata": {},
   "source": [
    "#### 3.1.5 make_column_transformer 사용 (ColumnTransformer 생성)"
   ]
  },
  {
   "cell_type": "code",
   "execution_count": null,
   "id": "9cb704bc",
   "metadata": {},
   "outputs": [],
   "source": [
    "from sklearn.compose import make_column_transformer\n",
    "\n",
    "ct = make_column_transformer(\n",
    "    (StandardScaler(), ['age', 'hours-per-week']),\n",
    "    (OneHotEncoder(sparse=False), ['workclass', 'education', 'gender', 'occupation']))"
   ]
  },
  {
   "cell_type": "markdown",
   "id": "f076fa13",
   "metadata": {},
   "source": [
    "---"
   ]
  },
  {
   "cell_type": "code",
   "execution_count": null,
   "id": "810a4484",
   "metadata": {},
   "outputs": [],
   "source": [
    "# End of file"
   ]
  },
  {
   "cell_type": "code",
   "execution_count": null,
   "id": "85afea49",
   "metadata": {},
   "outputs": [],
   "source": []
  }
 ],
 "metadata": {
  "kernelspec": {
   "display_name": "Python 3 (ipykernel)",
   "language": "python",
   "name": "python3"
  },
  "language_info": {
   "codemirror_mode": {
    "name": "ipython",
    "version": 3
   },
   "file_extension": ".py",
   "mimetype": "text/x-python",
   "name": "python",
   "nbconvert_exporter": "python",
   "pygments_lexer": "ipython3",
   "version": "3.9.7"
  },
  "vp": {
   "vp_config_version": "1.0.0",
   "vp_menu_width": 273,
   "vp_note_display": true,
   "vp_note_width": 263,
   "vp_position": {
    "width": 541
   },
   "vp_section_display": false,
   "vp_signature": "VisualPython"
  }
 },
 "nbformat": 4,
 "nbformat_minor": 5
}
