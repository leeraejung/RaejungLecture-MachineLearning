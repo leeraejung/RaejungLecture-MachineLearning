{
 "cells": [
  {
   "cell_type": "markdown",
   "id": "3ebe5b9b",
   "metadata": {},
   "source": [
    "# 1. Machine Learning Package"
   ]
  },
  {
   "cell_type": "markdown",
   "id": "e861edf5",
   "metadata": {},
   "source": [
    "### 사이킷런(scikit-learn)\n",
    "\n",
    "![scikit-learn_logo](./data/scikit-learn_logo.png)"
   ]
  },
  {
   "cell_type": "markdown",
   "id": "d7cecc87",
   "metadata": {},
   "source": [
    "### 1.1 scikit-learn Documentation\n",
    "\n",
    "[Documentation](https://scikit-learn.org/stable/index.html)\n",
    "\n",
    "[User Guide](https://scikit-learn.org/stable/user_guide.html)\n",
    "\n",
    "[API Reference](https://scikit-learn.org/stable/modules/classes.html)\n",
    "\n",
    "[Tutorial](https://scikit-learn.org/stable/tutorial/index.html)\n",
    "\n",
    "[Examples](https://scikit-learn.org/stable/auto_examples/index.html)\n"
   ]
  },
  {
   "cell_type": "markdown",
   "id": "4be9fd80",
   "metadata": {},
   "source": [
    "### 1.2 scikit-learn 특징\n",
    "- 다양한 머신러닝 알고리즘을 구현한 파이썬 라이브러리\n",
    "- 심플하고 일관성 있는 API, 유용한 온라인 문서, 풍부한 예제\n",
    "- 머신러닝을 위한 쉽고 효율적인 개발 라이브러리 제공\n",
    "- 다양한 머신러닝 관련 알고리즘과 개발을 위한 프레임워크와 API 제공\n",
    "- 많은 사람들이 사용하며 다양한 환경에서 검증된 라이브러리"
   ]
  },
  {
   "cell_type": "markdown",
   "id": "af847c34",
   "metadata": {},
   "source": [
    "### 1.3 scikit-learn 주요 모듈\n",
    "모듈 | 설명\n",
    ":--- |:---\n",
    "sklearn.datasets | 내장된 예제 데이터 세트\n",
    "sklearn.preprocessing | 다양한 데이터 전처리 기능 제공 (변환, 정규화, 스케일링 등)\n",
    "sklearn.feature_selection | 특징(feature)를 선택할 수 있는 기능 제공\n",
    "sklearn.feature_extraction | 특징(feature) 추출에 사용\n",
    "sklearn.decomposition | 차원 축소 관련 알고리즘 지원 (PCA, NMF, Truncated SVD 등)\n",
    "sklearn.model_selection | 교차 검증을 위해 데이터를 학습/테스트용으로 분리, 최적 파라미터를 추출하는 API 제공 (GridSearch\n",
    "sklearn.metrics | 분류, 회귀, 클러스터링, Pairwise에 대한 다양한 성능 측정 방법 제공 (Accuracy, Precision, Recall, ROC\n",
    "sklearn.pipeline | 특징 처리 등의 변환과 ML 알고리즘 학습, 예측 등을 묶어서 실행할 수 있는 유틸리티 제공\n",
    "sklearn.linear_model | 선형 회귀, 릿지(Ridge), 라쏘(Lasso), 로지스틱 회귀 등 회귀 관련 알고리즘과 SGD(Stochastic Gradien\n",
    "sklearn.svm | 서포트 벡터 머신 알고리즘 제공\n",
    "sklearn.neighbors | 최근접 이웃 알고리즘 제공 (k-NN 등)\n",
    "sklearn.naive_bayes | 나이브 베이즈 알고리즘 제공 (가우시안 NB, 다항 분포 NB 등)\n",
    "sklearn.tree | 의사 결정 트리 알고리즘 제공\n",
    "sklearn.ensemble | 앙상블 알고리즘 제공 (Random Forest, AdaBoost, GradientBoost 등)\n",
    "sklearn.cluster | 비지도 클러스터링 알고리즘 제공 (k-Means, 계층형 클러스터링, DBSCAN 등)"
   ]
  },
  {
   "cell_type": "markdown",
   "id": "f91c4ec7",
   "metadata": {},
   "source": [
    "### 1.4 scikit-learn API 특징\n",
    "- 일관성: 모든 객체는 일관된 문서를 갖춘 제한된 메서드 집합에서 비롯된 공통 인터페이스 공유\n",
    "- 검사(inspection): 모든 지정된 파라미터 값은 공개 속성으로 노출\n",
    "- 제한된 객체 계층 구조\n",
    "  - 알고리즘만 파이썬 클래스에 의해 표현\n",
    "  - 데이터 세트는 표준 포맷(NumPy 배열, Pandas DataFrame, Scipy 희소 행렬)으로 표현\n",
    "  - 매개변수명은 표준 파이썬 문자열 사용\n",
    "- 구성: 많은 머신러닝 작업은 기본 알고리즘의 시퀀스로 나타낼 수 있으며, Scikit-Learn은 가능한 곳이라면 어디서든 이 방식을 사용\n",
    "- 합리적인 기본값: 모델이 사용자 지정 파라미터를 필요로 할 때 라이브러리가 적절한 기본값을 정의"
   ]
  },
  {
   "cell_type": "markdown",
   "id": "58891171",
   "metadata": {},
   "source": [
    "### 1.5 scikit-learn API 사용방법\n",
    "1. scikit-learn으로부터 적절한 estimator 클래스를 임포트해서 모델의 클래스 선택\n",
    "2. 클래스를 원하는 값으로 인스턴스화해서 모델의 하이퍼파라미터 선택\n",
    "3. 데이터를 특징 배열과 대상 벡터로 배치\n",
    "4. 모델 인스턴스의 fit() 메서드를 호출해 모델을 데이터에 적합\n",
    "5. 모델을 새 데이터에 대해서 적용\n",
    "  - 지도 학습: 대체로 predict() 메서드를 사용해 알려지지 않은 데이터에 대한 레이블 예측\n",
    "  - 비지도 학습: 대체로 transform() 이나 predict() 메서드를 사용해 데이터의 속성을 변환하거나 추론"
   ]
  },
  {
   "cell_type": "markdown",
   "id": "e2ce31d9",
   "metadata": {},
   "source": [
    "### 1.6 내장된 예제 데이터 세트"
   ]
  },
  {
   "cell_type": "markdown",
   "id": "1ab4d6cf",
   "metadata": {},
   "source": [
    "- 회귀나 분류 연습용 예제 데이터\n",
    "API 명 | 설명\n",
    ":--- |:---\n",
    "datasets.load_boston() | 회귀 용도이며, 미국 보스턴의 집 피처들과 가격에 대한 데이터 세트\n",
    "datasets.load_breast_cancer() | 분류 용도이며, 위스콘신 유방암 피처들과 악성/음성 레이블 데이터 세트\n",
    "datasets.load_diabetes() | 회귀 용도이며, 당뇨 데이터 세트\n",
    "datasets.load_digits() | 분류 용도이며, 0에서 9까지 숫자의 이미지 픽셀 데이터 세트\n",
    "datasets.load_iris() | 분류 용도이며, 붓꽃에 대한 피처를 가진 데이터 세트"
   ]
  },
  {
   "cell_type": "markdown",
   "id": "3cf8bc8a",
   "metadata": {},
   "source": [
    "- 분류와 클러스터링을 위한 표본 데이터 생성기\n",
    "API 명 | 설명\n",
    ":--- |:---\n",
    "datasets.make_classifications() | 분류를 위한 데이터 세트를 생성\n",
    " | 특히 높은 상관도, 불필요한 속성 등의 노이즈 효과를 위한 데이터를 무작위로 생성\n",
    "datasets.make_blobs() | 클러스터링을 위한 데이터 세트를 무작위로 생성\n",
    "  | 군집 지정 개수에 따라 여러 가지 클러스터링을 위한 데이터 세트를 생성\n",
    "datasets.make_circles() | 원 모양의 클러스터 데이터를 생성\n",
    "  | 군집 지정 개수에 따라 여러 가지 클러스터링을 위한 데이터 세트를 생성\n",
    "datasets.moons() | 초승달 모양 클러스터 두 개 형상의 데이터를 생성\n",
    "  | 군집 지정 개수에 따라 여러 가지 클러스터링을 위한 데이터 세트를 생성"
   ]
  },
  {
   "cell_type": "markdown",
   "id": "19b9a5da",
   "metadata": {},
   "source": [
    "### 1.7 예제 데이터 세트 구조\n",
    "- 파이썬 딕셔너리와 비슷한 bunch 형태로 구성\n",
    "- data: 특징 데이터 세트\n",
    "- target: 분류용은 레이블 값, 회귀용은 숫자 결과값 데이터\n",
    "- target_names: 개별 레이블의 이름 (분류용)\n",
    "- feature_names: 특징 이름\n",
    "- DESCR: 데이터 세트에 대한 설명과 각 특징 설명"
   ]
  },
  {
   "cell_type": "markdown",
   "id": "f2528923",
   "metadata": {},
   "source": [
    "### 1.8 예제 데이터 세트 불러오기"
   ]
  },
  {
   "cell_type": "code",
   "execution_count": null,
   "id": "f1a48413",
   "metadata": {},
   "outputs": [],
   "source": [
    "import numpy as np\n",
    "import pandas as pd\n",
    "import matplotlib.pyplot as plt\n",
    "import seaborn as sns\n",
    "\n",
    "import mglearn\n",
    "\n",
    "plt.rc('figure', figsize=(10, 6))\n",
    "\n",
    "from matplotlib import rcParams\n",
    "rcParams['font.family'] = 'New Gulim'\n",
    "rcParams['font.size'] = 10\n",
    "rcParams['axes.unicode_minus'] = False"
   ]
  },
  {
   "cell_type": "markdown",
   "id": "5ca72570",
   "metadata": {},
   "source": [
    "#### 1.8.1 회귀 예제 데이터 - diabetes"
   ]
  },
  {
   "cell_type": "code",
   "execution_count": null,
   "id": "a50ca075",
   "metadata": {},
   "outputs": [],
   "source": [
    "from sklearn.datasets import load_diabetes\n",
    "diabetes = load_diabetes()"
   ]
  },
  {
   "cell_type": "code",
   "execution_count": null,
   "id": "a689b314",
   "metadata": {},
   "outputs": [],
   "source": [
    "print(diabetes.keys())"
   ]
  },
  {
   "cell_type": "code",
   "execution_count": null,
   "id": "c9ebc3eb",
   "metadata": {},
   "outputs": [],
   "source": [
    "# Creaate DataFrame\n",
    "df_diabetes = pd.DataFrame(data=diabetes.data, columns=diabetes.feature_names)\n",
    "df_diabetes['target'] = diabetes.target\n",
    "df_diabetes"
   ]
  },
  {
   "cell_type": "markdown",
   "id": "8b0a31aa",
   "metadata": {},
   "source": [
    "#### 1.8.2 분류 예제 데이터 - breast_cancer"
   ]
  },
  {
   "cell_type": "code",
   "execution_count": null,
   "id": "56553186",
   "metadata": {},
   "outputs": [],
   "source": [
    "from sklearn.datasets import load_breast_cancer\n",
    "bc = load_breast_cancer()"
   ]
  },
  {
   "cell_type": "code",
   "execution_count": null,
   "id": "2acee409",
   "metadata": {},
   "outputs": [],
   "source": [
    "print(bc.keys())"
   ]
  },
  {
   "cell_type": "code",
   "execution_count": null,
   "id": "191bd5dd",
   "metadata": {},
   "outputs": [],
   "source": [
    "print(bc.target_names)"
   ]
  },
  {
   "cell_type": "code",
   "execution_count": null,
   "id": "0fe40493",
   "metadata": {},
   "outputs": [],
   "source": [
    "# Creaate DataFrame\n",
    "df_bc = pd.DataFrame(data=bc.data, columns=bc.feature_names)\n",
    "df_bc['target'] = bc.target\n",
    "df_bc"
   ]
  },
  {
   "cell_type": "markdown",
   "id": "c671e95e",
   "metadata": {},
   "source": [
    "#### 1.8.3 분류 예제 데이터 생성 - make_classification()"
   ]
  },
  {
   "cell_type": "code",
   "execution_count": null,
   "id": "892a201e",
   "metadata": {},
   "outputs": [],
   "source": [
    "from sklearn.datasets import make_classification\n",
    "X, y = make_classification(n_features=2, n_informative=1, n_redundant=0, n_clusters_per_class=1, random_state=123)"
   ]
  },
  {
   "cell_type": "code",
   "execution_count": null,
   "id": "60477ef3",
   "metadata": {},
   "outputs": [],
   "source": [
    "# Creaate DataFrame\n",
    "df_class = pd.DataFrame(data=X, columns=['X1','X2'])\n",
    "df_class['target'] = y\n",
    "df_class"
   ]
  },
  {
   "cell_type": "code",
   "execution_count": null,
   "id": "291d54eb",
   "metadata": {},
   "outputs": [],
   "source": [
    "plt.scatter(x=df_class['X1'], y=df_class['X2'], c= df_class['target'])\n",
    "plt.show()"
   ]
  },
  {
   "cell_type": "markdown",
   "id": "38e5e9fc",
   "metadata": {},
   "source": [
    "#### 1.8.4 군집 예제 데이터 생성 - make_blobs()"
   ]
  },
  {
   "cell_type": "code",
   "execution_count": null,
   "id": "92c4a63d",
   "metadata": {},
   "outputs": [],
   "source": [
    "from sklearn.datasets import make_blobs\n",
    "X, y = make_blobs(n_samples=200, n_features=2, centers=3, cluster_std=0.8, random_state=123)"
   ]
  },
  {
   "cell_type": "code",
   "execution_count": null,
   "id": "cdfa2e99",
   "metadata": {},
   "outputs": [],
   "source": [
    "# Creaate DataFrame\n",
    "df_blobs = pd.DataFrame(data=X, columns=['X1','X2'])\n",
    "df_blobs['target'] = y\n",
    "df_blobs"
   ]
  },
  {
   "cell_type": "code",
   "execution_count": null,
   "id": "d4bae163",
   "metadata": {},
   "outputs": [],
   "source": [
    "plt.scatter(x=df_blobs['X1'], y=df_blobs['X2'], c= df_blobs['target'])\n",
    "plt.show()"
   ]
  },
  {
   "cell_type": "markdown",
   "id": "347d7ea5",
   "metadata": {},
   "source": [
    "# 2. Machine Learning Application"
   ]
  },
  {
   "cell_type": "markdown",
   "id": "c1650e5c",
   "metadata": {},
   "source": [
    "### 2.1 머신러닝 프로세스\n",
    "1. **데이터 세트 분리:** 데이터를 학습 데이터와 테스트 데이터로 분리\n",
    "2. **모델 학습:** 학습 데이터를 기반으로 ML 알고리즘을 적용해 모델을 학습\n",
    "3. **결과 예측:** 학습된 ML 모델을 이용해 테스트 데이터의 분류(붓꽃 종류)를 예측\n",
    "4. **평가:** 예측된 결과값과 테스트 데이터의 실제 결과값을 비교해 ML 모델 성능 평가"
   ]
  },
  {
   "cell_type": "markdown",
   "id": "3c8932e2",
   "metadata": {},
   "source": [
    "### 2.2 붓꽃 분류\n",
    "- 지도학습\n",
    "- 꽃잎(petal)과 꽃받침(sepal)의 폭과 길이 값만 보고 붓꽃의 종류를 분류하는 문제\n",
    "- 붓 꽃의 종류(품종): setosa, versicolor, virginica"
   ]
  },
  {
   "cell_type": "markdown",
   "id": "64831b31",
   "metadata": {},
   "source": [
    "#### 2.2.1 데이터 로딩"
   ]
  },
  {
   "cell_type": "code",
   "execution_count": null,
   "id": "e7c74e20",
   "metadata": {
    "scrolled": true
   },
   "outputs": [],
   "source": [
    "from sklearn.datasets import load_iris\n",
    "iris = load_iris()"
   ]
  },
  {
   "cell_type": "code",
   "execution_count": null,
   "id": "c003a94f",
   "metadata": {},
   "outputs": [],
   "source": [
    "print(iris.keys())"
   ]
  },
  {
   "cell_type": "code",
   "execution_count": null,
   "id": "68156d2e",
   "metadata": {},
   "outputs": [],
   "source": [
    "print(iris.target_names)"
   ]
  },
  {
   "cell_type": "code",
   "execution_count": null,
   "id": "e5623b6d",
   "metadata": {},
   "outputs": [],
   "source": [
    "col_list = iris.feature_names"
   ]
  },
  {
   "cell_type": "code",
   "execution_count": null,
   "id": "47503541",
   "metadata": {},
   "outputs": [],
   "source": [
    "# Creaate DataFrame\n",
    "df_iris = pd.DataFrame(data=iris.data, columns=iris.feature_names)\n",
    "df_iris['target'] = iris.target\n",
    "df_iris"
   ]
  },
  {
   "cell_type": "markdown",
   "id": "0d572b7c",
   "metadata": {},
   "source": [
    "#### 2.2.2 데이터 탐색"
   ]
  },
  {
   "cell_type": "code",
   "execution_count": null,
   "id": "a0f009ed",
   "metadata": {
    "scrolled": true
   },
   "outputs": [],
   "source": [
    "print(iris['DESCR'])"
   ]
  },
  {
   "cell_type": "code",
   "execution_count": null,
   "id": "1aaafcf5",
   "metadata": {},
   "outputs": [],
   "source": [
    "pd.plotting.scatter_matrix(df_iris[col_list], c=df_iris['target'],\n",
    "                           figsize=(15, 15), marker='o', hist_kwds={'bins': 20}, s=60, alpha=0.8 )\n",
    "plt.show()"
   ]
  },
  {
   "cell_type": "markdown",
   "id": "67179fa0",
   "metadata": {},
   "source": [
    "#### 2.2.3 데이터 분할: 학습 데이터 + 테스트 데이터"
   ]
  },
  {
   "cell_type": "code",
   "execution_count": null,
   "id": "f9754588",
   "metadata": {},
   "outputs": [],
   "source": [
    "from sklearn.model_selection import train_test_split\n",
    "X_train, X_test, y_train, y_test = train_test_split(df_iris[col_list], df_iris['target'], random_state=123)"
   ]
  },
  {
   "cell_type": "code",
   "execution_count": null,
   "id": "d0583437",
   "metadata": {},
   "outputs": [],
   "source": [
    "print(\"X_train 크기:\", X_train.shape)\n",
    "print(\"y_train 크기:\", y_train.shape)"
   ]
  },
  {
   "cell_type": "code",
   "execution_count": null,
   "id": "bc206c88",
   "metadata": {},
   "outputs": [],
   "source": [
    "print(\"X_test 크기:\", X_test.shape)\n",
    "print(\"y_test 크기:\", y_test.shape)"
   ]
  },
  {
   "cell_type": "markdown",
   "id": "9d9f0396",
   "metadata": {
    "collapsed": true
   },
   "source": [
    "#### 2.2.4 모델 생성"
   ]
  },
  {
   "cell_type": "code",
   "execution_count": null,
   "id": "c5ca08cb",
   "metadata": {},
   "outputs": [],
   "source": [
    "from sklearn.tree import DecisionTreeClassifier\n",
    "model = DecisionTreeClassifier()"
   ]
  },
  {
   "cell_type": "markdown",
   "id": "e1dc82f2",
   "metadata": {
    "collapsed": true
   },
   "source": [
    "#### 2.2.5 모델 학습"
   ]
  },
  {
   "cell_type": "code",
   "execution_count": null,
   "id": "4ba6ed17",
   "metadata": {},
   "outputs": [],
   "source": [
    "model.fit(X_train, y_train)"
   ]
  },
  {
   "cell_type": "markdown",
   "id": "d400c186",
   "metadata": {
    "collapsed": true
   },
   "source": [
    "#### 2.2.6 결과 예측"
   ]
  },
  {
   "cell_type": "code",
   "execution_count": null,
   "id": "e817861f",
   "metadata": {},
   "outputs": [],
   "source": [
    "pred = model.predict(X_test)\n",
    "pred"
   ]
  },
  {
   "cell_type": "markdown",
   "id": "12f3d0dc",
   "metadata": {
    "collapsed": true
   },
   "source": [
    "#### 2.2.7 모델  평가"
   ]
  },
  {
   "cell_type": "code",
   "execution_count": null,
   "id": "2a64174e",
   "metadata": {},
   "outputs": [],
   "source": [
    "from sklearn import metrics\n",
    "print('Accuracy:', metrics.accuracy_score(pred, y_test))"
   ]
  },
  {
   "cell_type": "markdown",
   "id": "4c4f8ccd",
   "metadata": {
    "collapsed": true
   },
   "source": [
    "#### 2.2.8 새로운 데이터 예측"
   ]
  },
  {
   "cell_type": "code",
   "execution_count": null,
   "id": "cd23699d",
   "metadata": {},
   "outputs": [],
   "source": [
    "# 데이터 생성\n",
    "X_new = pd.DataFrame(np.array([[5, 2.9, 1, 0.2], [4,2,3,4], [3,5,4,1]]), columns=iris.feature_names)\n",
    "X_new"
   ]
  },
  {
   "cell_type": "code",
   "execution_count": null,
   "id": "5b21359d",
   "metadata": {},
   "outputs": [],
   "source": [
    "# 품종 예측(0, 1, 2)\n",
    "pred_new = model.predict(X_new)\n",
    "pred_new"
   ]
  },
  {
   "cell_type": "code",
   "execution_count": null,
   "id": "7dd9fc6a",
   "metadata": {},
   "outputs": [],
   "source": [
    "# 품종 이름 출력\n",
    "print(iris['target_names'][pred_new])"
   ]
  },
  {
   "cell_type": "markdown",
   "id": "b6637df5",
   "metadata": {},
   "source": [
    "# 3. Cross Validation(교차 검증)"
   ]
  },
  {
   "cell_type": "code",
   "execution_count": null,
   "id": "c31f0744",
   "metadata": {
    "hide_input": false
   },
   "outputs": [],
   "source": [
    "mglearn.plots.plot_cross_validation()"
   ]
  },
  {
   "cell_type": "markdown",
   "id": "acf45deb",
   "metadata": {},
   "source": [
    "### 3.1 cross_val_score"
   ]
  },
  {
   "cell_type": "code",
   "execution_count": null,
   "id": "41ad5cf5",
   "metadata": {},
   "outputs": [],
   "source": [
    "from sklearn.model_selection import cross_val_score\n",
    "scores = cross_val_score(model, df_iris[col_list], df_iris['target'], cv=5)\n",
    "\n",
    "print('교차 검증 점수:', scores)\n",
    "print('교차 검증 평균 점수: {:.2f}'.format(scores.mean()))"
   ]
  },
  {
   "cell_type": "markdown",
   "id": "7fbaf77a",
   "metadata": {},
   "source": [
    "### 3.2 cross_validate"
   ]
  },
  {
   "cell_type": "code",
   "execution_count": null,
   "id": "3f16dbc8",
   "metadata": {},
   "outputs": [],
   "source": [
    "from sklearn.model_selection import cross_validate\n",
    "res = cross_validate(model, df_iris[col_list], df_iris['target'], return_train_score=True)"
   ]
  },
  {
   "cell_type": "code",
   "execution_count": null,
   "id": "af98b783",
   "metadata": {},
   "outputs": [],
   "source": [
    "df_res = pd.DataFrame(res)\n",
    "df_res"
   ]
  },
  {
   "cell_type": "code",
   "execution_count": null,
   "id": "d4e1fe6d",
   "metadata": {},
   "outputs": [],
   "source": [
    "# 평균\n",
    "df_res.mean()"
   ]
  },
  {
   "cell_type": "markdown",
   "id": "57c95e68",
   "metadata": {},
   "source": [
    "### 3.3 다양한 데이터 분할 방법"
   ]
  },
  {
   "cell_type": "markdown",
   "id": "a3cbf614",
   "metadata": {},
   "source": [
    "#### 3.3.1 k-fold"
   ]
  },
  {
   "cell_type": "code",
   "execution_count": null,
   "id": "99eac349",
   "metadata": {},
   "outputs": [],
   "source": [
    "from sklearn.model_selection import KFold\n",
    "kfold = KFold(n_splits=5)"
   ]
  },
  {
   "cell_type": "code",
   "execution_count": null,
   "id": "6fa3f5b6",
   "metadata": {},
   "outputs": [],
   "source": [
    "scores = cross_val_score(model, df_iris[col_list], df_iris['target'], cv=kfold)\n",
    "\n",
    "print('교차 검증 점수:', scores)\n",
    "print('교차 검증 평균 점수: {:.2f}'.format(scores.mean()))"
   ]
  },
  {
   "cell_type": "markdown",
   "id": "8d3bfed9",
   "metadata": {},
   "source": [
    "#### 3.3.2  k-fold - shuffle"
   ]
  },
  {
   "cell_type": "code",
   "execution_count": null,
   "id": "3378cac2",
   "metadata": {},
   "outputs": [],
   "source": [
    "from sklearn.model_selection import KFold\n",
    "kfold = KFold(n_splits=5, shuffle=True, random_state=123)"
   ]
  },
  {
   "cell_type": "code",
   "execution_count": null,
   "id": "abe913fc",
   "metadata": {},
   "outputs": [],
   "source": [
    "scores = cross_val_score(model, df_iris[col_list], df_iris['target'], cv=kfold)\n",
    "\n",
    "print('교차 검증 점수:', scores)\n",
    "print('교차 검증 평균 점수: {:.2f}'.format(scores.mean()))"
   ]
  },
  {
   "cell_type": "markdown",
   "id": "ef93db06",
   "metadata": {},
   "source": [
    "#### 3.3.3 Stratified k-fold"
   ]
  },
  {
   "cell_type": "code",
   "execution_count": null,
   "id": "7a5630f2",
   "metadata": {},
   "outputs": [],
   "source": [
    "df_iris['target'].values"
   ]
  },
  {
   "cell_type": "code",
   "execution_count": null,
   "id": "95b5cba6",
   "metadata": {
    "hide_input": false
   },
   "outputs": [],
   "source": [
    "mglearn.plots.plot_stratified_cross_validation()"
   ]
  },
  {
   "cell_type": "code",
   "execution_count": null,
   "id": "07cdf9ab",
   "metadata": {},
   "outputs": [],
   "source": [
    "from sklearn.model_selection import StratifiedKFold\n",
    "s_kfold = StratifiedKFold(n_splits=5)"
   ]
  },
  {
   "cell_type": "code",
   "execution_count": null,
   "id": "6a8d84e7",
   "metadata": {},
   "outputs": [],
   "source": [
    "scores = cross_val_score(model, df_iris[col_list], df_iris['target'], cv=s_kfold)\n",
    "\n",
    "print('교차 검증 점수:', scores)\n",
    "print('교차 검증 평균 점수: {:.2f}'.format(scores.mean()))"
   ]
  },
  {
   "cell_type": "markdown",
   "id": "30c649c5",
   "metadata": {},
   "source": [
    "#### 3.3.4 LOOCV(Leave-One-Out cross-validation)"
   ]
  },
  {
   "cell_type": "code",
   "execution_count": null,
   "id": "64dbc27c",
   "metadata": {},
   "outputs": [],
   "source": [
    "from sklearn.model_selection import LeaveOneOut\n",
    "loo = LeaveOneOut()"
   ]
  },
  {
   "cell_type": "code",
   "execution_count": null,
   "id": "57d64526",
   "metadata": {},
   "outputs": [],
   "source": [
    "scores = cross_val_score(model, df_iris[col_list], df_iris['target'], cv=loo)\n",
    "\n",
    "print('교차 검증 분할 횟수: ', len(scores))\n",
    "print('교차 검증 평균 점수: {:.2f}'.format(scores.mean()))"
   ]
  },
  {
   "cell_type": "markdown",
   "id": "8c3558d4",
   "metadata": {},
   "source": [
    "#### 3.3.5 Shuffle-split cross-validation (임의 분할 교차 검증)"
   ]
  },
  {
   "cell_type": "code",
   "execution_count": null,
   "id": "c3f4d1d7",
   "metadata": {
    "hide_input": false,
    "scrolled": true
   },
   "outputs": [],
   "source": [
    "mglearn.plots.plot_shuffle_split()"
   ]
  },
  {
   "cell_type": "code",
   "execution_count": null,
   "id": "1e1a3125",
   "metadata": {},
   "outputs": [],
   "source": [
    "from sklearn.model_selection import ShuffleSplit\n",
    "sh_split = ShuffleSplit(test_size=.5, train_size=.5, n_splits=10)"
   ]
  },
  {
   "cell_type": "code",
   "execution_count": null,
   "id": "341af497",
   "metadata": {},
   "outputs": [],
   "source": [
    "scores = cross_val_score(model, df_iris[col_list], df_iris['target'], cv=sh_split)\n",
    "\n",
    "print('교차 검증 점수: ', scores)"
   ]
  },
  {
   "cell_type": "markdown",
   "id": "0804d4a3",
   "metadata": {},
   "source": [
    "#### 3.3.6 Group k-fold (그룹별 교차 검증)"
   ]
  },
  {
   "cell_type": "code",
   "execution_count": null,
   "id": "d1f67a2c",
   "metadata": {
    "hide_input": false,
    "scrolled": true
   },
   "outputs": [],
   "source": [
    "mglearn.plots.plot_group_kfold()"
   ]
  },
  {
   "cell_type": "code",
   "execution_count": null,
   "id": "ea29bd51",
   "metadata": {},
   "outputs": [],
   "source": [
    "from sklearn.model_selection import GroupKFold\n",
    "group_kfold = GroupKFold(n_splits=3)"
   ]
  },
  {
   "cell_type": "code",
   "execution_count": null,
   "id": "bd1be7fb",
   "metadata": {},
   "outputs": [],
   "source": [
    "# 데이터 생성, 그룹 설정\n",
    "X, y = make_blobs(n_samples=12, random_state=0)\n",
    "groups = [0, 0, 0, 1, 1, 1, 1, 2, 2, 3, 3, 3]"
   ]
  },
  {
   "cell_type": "code",
   "execution_count": null,
   "id": "aa532628",
   "metadata": {},
   "outputs": [],
   "source": [
    "scores = cross_val_score(model, X, y, groups=groups, cv=group_kfold)\n",
    "\n",
    "print('교차 검증 점수: ', scores)"
   ]
  },
  {
   "cell_type": "markdown",
   "id": "e3f0faeb",
   "metadata": {},
   "source": [
    "# 4. Grid Search\n",
    "- Hyperparameter 튜닝"
   ]
  },
  {
   "cell_type": "markdown",
   "id": "61d89cbc",
   "metadata": {},
   "source": [
    "링크 연결 - 설명을 위해"
   ]
  },
  {
   "cell_type": "code",
   "execution_count": null,
   "id": "e34c36c3",
   "metadata": {
    "hide_input": false,
    "scrolled": false
   },
   "outputs": [],
   "source": [
    "mglearn.plots.plot_threefold_split()"
   ]
  },
  {
   "cell_type": "markdown",
   "id": "85c79deb",
   "metadata": {},
   "source": [
    "### 4.1 Grid Search 실행"
   ]
  },
  {
   "cell_type": "code",
   "execution_count": null,
   "id": "0b359846",
   "metadata": {},
   "outputs": [],
   "source": [
    "from sklearn.model_selection import GridSearchCV\n",
    "from sklearn.svm import SVC"
   ]
  },
  {
   "cell_type": "markdown",
   "id": "adebea6b",
   "metadata": {
    "collapsed": true
   },
   "source": [
    "#### 4.1.1 파라미터 설정"
   ]
  },
  {
   "cell_type": "code",
   "execution_count": null,
   "id": "aab7f47f",
   "metadata": {},
   "outputs": [],
   "source": [
    "param_grid = {'C': [0.001, 0.01, 0.1, 1, 10, 100],\n",
    "              'gamma': [0.001, 0.01, 0.1, 1, 10, 100]}"
   ]
  },
  {
   "cell_type": "markdown",
   "id": "17cfef21",
   "metadata": {
    "collapsed": true
   },
   "source": [
    "#### 4.1.2 모델 생성"
   ]
  },
  {
   "cell_type": "code",
   "execution_count": null,
   "id": "ed193dba",
   "metadata": {},
   "outputs": [],
   "source": [
    "gs = GridSearchCV(SVC(), param_grid=param_grid, cv=5, return_train_score=True)"
   ]
  },
  {
   "cell_type": "markdown",
   "id": "c8660806",
   "metadata": {
    "collapsed": true
   },
   "source": [
    "#### 4.1.3 모델 학습"
   ]
  },
  {
   "cell_type": "code",
   "execution_count": null,
   "id": "9015b850",
   "metadata": {},
   "outputs": [],
   "source": [
    "%%time\n",
    "gs.fit(X_train, y_train)"
   ]
  },
  {
   "cell_type": "markdown",
   "id": "5c06b231",
   "metadata": {
    "collapsed": true
   },
   "source": [
    "#### 4.1.4 모델 평가"
   ]
  },
  {
   "cell_type": "code",
   "execution_count": null,
   "id": "e11d7cd4",
   "metadata": {},
   "outputs": [],
   "source": [
    "# 테스트 데이터 점수\n",
    "gs.score(X_test, y_test)"
   ]
  },
  {
   "cell_type": "code",
   "execution_count": null,
   "id": "9667d562",
   "metadata": {},
   "outputs": [],
   "source": [
    "# 최적 매개 변수\n",
    "gs.best_params_"
   ]
  },
  {
   "cell_type": "code",
   "execution_count": null,
   "id": "a79adae3",
   "metadata": {},
   "outputs": [],
   "source": [
    "# 최고 점수\n",
    "gs.best_score_"
   ]
  },
  {
   "cell_type": "code",
   "execution_count": null,
   "id": "aed83c93",
   "metadata": {},
   "outputs": [],
   "source": [
    "# 최소 성능 모델\n",
    "gs.best_estimator_"
   ]
  },
  {
   "cell_type": "markdown",
   "id": "3d6c91c2",
   "metadata": {},
   "source": [
    "#### 4.1.5 Grid Search 결과 분석"
   ]
  },
  {
   "cell_type": "code",
   "execution_count": null,
   "id": "d2fb33d8",
   "metadata": {},
   "outputs": [],
   "source": [
    "df = pd.DataFrame(gs.cv_results_)\n",
    "df.T"
   ]
  },
  {
   "cell_type": "markdown",
   "id": "0a30cdcb",
   "metadata": {},
   "source": [
    "#### 4.1.6 Grid Search 평균 점수 히트맵 그래프"
   ]
  },
  {
   "cell_type": "code",
   "execution_count": null,
   "id": "e101c42c",
   "metadata": {},
   "outputs": [],
   "source": [
    "scores = np.array(df.mean_test_score).reshape(6, 6)\n",
    "\n",
    "mglearn.tools.heatmap(scores, xlabel='gamma', xticklabels=param_grid['gamma'],\n",
    "                      ylabel='C', yticklabels=param_grid['C'], cmap=\"viridis\")\n",
    "plt.show()"
   ]
  },
  {
   "cell_type": "markdown",
   "id": "538b5df5",
   "metadata": {},
   "source": [
    "#### 4.1.7 적절하지 않은 매개 변수 선택"
   ]
  },
  {
   "cell_type": "code",
   "execution_count": null,
   "id": "534ea455",
   "metadata": {},
   "outputs": [],
   "source": [
    "fig, axes = plt.subplots(1, 3, figsize=(13, 5))\n",
    "\n",
    "param_grid_linear  = {'C': np.linspace(1, 2, 6),  'gamma': np.linspace( 1, 2, 6)}\n",
    "param_grid_one_log = {'C': np.linspace(1, 2, 6),  'gamma': np.logspace(-3, 2, 6)}\n",
    "param_grid_range   = {'C': np.logspace(-3, 2, 6), 'gamma': np.logspace(-7,-2, 6)}\n",
    "\n",
    "for param_grid, ax in zip([param_grid_linear, param_grid_one_log, param_grid_range], axes):\n",
    "    grid_search = GridSearchCV(SVC(), param_grid, cv=5)\n",
    "    grid_search.fit(X_train, y_train)\n",
    "    scores = grid_search.cv_results_['mean_test_score'].reshape(6, 6)\n",
    "\n",
    "    # 교차 검증 평균 점수의 히트맵 그래프\n",
    "    scores_image = mglearn.tools.heatmap(\n",
    "        scores, xlabel='gamma', ylabel='C', xticklabels=param_grid['gamma'],\n",
    "        yticklabels=param_grid['C'], cmap=\"viridis\", ax=ax, vmin=0.3, vmax=0.9)\n",
    "    \n",
    "plt.show()"
   ]
  },
  {
   "cell_type": "markdown",
   "id": "a515beee",
   "metadata": {},
   "source": [
    "### 4.2 Grid Search 실행 - 비대칭 매개 변수"
   ]
  },
  {
   "cell_type": "markdown",
   "id": "fa748616",
   "metadata": {
    "collapsed": true
   },
   "source": [
    "#### 4.2.1 파라미터 설정"
   ]
  },
  {
   "cell_type": "code",
   "execution_count": null,
   "id": "7184b015",
   "metadata": {},
   "outputs": [],
   "source": [
    "param_grid = [{'kernel': ['rbf'],\n",
    "               'C': [0.001, 0.01, 0.1, 1, 10, 100],\n",
    "               'gamma': [0.001, 0.01, 0.1, 1, 10, 100]},\n",
    "              {'kernel': ['linear'],\n",
    "               'C': [0.001, 0.01, 0.1, 1, 10, 100]}]"
   ]
  },
  {
   "cell_type": "markdown",
   "id": "fa9847b1",
   "metadata": {
    "collapsed": true
   },
   "source": [
    "#### 4.2.2 모델 생성"
   ]
  },
  {
   "cell_type": "code",
   "execution_count": null,
   "id": "7da931c4",
   "metadata": {},
   "outputs": [],
   "source": [
    "gs = GridSearchCV(SVC(), param_grid=param_grid, cv=5, return_train_score=True)"
   ]
  },
  {
   "cell_type": "markdown",
   "id": "e57fdb36",
   "metadata": {
    "collapsed": true
   },
   "source": [
    "#### 4.2.3 모델 학습"
   ]
  },
  {
   "cell_type": "code",
   "execution_count": null,
   "id": "2db300fc",
   "metadata": {},
   "outputs": [],
   "source": [
    "%%time\n",
    "gs.fit(X_train, y_train)"
   ]
  },
  {
   "cell_type": "markdown",
   "id": "b444a1af",
   "metadata": {
    "collapsed": true
   },
   "source": [
    "#### 4.2.4 모델 평가"
   ]
  },
  {
   "cell_type": "code",
   "execution_count": null,
   "id": "86c79515",
   "metadata": {},
   "outputs": [],
   "source": [
    "# 최적 매개 변수\n",
    "gs.best_params_"
   ]
  },
  {
   "cell_type": "code",
   "execution_count": null,
   "id": "97fd6984",
   "metadata": {},
   "outputs": [],
   "source": [
    "# 최고 점수\n",
    "gs.best_score_"
   ]
  },
  {
   "cell_type": "markdown",
   "id": "9c803c12",
   "metadata": {},
   "source": [
    "#### 4.2.5 Grid Search 결과 분석"
   ]
  },
  {
   "cell_type": "code",
   "execution_count": null,
   "id": "3ba25bb3",
   "metadata": {},
   "outputs": [],
   "source": [
    "df = pd.DataFrame(gs.cv_results_)\n",
    "df.T"
   ]
  },
  {
   "cell_type": "markdown",
   "id": "45efe01f",
   "metadata": {},
   "source": [
    "### 4.3 중첩 교차 검증 - Grid Search에 Cross Validation 적용"
   ]
  },
  {
   "cell_type": "markdown",
   "id": "8f8b07a2",
   "metadata": {
    "collapsed": true
   },
   "source": [
    "#### 4.3.1 파라미터 설정"
   ]
  },
  {
   "cell_type": "code",
   "execution_count": null,
   "id": "15908839",
   "metadata": {},
   "outputs": [],
   "source": [
    "param_grid = {'C': [0.001, 0.01, 0.1, 1, 10, 100],\n",
    "              'gamma': [0.001, 0.01, 0.1, 1, 10, 100]}"
   ]
  },
  {
   "cell_type": "markdown",
   "id": "32006961",
   "metadata": {
    "collapsed": true
   },
   "source": [
    "#### 4.3.2 cross-validation"
   ]
  },
  {
   "cell_type": "code",
   "execution_count": null,
   "id": "56bb3e9d",
   "metadata": {},
   "outputs": [],
   "source": [
    "%%time\n",
    "scores = cross_val_score(GridSearchCV(SVC(), param_grid=param_grid, cv=5), df_iris[col_list], df_iris['target'], cv=5)\n",
    "\n",
    "print('교차 검증 점수: ', scores)\n",
    "print('교차 검증 평균 점수: {:.2f}'.format(scores.mean()))"
   ]
  },
  {
   "cell_type": "markdown",
   "id": "f076fa13",
   "metadata": {},
   "source": [
    "---"
   ]
  },
  {
   "cell_type": "code",
   "execution_count": null,
   "id": "810a4484",
   "metadata": {},
   "outputs": [],
   "source": [
    "# End of file"
   ]
  },
  {
   "cell_type": "code",
   "execution_count": null,
   "id": "2fc31ab3",
   "metadata": {},
   "outputs": [],
   "source": []
  }
 ],
 "metadata": {
  "kernelspec": {
   "display_name": "Python 3 (ipykernel)",
   "language": "python",
   "name": "python3"
  },
  "language_info": {
   "codemirror_mode": {
    "name": "ipython",
    "version": 3
   },
   "file_extension": ".py",
   "mimetype": "text/x-python",
   "name": "python",
   "nbconvert_exporter": "python",
   "pygments_lexer": "ipython3",
   "version": "3.9.7"
  },
  "vp": {
   "vp_config_version": "1.0.0",
   "vp_menu_width": 273,
   "vp_note_display": true,
   "vp_note_width": 263,
   "vp_position": {
    "width": 541
   },
   "vp_section_display": false,
   "vp_signature": "VisualPython"
  }
 },
 "nbformat": 4,
 "nbformat_minor": 5
}
