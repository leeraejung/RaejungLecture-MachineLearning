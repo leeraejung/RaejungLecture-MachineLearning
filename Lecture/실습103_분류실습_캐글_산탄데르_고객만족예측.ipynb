{
 "cells": [
  {
   "cell_type": "markdown",
   "id": "be8459af",
   "metadata": {},
   "source": [
    "# 분류 실습 - 캐글 산탄데르 고객 만족 예측"
   ]
  },
  {
   "cell_type": "markdown",
   "id": "c6706a5e",
   "metadata": {},
   "source": [
    "[Santander Customer Satisfaction](https://www.kaggle.com/c/santander-customer-satisfaction)"
   ]
  },
  {
   "cell_type": "markdown",
   "id": "c0c93566",
   "metadata": {},
   "source": [
    "---"
   ]
  },
  {
   "cell_type": "code",
   "execution_count": null,
   "id": "f758a8dd",
   "metadata": {},
   "outputs": [],
   "source": [
    "import numpy as np\n",
    "import pandas as pd\n",
    "import matplotlib.pyplot as plt\n",
    "import seaborn as sns\n",
    "\n",
    "import mglearn\n",
    "\n",
    "plt.rc('figure', figsize=(10, 6))\n",
    "\n",
    "from matplotlib import rcParams\n",
    "rcParams['font.family'] = 'New Gulim'\n",
    "rcParams['font.size'] = 10\n",
    "rcParams['axes.unicode_minus'] = False"
   ]
  },
  {
   "cell_type": "markdown",
   "id": "871f4be5",
   "metadata": {},
   "source": [
    "### 데이터 전처리"
   ]
  },
  {
   "cell_type": "code",
   "execution_count": null,
   "id": "f5c5a21b",
   "metadata": {},
   "outputs": [],
   "source": [
    "# 데이러 로딩\n",
    "cust_df = pd.read_csv('data/santander.csv',encoding='latin-1')\n",
    "print('dataset shape:', cust_df.shape)\n",
    "cust_df"
   ]
  },
  {
   "cell_type": "code",
   "execution_count": null,
   "id": "bda0fcfa",
   "metadata": {},
   "outputs": [],
   "source": [
    "cust_df.info()"
   ]
  },
  {
   "cell_type": "code",
   "execution_count": null,
   "id": "299cd12b",
   "metadata": {},
   "outputs": [],
   "source": [
    "# TARGET = 1 : 불만\n",
    "# TARGET = 0 : 만족\n",
    "\n",
    "print(cust_df['TARGET'].value_counts())\n",
    "unsatisfied_cnt = cust_df[cust_df['TARGET'] == 1].TARGET.count()\n",
    "total_cnt = cust_df.TARGET.count()\n",
    "print('unsatisfied 비율은 {0:.2f}'.format((unsatisfied_cnt / total_cnt)))"
   ]
  },
  {
   "cell_type": "code",
   "execution_count": null,
   "id": "8d91a6d5",
   "metadata": {},
   "outputs": [],
   "source": [
    "cust_df.describe( )"
   ]
  },
  {
   "cell_type": "code",
   "execution_count": null,
   "id": "01ff3b8f",
   "metadata": {},
   "outputs": [],
   "source": [
    "# var3 피처 값 대체 및 ID 피처 드롭\n",
    "cust_df['var3'].replace(-999999,2, inplace=True)\n",
    "cust_df.drop('ID',axis=1 , inplace=True)"
   ]
  },
  {
   "cell_type": "code",
   "execution_count": null,
   "id": "bf16331e",
   "metadata": {},
   "outputs": [],
   "source": [
    "# 피처 세트와 레이블 세트분리. 레이블 컬럼은 DataFrame의 맨 마지막에 위치해 컬럼 위치 -1로 분리\n",
    "X_features = cust_df.iloc[:, :-1]\n",
    "y_labels = cust_df.iloc[:, -1]\n",
    "print('피처 데이터 shape:{0}'.format(X_features.shape))"
   ]
  },
  {
   "cell_type": "code",
   "execution_count": null,
   "id": "5169f90a",
   "metadata": {},
   "outputs": [],
   "source": [
    "from sklearn.model_selection import train_test_split\n",
    "\n",
    "X_train, X_test, y_train, y_test = train_test_split(X_features, y_labels, test_size=0.2, random_state=0)\n",
    "train_cnt = y_train.count()\n",
    "test_cnt = y_test.count()\n",
    "print('학습 세트 Shape:{0}, 테스트 세트 Shape:{1}'.format(X_train.shape , X_test.shape))"
   ]
  },
  {
   "cell_type": "code",
   "execution_count": null,
   "id": "568bc441",
   "metadata": {},
   "outputs": [],
   "source": [
    "print(' 학습 세트 레이블 값 분포 비율')\n",
    "print(y_train.value_counts()/train_cnt)\n",
    "\n",
    "print('\\n 테스트 세트 레이블 값 분포 비율')\n",
    "print(y_test.value_counts()/test_cnt)"
   ]
  },
  {
   "cell_type": "markdown",
   "id": "90b03919",
   "metadata": {},
   "source": [
    "### XGBoost"
   ]
  },
  {
   "cell_type": "code",
   "execution_count": null,
   "id": "9b3b533d",
   "metadata": {},
   "outputs": [],
   "source": [
    "%%time\n",
    "from xgboost import XGBClassifier\n",
    "from sklearn.metrics import roc_auc_score\n",
    "\n",
    "# n_estimators는 500으로, random state는 예제 수행 시마다 동일 예측 결과를 위해 설정. \n",
    "xgb_clf = XGBClassifier(n_estimators=500, use_label_encoder=False, random_state=156)\n",
    "\n",
    "# 성능 평가 지표를 auc로, 조기 중단 파라미터는 100으로 설정하고 학습 수행. \n",
    "xgb_clf.fit(X_train, y_train, early_stopping_rounds=100, eval_metric='auc', eval_set=[(X_train, y_train), (X_test, y_test)])"
   ]
  },
  {
   "cell_type": "code",
   "execution_count": null,
   "id": "696cff55",
   "metadata": {
    "scrolled": true
   },
   "outputs": [],
   "source": [
    "xgb_roc_score = roc_auc_score(y_test, xgb_clf.predict_proba(X_test)[:,1],average='macro')\n",
    "print('ROC AUC: {0:.4f}'.format(xgb_roc_score))"
   ]
  },
  {
   "cell_type": "markdown",
   "id": "a1850a17",
   "metadata": {},
   "source": [
    "### XGBoost - GridSearch: 하이퍼 파라미터 튜닝"
   ]
  },
  {
   "cell_type": "code",
   "execution_count": null,
   "id": "be31e7ec",
   "metadata": {},
   "outputs": [],
   "source": [
    "%%time\n",
    "from sklearn.model_selection import GridSearchCV\n",
    "\n",
    "# 하이퍼 파라미터 테스트의 수행 속도를 향상시키기 위해 n_estimators를 100으로 감소\n",
    "xgb_clf = XGBClassifier(n_estimators=100, use_label_encoder=False, random_state=156)\n",
    "\n",
    "params = {'max_depth':[5, 7] , 'min_child_weight':[1,3] ,'colsample_bytree':[0.5, 0.75] }\n",
    "\n",
    "# 하이퍼 파라미터 테스트의 수행속도를 향상 시키기 위해 cv 를 지정하지 않음. \n",
    "gridcv = GridSearchCV(xgb_clf, param_grid=params)\n",
    "gridcv.fit(X_train, y_train, early_stopping_rounds=30, eval_metric='auc', eval_set=[(X_train, y_train), (X_test, y_test)])\n",
    "\n",
    "print('GridSearchCV 최적 파라미터:',gridcv.best_params_) "
   ]
  },
  {
   "cell_type": "code",
   "execution_count": null,
   "id": "5d0d15a7",
   "metadata": {
    "scrolled": true
   },
   "outputs": [],
   "source": [
    "xgb_roc_score = roc_auc_score(y_test, gridcv.predict_proba(X_test)[:,1], average='macro')\n",
    "print('ROC AUC: {0:.4f}'.format(xgb_roc_score))"
   ]
  },
  {
   "cell_type": "markdown",
   "id": "28bcdb09",
   "metadata": {},
   "source": [
    "### XGBoost: 하이퍼 파라미터 추가"
   ]
  },
  {
   "cell_type": "code",
   "execution_count": null,
   "id": "30496156",
   "metadata": {},
   "outputs": [],
   "source": [
    "%%time\n",
    "# n_estimators는 1000으로 증가시키고, learning_rate=0.02로 감소, reg_alpha=0.03으로 추가함. \n",
    "xgb_clf = XGBClassifier(n_estimators=1000, use_label_encoder=False, random_state=156, learning_rate=0.02, max_depth=5,\n",
    "                        min_child_weight=1, colsample_bytree=0.75, reg_alpha=0.03)\n",
    "\n",
    "# evaluation metric을 auc로, early stopping은 200 으로 설정하고 학습 수행. \n",
    "xgb_clf.fit(X_train, y_train, early_stopping_rounds=200, eval_metric='auc',eval_set=[(X_train, y_train), (X_test, y_test)])"
   ]
  },
  {
   "cell_type": "code",
   "execution_count": null,
   "id": "9a496f9a",
   "metadata": {
    "scrolled": true
   },
   "outputs": [],
   "source": [
    "xgb_roc_score = roc_auc_score(y_test, xgb_clf.predict_proba(X_test)[:,1],average='macro')\n",
    "print('ROC AUC: {0:.4f}'.format(xgb_roc_score))"
   ]
  },
  {
   "cell_type": "markdown",
   "id": "588a0dde",
   "metadata": {},
   "source": [
    "### Feature Importance"
   ]
  },
  {
   "cell_type": "code",
   "execution_count": null,
   "id": "a0069eee",
   "metadata": {},
   "outputs": [],
   "source": [
    "from xgboost import plot_importance\n",
    "\n",
    "fig, ax = plt.subplots(1,1,figsize=(10,8))\n",
    "plot_importance(xgb_clf, ax=ax , max_num_features=20,height=0.4)\n",
    "plt.show()"
   ]
  },
  {
   "cell_type": "markdown",
   "id": "77564e60",
   "metadata": {},
   "source": [
    "### LightGBM 모델 학습과 하이퍼 파라미터 튜닝"
   ]
  },
  {
   "cell_type": "code",
   "execution_count": null,
   "id": "4c607dc7",
   "metadata": {},
   "outputs": [],
   "source": [
    "%%time\n",
    "from lightgbm import LGBMClassifier\n",
    "\n",
    "lgbm_clf = LGBMClassifier(n_estimators=500)\n",
    "\n",
    "evals = [(X_test, y_test)]\n",
    "lgbm_clf.fit(X_train, y_train, eval_metric='auc', eval_set=evals)"
   ]
  },
  {
   "cell_type": "code",
   "execution_count": null,
   "id": "5f352a3c",
   "metadata": {},
   "outputs": [],
   "source": [
    "lgbm_roc_score = roc_auc_score(y_test, lgbm_clf.predict_proba(X_test)[:,1],average='macro')\n",
    "print('ROC AUC: {0:.4f}'.format(lgbm_roc_score))"
   ]
  },
  {
   "cell_type": "markdown",
   "id": "b7500073",
   "metadata": {},
   "source": [
    "### LightGBM - GridSearch: 하이퍼 파라미터 튜닝"
   ]
  },
  {
   "cell_type": "code",
   "execution_count": null,
   "id": "90499ca2",
   "metadata": {},
   "outputs": [],
   "source": [
    "%%time\n",
    "from sklearn.model_selection import GridSearchCV\n",
    "\n",
    "# 하이퍼 파라미터 테스트의 수행 속도를 향상시키기 위해 n_estimators를 100으로 감소\n",
    "LGBM_clf = LGBMClassifier(n_estimators=100)\n",
    "\n",
    "params = {'num_leaves': [32, 64 ],\n",
    "          'max_depth':[128, 160],\n",
    "          'min_child_samples':[60, 100],\n",
    "          'subsample':[0.8, 1]}\n",
    "\n",
    "# 하이퍼 파라미터 테스트의 수행속도를 향상 시키기 위해 cv 를 지정하지 않습니다. \n",
    "gridcv = GridSearchCV(lgbm_clf, param_grid=params)\n",
    "gridcv.fit(X_train, y_train, eval_metric='auc', eval_set=[(X_train, y_train), (X_test, y_test)])\n",
    "\n",
    "print('GridSearchCV 최적 파라미터:', gridcv.best_params_)"
   ]
  },
  {
   "cell_type": "code",
   "execution_count": null,
   "id": "590d1aee",
   "metadata": {
    "scrolled": true
   },
   "outputs": [],
   "source": [
    "lgbm_roc_score = roc_auc_score(y_test, gridcv.predict_proba(X_test)[:,1], average='macro')\n",
    "print('ROC AUC: {0:.4f}'.format(lgbm_roc_score))"
   ]
  },
  {
   "cell_type": "markdown",
   "id": "c5b7d9b4",
   "metadata": {},
   "source": [
    "### LightGBM: 하이퍼 파라미터 추가"
   ]
  },
  {
   "cell_type": "code",
   "execution_count": null,
   "id": "c603b886",
   "metadata": {},
   "outputs": [],
   "source": [
    "%%time\n",
    "lgbm_clf = LGBMClassifier(n_estimators=1000, num_leaves=32, sumbsample=0.8, min_child_samples=100, max_depth=128)\n",
    "\n",
    "evals = [(X_test, y_test)]\n",
    "lgbm_clf.fit(X_train, y_train, eval_metric='auc', eval_set=evals)"
   ]
  },
  {
   "cell_type": "code",
   "execution_count": null,
   "id": "45946aaf",
   "metadata": {},
   "outputs": [],
   "source": [
    "lgbm_roc_score = roc_auc_score(y_test, lgbm_clf.predict_proba(X_test)[:,1],average='macro')\n",
    "print('ROC AUC: {0:.4f}'.format(lgbm_roc_score))"
   ]
  },
  {
   "cell_type": "markdown",
   "id": "f076fa13",
   "metadata": {},
   "source": [
    "---"
   ]
  },
  {
   "cell_type": "code",
   "execution_count": null,
   "id": "810a4484",
   "metadata": {},
   "outputs": [],
   "source": [
    "# End of file"
   ]
  },
  {
   "cell_type": "code",
   "execution_count": null,
   "id": "6e7aa103",
   "metadata": {},
   "outputs": [],
   "source": []
  }
 ],
 "metadata": {
  "kernelspec": {
   "display_name": "Python 3 (ipykernel)",
   "language": "python",
   "name": "python3"
  },
  "language_info": {
   "codemirror_mode": {
    "name": "ipython",
    "version": 3
   },
   "file_extension": ".py",
   "mimetype": "text/x-python",
   "name": "python",
   "nbconvert_exporter": "python",
   "pygments_lexer": "ipython3",
   "version": "3.9.7"
  },
  "vp": {
   "vp_config_version": "1.0.0",
   "vp_menu_width": 273,
   "vp_note_display": true,
   "vp_note_width": 263,
   "vp_position": {
    "width": 541
   },
   "vp_section_display": false,
   "vp_signature": "VisualPython"
  }
 },
 "nbformat": 4,
 "nbformat_minor": 5
}
