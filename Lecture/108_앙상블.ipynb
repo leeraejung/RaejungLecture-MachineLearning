{
 "cells": [
  {
   "cell_type": "markdown",
   "id": "be8459af",
   "metadata": {},
   "source": [
    "# Ensenble"
   ]
  },
  {
   "cell_type": "markdown",
   "id": "c0c93566",
   "metadata": {},
   "source": [
    "---"
   ]
  },
  {
   "cell_type": "code",
   "execution_count": null,
   "id": "f758a8dd",
   "metadata": {},
   "outputs": [],
   "source": [
    "import numpy as np\n",
    "import pandas as pd\n",
    "import matplotlib.pyplot as plt\n",
    "import seaborn as sns\n",
    "\n",
    "import mglearn\n",
    "\n",
    "plt.rc('figure', figsize=(10, 6))\n",
    "\n",
    "from matplotlib import rcParams\n",
    "rcParams['font.family'] = 'New Gulim'\n",
    "rcParams['font.size'] = 10\n",
    "rcParams['axes.unicode_minus'] = False"
   ]
  },
  {
   "cell_type": "markdown",
   "id": "b1181809",
   "metadata": {},
   "source": [
    "# 1 Ensenble\n",
    "- 여러 개의 분류기(Classifier)를 생성하고 그 예측을 결합함으로써 보다 정확한 최종 예측을 수행\n",
    "- Overfitting 방지"
   ]
  },
  {
   "cell_type": "markdown",
   "id": "4ba15c66",
   "metadata": {},
   "source": [
    "구분 | 지도 학습 | 비고\n",
    ":--- |:--- |: ---\n",
    "보팅(Voting) | 서로 다른 알고리즘이 같은 데이터 세트에 대해 학습하고 예측한 결과를 보팅 (Hard Voting / Soft Voting) | 랜덤 포레스트\n",
    "배깅(Bagging) | 단일 결정 트리로 데이터 샘플링을 서로 다르게 가져가면서 학습을 수행해 보팅 | 랜덤 포레스트\n",
    "부스팅(Boosting) | 여러 개의 분류기가 순차적으로 학습하면서 앞에서 학습한 분류기가 틀린 데이터에 대해서는 가중치를 부여하면서 학습과 예측을 진행 | GBM, XGBoost\n",
    "스태킹(Stacking) | 스태킹은 여러가지 다른 모델의 예측 결과값을 다시 학습데이터로 만들어 다른 모델로 재학습시켜 결과를 예측하는 방법 | -"
   ]
  },
  {
   "cell_type": "markdown",
   "id": "562ddffa",
   "metadata": {},
   "source": [
    "# 2 Random Forest"
   ]
  },
  {
   "cell_type": "markdown",
   "id": "250919f0",
   "metadata": {},
   "source": [
    "[Random Forest](https://injo.tistory.com/30)"
   ]
  },
  {
   "cell_type": "markdown",
   "id": "3e8eb03c",
   "metadata": {},
   "source": [
    "- 회귀 결과 예측 방법: 노드의 값들을 평균\n",
    "- 분류 결과 예측 방법: 범주의 갯수 카운팅\n",
    "  - [Hard voting, Soft voting](https://devkor.tistory.com/entry/Soft-Voting-%EA%B3%BC-Hard-Voting)"
   ]
  },
  {
   "cell_type": "markdown",
   "id": "f1dc23a1",
   "metadata": {},
   "source": [
    "### 2.1 Random Forest 모델 생성"
   ]
  },
  {
   "cell_type": "code",
   "execution_count": null,
   "id": "785eaa75",
   "metadata": {
    "uuid": "b84dcdfe-994f-4a3d-842e-830153eefc59"
   },
   "outputs": [],
   "source": [
    "# 데이터 생성 & 데이터 분할\n",
    "\n",
    "from sklearn.datasets import make_moons\n",
    "from sklearn.model_selection import train_test_split\n",
    "\n",
    "X, y = make_moons(n_samples=100, noise=0.25, random_state=123)\n",
    "\n",
    "X_train, X_test, y_train, y_test = train_test_split(X, y, stratify=y, random_state=123)"
   ]
  },
  {
   "cell_type": "code",
   "execution_count": null,
   "id": "6858abf9",
   "metadata": {
    "uuid": "b84dcdfe-994f-4a3d-842e-830153eefc59"
   },
   "outputs": [],
   "source": [
    "# 모댈 생성 및 학습 - Random Forest\n",
    "\n",
    "from sklearn.ensemble import RandomForestClassifier\n",
    "\n",
    "forest = RandomForestClassifier(n_estimators=5, random_state=123)\n",
    "forest.fit(X_train, y_train)"
   ]
  },
  {
   "cell_type": "markdown",
   "id": "9c1507ee",
   "metadata": {},
   "source": [
    "### 2.2 Random Forest 결정 경계 시각화"
   ]
  },
  {
   "cell_type": "code",
   "execution_count": null,
   "id": "b387522c",
   "metadata": {
    "uuid": "76ce4154-b441-475e-97e3-1b507964eb29"
   },
   "outputs": [],
   "source": [
    "fig, axes = plt.subplots(2, 3, figsize=(20, 10))\n",
    "\n",
    "for i, (ax, tree) in enumerate(zip(axes.ravel(), forest.estimators_)):\n",
    "    ax.set_title(f'트리 {i}')\n",
    "    mglearn.plots.plot_tree_partition(X, y, tree, ax=ax)\n",
    "    \n",
    "axes[-1, -1].set_title('랜덤 포레스트')\n",
    "mglearn.plots.plot_2d_separator(forest, X, fill=True, ax=axes[-1, -1], alpha=0.4)\n",
    "\n",
    "mglearn.discrete_scatter(X[:, 0], X[:, 1], y)\n",
    "plt.show()"
   ]
  },
  {
   "cell_type": "markdown",
   "id": "8d7a6f63",
   "metadata": {},
   "source": [
    "### 2.3 Feature Importance"
   ]
  },
  {
   "cell_type": "code",
   "execution_count": null,
   "id": "385fec3f",
   "metadata": {},
   "outputs": [],
   "source": [
    "# 데이터 생성 & 데이터 분할\n",
    "\n",
    "from sklearn.datasets import load_breast_cancer\n",
    "from sklearn.model_selection import train_test_split\n",
    "\n",
    "cancer = load_breast_cancer()\n",
    "\n",
    "X_train, X_test, y_train, y_test = train_test_split(cancer.data, cancer.target, random_state=123)"
   ]
  },
  {
   "cell_type": "code",
   "execution_count": null,
   "id": "bde6dda6",
   "metadata": {},
   "outputs": [],
   "source": [
    "# 모댈 생성 및 학습 - Random Forest\n",
    "\n",
    "from sklearn.ensemble import RandomForestClassifier\n",
    "\n",
    "forest = RandomForestClassifier(n_estimators=100, random_state=123)\n",
    "forest.fit(X_train, y_train)\n",
    "\n",
    "print('훈련 세트 정확도: {:.3f}'.format(forest.score(X_train, y_train)))\n",
    "print('테스트 세트 정확도: {:.3f}'.format(forest.score(X_test, y_test)))"
   ]
  },
  {
   "cell_type": "code",
   "execution_count": null,
   "id": "b6f0e1e7",
   "metadata": {},
   "outputs": [],
   "source": [
    "def plot_feature_importances_cancer(model):\n",
    "    n_features = cancer.data.shape[1]\n",
    "    plt.barh(np.arange(n_features), model.feature_importances_, align='center')\n",
    "    plt.yticks(np.arange(n_features), cancer.feature_names)\n",
    "    plt.xlabel('특성 중요도')\n",
    "    plt.ylabel('특성')\n",
    "    plt.ylim(-1, n_features)"
   ]
  },
  {
   "cell_type": "code",
   "execution_count": null,
   "id": "810b79c0",
   "metadata": {},
   "outputs": [],
   "source": [
    "# Feature Importance\n",
    "\n",
    "plot_feature_importances_cancer(forest)"
   ]
  },
  {
   "cell_type": "markdown",
   "id": "a0d3e2f0",
   "metadata": {},
   "source": [
    "# 3 GBM - Gradient Boosting Machine"
   ]
  },
  {
   "cell_type": "markdown",
   "id": "3e0bba63",
   "metadata": {},
   "source": [
    "[AdaBoost](https://dailyheumsi.tistory.com/115?category=877153)  \n",
    "[GBM](https://dailyheumsi.tistory.com/116?category=877153)  \n",
    "[GBM](https://yngie-c.github.io/machine%20learning/2021/03/21/gbm/)"
   ]
  },
  {
   "cell_type": "markdown",
   "id": "f3b53df7",
   "metadata": {},
   "source": [
    "- 회귀: 잔차를 예측\n",
    "- 분류: logloss 예측"
   ]
  },
  {
   "cell_type": "markdown",
   "id": "4e467083",
   "metadata": {},
   "source": [
    "#### GBM 적용"
   ]
  },
  {
   "cell_type": "code",
   "execution_count": null,
   "id": "8fa5be3e",
   "metadata": {},
   "outputs": [],
   "source": [
    "# 데이터 분할\n",
    "\n",
    "X_train, X_test, y_train, y_test = train_test_split(cancer.data, cancer.target, random_state=0)"
   ]
  },
  {
   "cell_type": "code",
   "execution_count": null,
   "id": "7d9bd45e",
   "metadata": {},
   "outputs": [],
   "source": [
    "from sklearn.ensemble import GradientBoostingClassifier\n",
    "\n",
    "gbrt = GradientBoostingClassifier(random_state=0)\n",
    "gbrt.fit(X_train, y_train)\n",
    "\n",
    "print('훈련 세트 정확도: {:.3f}'.format(gbrt.score(X_train, y_train)))\n",
    "print('테스트 세트 정확도: {:.3f}'.format(gbrt.score(X_test, y_test)))"
   ]
  },
  {
   "cell_type": "markdown",
   "id": "513035b9",
   "metadata": {},
   "source": [
    "#### max_depth = 1"
   ]
  },
  {
   "cell_type": "code",
   "execution_count": null,
   "id": "8b2d2ba4",
   "metadata": {},
   "outputs": [],
   "source": [
    "gbrt = GradientBoostingClassifier(random_state=0, max_depth=1)\n",
    "gbrt.fit(X_train, y_train)\n",
    "\n",
    "print('훈련 세트 정확도: {:.3f}'.format(gbrt.score(X_train, y_train)))\n",
    "print('테스트 세트 정확도: {:.3f}'.format(gbrt.score(X_test, y_test)))"
   ]
  },
  {
   "cell_type": "markdown",
   "id": "ef1dbdd2",
   "metadata": {},
   "source": [
    "#### 학습률 조정 - learning_rate = 0.01"
   ]
  },
  {
   "cell_type": "code",
   "execution_count": null,
   "id": "4f73feb5",
   "metadata": {},
   "outputs": [],
   "source": [
    "gbrt = GradientBoostingClassifier(random_state=0, learning_rate=0.01)\n",
    "gbrt.fit(X_train, y_train)\n",
    "\n",
    "print('훈련 세트 정확도: {:.3f}'.format(gbrt.score(X_train, y_train)))\n",
    "print('테스트 세트 정확도: {:.3f}'.format(gbrt.score(X_test, y_test)))"
   ]
  },
  {
   "cell_type": "markdown",
   "id": "83fcd639",
   "metadata": {},
   "source": [
    "#### Feature Importance"
   ]
  },
  {
   "cell_type": "code",
   "execution_count": null,
   "id": "4beca67c",
   "metadata": {},
   "outputs": [],
   "source": [
    "gbrt = GradientBoostingClassifier(random_state=0, max_depth=1)\n",
    "gbrt.fit(X_train, y_train)\n",
    "\n",
    "plot_feature_importances_cancer(gbrt)"
   ]
  },
  {
   "cell_type": "markdown",
   "id": "de723fe2",
   "metadata": {},
   "source": [
    "# 4 XGBoost - eXtra Gradient Boost"
   ]
  },
  {
   "cell_type": "code",
   "execution_count": null,
   "id": "59ce79a0",
   "metadata": {},
   "outputs": [],
   "source": [
    "#!pip install xgboost"
   ]
  },
  {
   "cell_type": "code",
   "execution_count": null,
   "id": "dffb457a",
   "metadata": {},
   "outputs": [],
   "source": [
    "import xgboost\n",
    "print(xgboost.__version__)"
   ]
  },
  {
   "cell_type": "code",
   "execution_count": null,
   "id": "d0654a6b",
   "metadata": {},
   "outputs": [],
   "source": [
    "# 데이터 로딩: 위스콘신 Breast Cancer 데이터 셋\n",
    "\n",
    "from sklearn.datasets import load_breast_cancer\n",
    "\n",
    "cancer = load_breast_cancer()\n",
    "X = cancer.data\n",
    "y = cancer.target"
   ]
  },
  {
   "cell_type": "code",
   "execution_count": null,
   "id": "46735366",
   "metadata": {},
   "outputs": [],
   "source": [
    "df = pd.DataFrame(data=X, columns=cancer.feature_names)\n",
    "df['target']= y\n",
    "df"
   ]
  },
  {
   "cell_type": "code",
   "execution_count": null,
   "id": "65834f80",
   "metadata": {},
   "outputs": [],
   "source": [
    "print(cancer.target_names)"
   ]
  },
  {
   "cell_type": "code",
   "execution_count": null,
   "id": "e2d9a5dc",
   "metadata": {},
   "outputs": [],
   "source": [
    "df['target'].value_counts()"
   ]
  },
  {
   "cell_type": "code",
   "execution_count": null,
   "id": "fd8a2170",
   "metadata": {},
   "outputs": [],
   "source": [
    "# 데이터 분할\n",
    "from sklearn.model_selection import train_test_split\n",
    "\n",
    "X_train, X_test, y_train, y_test = train_test_split(X, y, test_size=0.2, random_state=123)\n",
    "print(X_train.shape , X_test.shape)"
   ]
  },
  {
   "cell_type": "code",
   "execution_count": null,
   "id": "91dc09df",
   "metadata": {},
   "outputs": [],
   "source": [
    "# XGBoost 모델 생성 및 학습\n",
    "\n",
    "from xgboost import XGBClassifier\n",
    "\n",
    "evals = [(X_test, y_test)]\n",
    "\n",
    "xgb = XGBClassifier(n_estimators=400, learning_rate=0.1, max_depth=3, use_label_encoder=False)\n",
    "\n",
    "xgb.fit(X_train, y_train, early_stopping_rounds=400, eval_set=evals, eval_metric='logloss', verbose=True)"
   ]
  },
  {
   "cell_type": "code",
   "execution_count": null,
   "id": "3aad36a8",
   "metadata": {},
   "outputs": [],
   "source": [
    "# 결과 예측\n",
    "pred = xgb.predict(X_test)"
   ]
  },
  {
   "cell_type": "code",
   "execution_count": null,
   "id": "1e6a8781",
   "metadata": {},
   "outputs": [],
   "source": [
    "# 평가: 오차 행렬\n",
    "from sklearn.metrics import confusion_matrix\n",
    "\n",
    "confusion = confusion_matrix(y_test, pred)\n",
    "\n",
    "print('Confusion Matrix\\n', confusion)"
   ]
  },
  {
   "cell_type": "code",
   "execution_count": null,
   "id": "de9e6a9e",
   "metadata": {},
   "outputs": [],
   "source": [
    "# 분류 리포트\n",
    "from sklearn.metrics import classification_report\n",
    "print(classification_report(y_test, pred))"
   ]
  },
  {
   "cell_type": "code",
   "execution_count": null,
   "id": "ce01474a",
   "metadata": {},
   "outputs": [],
   "source": [
    "# XGBoost 모델 생성 및 학습 - early_stopping_rounds=100\n",
    "\n",
    "from xgboost import XGBClassifier\n",
    "\n",
    "evals = [(X_test, y_test)]\n",
    "\n",
    "xgb = XGBClassifier(n_estimators=400, learning_rate=0.1, max_depth=3, use_label_encoder=False)\n",
    "\n",
    "xgb.fit(X_train, y_train, early_stopping_rounds=100, eval_set=evals, eval_metric='logloss', verbose=True)"
   ]
  },
  {
   "cell_type": "code",
   "execution_count": null,
   "id": "fbb90fdd",
   "metadata": {},
   "outputs": [],
   "source": [
    "# 결과 예측\n",
    "pred = xgb.predict(X_test)"
   ]
  },
  {
   "cell_type": "code",
   "execution_count": null,
   "id": "95022d01",
   "metadata": {},
   "outputs": [],
   "source": [
    "# 평가: 오차 행렬\n",
    "from sklearn.metrics import confusion_matrix\n",
    "\n",
    "confusion = confusion_matrix(y_test, pred)\n",
    "\n",
    "print('Confusion Matrix\\n', confusion)"
   ]
  },
  {
   "cell_type": "code",
   "execution_count": null,
   "id": "e9f20b6f",
   "metadata": {},
   "outputs": [],
   "source": [
    "# 분류 리포트\n",
    "from sklearn.metrics import classification_report\n",
    "print(classification_report(y_test, pred))"
   ]
  },
  {
   "cell_type": "code",
   "execution_count": null,
   "id": "21e6f8a8",
   "metadata": {
    "scrolled": true
   },
   "outputs": [],
   "source": [
    "# XGBoost 모델 생성 및 학습 - early_stopping_rounds=10\n",
    "\n",
    "from xgboost import XGBClassifier\n",
    "\n",
    "evals = [(X_test, y_test)]\n",
    "\n",
    "xgb = XGBClassifier(n_estimators=400, learning_rate=0.1, max_depth=3, use_label_encoder=False)\n",
    "\n",
    "xgb.fit(X_train, y_train, early_stopping_rounds=10, eval_set=evals, eval_metric='logloss', verbose=True)"
   ]
  },
  {
   "cell_type": "code",
   "execution_count": null,
   "id": "51d705ec",
   "metadata": {},
   "outputs": [],
   "source": [
    "# 결과 예측\n",
    "pred = xgb.predict(X_test)"
   ]
  },
  {
   "cell_type": "code",
   "execution_count": null,
   "id": "c77b5c87",
   "metadata": {},
   "outputs": [],
   "source": [
    "# 평가: 오차 행렬\n",
    "from sklearn.metrics import confusion_matrix\n",
    "\n",
    "confusion = confusion_matrix(y_test, pred)\n",
    "\n",
    "print('Confusion Matrix\\n', confusion)"
   ]
  },
  {
   "cell_type": "code",
   "execution_count": null,
   "id": "322e1510",
   "metadata": {},
   "outputs": [],
   "source": [
    "# 분류 리포트\n",
    "from sklearn.metrics import classification_report\n",
    "print(classification_report(y_test, pred))"
   ]
  },
  {
   "cell_type": "code",
   "execution_count": null,
   "id": "4e2c5c8d",
   "metadata": {},
   "outputs": [],
   "source": [
    "# Feature Importance\n",
    "\n",
    "from xgboost import plot_importance\n",
    "\n",
    "plot_importance(xgb)\n",
    "plt.show()"
   ]
  },
  {
   "cell_type": "markdown",
   "id": "95e20144",
   "metadata": {},
   "source": [
    "# 5 LightGBM\n",
    "- XGBoost: 균형 트리 분할(Level Wise)\n",
    "- LightGBM: 리프 중심 트리 분할(Leaf Wise)"
   ]
  },
  {
   "cell_type": "code",
   "execution_count": null,
   "id": "805d0646",
   "metadata": {},
   "outputs": [],
   "source": [
    "#!pip install lightgbm"
   ]
  },
  {
   "cell_type": "code",
   "execution_count": null,
   "id": "0247dcb7",
   "metadata": {},
   "outputs": [],
   "source": [
    "import lightgbm\n",
    "print(lightgbm.__version__)"
   ]
  },
  {
   "cell_type": "code",
   "execution_count": null,
   "id": "4588cad7",
   "metadata": {
    "scrolled": true
   },
   "outputs": [],
   "source": [
    "# LightGBM 모델 생성 및 학습\n",
    "\n",
    "from lightgbm import LGBMClassifier\n",
    "\n",
    "evals = [(X_test, y_test)]\n",
    "\n",
    "lgbm = LGBMClassifier(n_estimators=400)\n",
    "lgbm.fit(X_train, y_train, early_stopping_rounds=100, eval_metric='logloss',  eval_set=evals, verbose=True)"
   ]
  },
  {
   "cell_type": "code",
   "execution_count": null,
   "id": "4b43d219",
   "metadata": {},
   "outputs": [],
   "source": [
    "# 결과 예측\n",
    "pred = lgbm.predict(X_test)"
   ]
  },
  {
   "cell_type": "code",
   "execution_count": null,
   "id": "45cf8ecf",
   "metadata": {},
   "outputs": [],
   "source": [
    "# 평가: 오차 행렬\n",
    "from sklearn.metrics import confusion_matrix\n",
    "\n",
    "confusion = confusion_matrix(y_test, pred)\n",
    "\n",
    "print('Confusion Matrix\\n', confusion)"
   ]
  },
  {
   "cell_type": "code",
   "execution_count": null,
   "id": "bd7d9c3a",
   "metadata": {},
   "outputs": [],
   "source": [
    "# 분류 리포트\n",
    "from sklearn.metrics import classification_report\n",
    "print(classification_report(y_test, pred))"
   ]
  },
  {
   "cell_type": "code",
   "execution_count": null,
   "id": "fbbbb12b",
   "metadata": {},
   "outputs": [],
   "source": [
    "# Feature Importance\n",
    "\n",
    "from lightgbm import plot_importance\n",
    "\n",
    "plot_importance(lgbm)\n",
    "plt.show()"
   ]
  },
  {
   "cell_type": "markdown",
   "id": "b11b425d",
   "metadata": {},
   "source": [
    "# 6 Ensenble - 수치 예측"
   ]
  },
  {
   "cell_type": "code",
   "execution_count": null,
   "id": "e18877e4",
   "metadata": {},
   "outputs": [],
   "source": [
    "# 데이터 로딩\n",
    "df = pd.read_csv('data/boston.csv')\n",
    "X = df.drop('target', axis=1).values\n",
    "y = df['target'].values\n",
    "df"
   ]
  },
  {
   "cell_type": "code",
   "execution_count": null,
   "id": "67837e46",
   "metadata": {},
   "outputs": [],
   "source": [
    "from sklearn.model_selection import train_test_split\n",
    "from sklearn.metrics import mean_squared_error, r2_score\n",
    "from sklearn.model_selection import cross_val_score"
   ]
  },
  {
   "cell_type": "code",
   "execution_count": null,
   "id": "37849e94",
   "metadata": {},
   "outputs": [],
   "source": [
    "# 데이터 분할\n",
    "from sklearn.model_selection import train_test_split\n",
    "X_train , X_test , y_train , y_test = train_test_split(X , y, random_state=123)"
   ]
  },
  {
   "cell_type": "markdown",
   "id": "9a566eb0",
   "metadata": {},
   "source": [
    "### 6.1 Random Forest 적용"
   ]
  },
  {
   "cell_type": "code",
   "execution_count": null,
   "id": "38a04d6f",
   "metadata": {},
   "outputs": [],
   "source": [
    "%%time\n",
    "# Random Forest Regressor\n",
    "\n",
    "from sklearn.ensemble import RandomForestRegressor\n",
    "\n",
    "rf = RandomForestRegressor(n_estimators=1000, random_state=0)\n",
    "\n",
    "neg_mse_scores = cross_val_score(rf, X, y, scoring='neg_mean_squared_error', cv=5)\n",
    "rmse_scores  = np.sqrt(-1 * neg_mse_scores)\n",
    "avg_rmse = np.mean(rmse_scores)\n",
    "\n",
    "print('교차 검증의 개별 Negative MSE scores: ', np.round(neg_mse_scores, 2))\n",
    "print('교차 검증의 개별 RMSE scores : ', np.round(rmse_scores, 2))\n",
    "print('교차 검증의 평균 RMSE : {0:.3f} '.format(avg_rmse))"
   ]
  },
  {
   "cell_type": "markdown",
   "id": "f1afdf18",
   "metadata": {},
   "source": [
    "### 6.2 DT, GBM, XGBoost, LightGBM"
   ]
  },
  {
   "cell_type": "code",
   "execution_count": null,
   "id": "ff11445d",
   "metadata": {},
   "outputs": [],
   "source": [
    "%%time\n",
    "from sklearn.tree import DecisionTreeRegressor\n",
    "from sklearn.ensemble import GradientBoostingRegressor\n",
    "from xgboost import XGBRegressor\n",
    "from lightgbm import LGBMRegressor\n",
    "\n",
    "dt_reg = DecisionTreeRegressor(max_depth=4, random_state=0)\n",
    "rf_reg = RandomForestRegressor(n_estimators=1000, random_state=0)\n",
    "gb_reg = GradientBoostingRegressor(n_estimators=1000, random_state=0)\n",
    "xgb_reg = XGBRegressor(n_estimators=1000)\n",
    "lgb_reg = LGBMRegressor(n_estimators=1000)\n",
    "\n",
    "# 트리 기반의 회귀 모델을 반복하면서 평가 수행 \n",
    "models = [dt_reg, rf_reg, gb_reg, xgb_reg, lgb_reg]\n",
    "\n",
    "for model in models:  \n",
    "    neg_mse_scores = cross_val_score(model, X, y, scoring='neg_mean_squared_error', cv=5)\n",
    "    rmse_scores  = np.sqrt(-1 * neg_mse_scores)\n",
    "    avg_rmse = np.mean(rmse_scores)\n",
    "    print('##### ',model.__class__.__name__ , ' #####')\n",
    "    print('교차 검증의 평균 RMSE : {:.3f} '.format(avg_rmse))"
   ]
  },
  {
   "cell_type": "markdown",
   "id": "eed0b48b",
   "metadata": {},
   "source": [
    "### 6.3 Feature Importance"
   ]
  },
  {
   "cell_type": "code",
   "execution_count": null,
   "id": "5db4321c",
   "metadata": {},
   "outputs": [],
   "source": [
    "import seaborn as sns\n",
    "\n",
    "rf_reg = RandomForestRegressor(n_estimators=1000)\n",
    "rf_reg.fit(X, y)\n",
    "\n",
    "sr = pd.Series(data=rf_reg.feature_importances_, index=df.drop('target', axis=1).columns)\n",
    "sr = sr.sort_values(ascending=False)\n",
    "\n",
    "sns.barplot(x= sr, y=sr.index)\n",
    "plt.show()"
   ]
  },
  {
   "cell_type": "code",
   "execution_count": null,
   "id": "ea75d594",
   "metadata": {},
   "outputs": [],
   "source": [
    "plt.scatter(df['RM'] , df['target'])\n",
    "plt.xlabel('RM')\n",
    "plt.ylabel('target')\n",
    "plt.show()"
   ]
  },
  {
   "cell_type": "markdown",
   "id": "c9db9b21",
   "metadata": {},
   "source": [
    "### 6.4 결과 예측 회귀선"
   ]
  },
  {
   "cell_type": "code",
   "execution_count": null,
   "id": "0e611609",
   "metadata": {},
   "outputs": [],
   "source": [
    "from sklearn.linear_model import LinearRegression\n",
    "\n",
    "# 선형 회귀와 결정 트리 기반의 Regressor 생성. DecisionTreeRegressor의 max_depth는 각각 2, 7\n",
    "lr_reg = LinearRegression()\n",
    "rf_reg2 = DecisionTreeRegressor(max_depth=2)\n",
    "rf_reg7 = DecisionTreeRegressor(max_depth=7)\n",
    "\n",
    "# 실제 예측을 적용할 테스트용 데이터 셋을 4.5 ~ 8.5 까지 100개 데이터 셋 생성. \n",
    "X_test = np.arange(4.5, 8.5, 0.04).reshape(-1, 1)\n",
    "\n",
    "X_feature = df['RM'].values.reshape(-1,1)\n",
    "y_target  = df['target'].values.reshape(-1,1)\n",
    "\n",
    "# 학습과 예측 수행. \n",
    "lr_reg.fit(X_feature, y_target)\n",
    "rf_reg2.fit(X_feature, y_target)\n",
    "rf_reg7.fit(X_feature, y_target)\n",
    "\n",
    "pred_lr = lr_reg.predict(X_test)\n",
    "pred_rf2 = rf_reg2.predict(X_test)\n",
    "pred_rf7 = rf_reg7.predict(X_test)\n"
   ]
  },
  {
   "cell_type": "code",
   "execution_count": null,
   "id": "e98f90b7",
   "metadata": {},
   "outputs": [],
   "source": [
    "fig , (ax1, ax2, ax3) = plt.subplots(figsize=(14,4), ncols=3)\n",
    "\n",
    "# 선형 회귀로 학습된 모델 회귀 예측선 \n",
    "ax1.set_title('Linear Regression')\n",
    "ax1.scatter(df['RM'], df['target'], c='darkorange')\n",
    "ax1.plot(X_test, pred_lr,label='linear', linewidth=2 )\n",
    "\n",
    "# DecisionTreeRegressor의 max_depth를 2로 했을 때 회귀 예측선 \n",
    "ax2.set_title('Decision Tree Regression: \\n max_depth=2')\n",
    "ax2.scatter(df['RM'], df['target'], c='darkorange')\n",
    "ax2.plot(X_test, pred_rf2, label='max_depth:3', linewidth=2 )\n",
    "\n",
    "# DecisionTreeRegressor의 max_depth를 7로 했을 때 회귀 예측선 \n",
    "ax3.set_title('Decision Tree Regression: \\n max_depth=7')\n",
    "ax3.scatter(df['RM'], df['target'], c='darkorange')\n",
    "ax3.plot(X_test, pred_rf7, label='max_depth:7', linewidth=2)\n",
    "\n",
    "plt.show()"
   ]
  },
  {
   "cell_type": "markdown",
   "id": "f076fa13",
   "metadata": {},
   "source": [
    "---"
   ]
  },
  {
   "cell_type": "code",
   "execution_count": null,
   "id": "810a4484",
   "metadata": {},
   "outputs": [],
   "source": [
    "# End of file"
   ]
  },
  {
   "cell_type": "code",
   "execution_count": null,
   "id": "847787fa",
   "metadata": {},
   "outputs": [],
   "source": []
  }
 ],
 "metadata": {
  "kernelspec": {
   "display_name": "Python 3 (ipykernel)",
   "language": "python",
   "name": "python3"
  },
  "language_info": {
   "codemirror_mode": {
    "name": "ipython",
    "version": 3
   },
   "file_extension": ".py",
   "mimetype": "text/x-python",
   "name": "python",
   "nbconvert_exporter": "python",
   "pygments_lexer": "ipython3",
   "version": "3.9.7"
  },
  "vp": {
   "vp_config_version": "1.0.0",
   "vp_menu_width": 273,
   "vp_note_display": true,
   "vp_note_width": 263,
   "vp_position": {
    "width": 541
   },
   "vp_section_display": false,
   "vp_signature": "VisualPython"
  }
 },
 "nbformat": 4,
 "nbformat_minor": 5
}
