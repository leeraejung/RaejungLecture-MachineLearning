{
 "cells": [
  {
   "cell_type": "markdown",
   "id": "be8459af",
   "metadata": {},
   "source": [
    "# 데이터 전처리 2"
   ]
  },
  {
   "cell_type": "markdown",
   "id": "c0c93566",
   "metadata": {},
   "source": [
    "---"
   ]
  },
  {
   "cell_type": "code",
   "execution_count": null,
   "id": "f758a8dd",
   "metadata": {},
   "outputs": [],
   "source": [
    "import numpy as np\n",
    "import pandas as pd\n",
    "import matplotlib.pyplot as plt\n",
    "import seaborn as sns\n",
    "\n",
    "import mglearn\n",
    "\n",
    "plt.rc('figure', figsize=(10, 6))\n",
    "\n",
    "from matplotlib import rcParams\n",
    "rcParams['font.family'] = 'New Gulim'\n",
    "rcParams['font.size'] = 10\n",
    "rcParams['axes.unicode_minus'] = False"
   ]
  },
  {
   "cell_type": "markdown",
   "id": "b1181809",
   "metadata": {},
   "source": [
    "# 1 Feature Engineering\n",
    "- 구간분할, 이산화\n",
    "- 상호작용과 다항식 특성\n",
    "- 특성 자동 선택"
   ]
  },
  {
   "cell_type": "markdown",
   "id": "60617e1a",
   "metadata": {},
   "source": [
    "### 1.1 구간 분할, 이산화 - Binning"
   ]
  },
  {
   "cell_type": "markdown",
   "id": "edf72002",
   "metadata": {},
   "source": [
    "#### 1.1.1 wave 데이터셋에 적용한 선형 회귀와 결정 트리의 비교"
   ]
  },
  {
   "cell_type": "code",
   "execution_count": null,
   "id": "7507e3cd",
   "metadata": {},
   "outputs": [],
   "source": [
    "from sklearn.linear_model import LinearRegression\n",
    "from sklearn.tree import DecisionTreeRegressor\n",
    "\n",
    "# 데이터 생성\n",
    "X, y = mglearn.datasets.make_wave(n_samples=120)\n",
    "line = np.linspace(-3, 3, 1000, endpoint=False).reshape(-1, 1)\n",
    "\n",
    "# 선형 회귀\n",
    "reg = LinearRegression().fit(X, y)\n",
    "plt.plot(line, reg.predict(line), '--', label='선형 회귀')\n",
    "\n",
    "# 결정 트리\n",
    "reg = DecisionTreeRegressor(min_samples_leaf=3).fit(X, y)\n",
    "plt.plot(line, reg.predict(line), label='결정 트리')\n",
    "\n",
    "# 원본 데이터 (X, y)\n",
    "plt.plot(X[:, 0], y, 'o', c='k')\n",
    "\n",
    "plt.title('wave 데이터셋에 적용한 선형 회귀와 결정 트리의 비교')\n",
    "plt.xlabel('입력 특성')\n",
    "plt.ylabel('회귀 출력')\n",
    "plt.legend(loc='best')\n",
    "plt.show()"
   ]
  },
  {
   "cell_type": "markdown",
   "id": "ea339d75",
   "metadata": {},
   "source": [
    "#### 1.1.2 구간 분할( binning) - 밀집 행렬"
   ]
  },
  {
   "cell_type": "code",
   "execution_count": null,
   "id": "7dd681d0",
   "metadata": {},
   "outputs": [],
   "source": [
    "from sklearn.preprocessing import KBinsDiscretizer"
   ]
  },
  {
   "cell_type": "code",
   "execution_count": null,
   "id": "9f25aa5a",
   "metadata": {},
   "outputs": [],
   "source": [
    "# <참고>\n",
    "# 희소 행렬로 생성시 밀집 행렬로 변환해서 사용\n",
    "# X_binned.toarray() 함수 이용\n",
    "\n",
    "# 희소 행렬로 생성\n",
    "kb = KBinsDiscretizer(n_bins=10, strategy='uniform')\n",
    "kb.fit(X)\n",
    "X_binned = kb.transform(X)\n",
    "\n",
    "# 밀집 행렬로 변환\n",
    "X_binned.toarray()"
   ]
  },
  {
   "cell_type": "code",
   "execution_count": null,
   "id": "f9c62c00",
   "metadata": {},
   "outputs": [],
   "source": [
    "# 구간 분할 모델 생성\n",
    "kb = KBinsDiscretizer(n_bins=10, strategy='uniform', encode='onehot-dense')"
   ]
  },
  {
   "cell_type": "code",
   "execution_count": null,
   "id": "a17edcbf",
   "metadata": {},
   "outputs": [],
   "source": [
    "# 구간 분할 모델 학습 - 경계값 생성\n",
    "kb.fit(X)"
   ]
  },
  {
   "cell_type": "code",
   "execution_count": null,
   "id": "1749cfda",
   "metadata": {},
   "outputs": [],
   "source": [
    "# 구간 분할 모델 데이터 변환\n",
    "X_binned = kb.transform(X)"
   ]
  },
  {
   "cell_type": "code",
   "execution_count": null,
   "id": "f3abf9bb",
   "metadata": {},
   "outputs": [],
   "source": [
    "# 구간 경계값\n",
    "kb.bin_edges_"
   ]
  },
  {
   "cell_type": "code",
   "execution_count": null,
   "id": "36431768",
   "metadata": {},
   "outputs": [],
   "source": [
    "# 원본 데이터\n",
    "X[:10]"
   ]
  },
  {
   "cell_type": "code",
   "execution_count": null,
   "id": "9a3a01e8",
   "metadata": {},
   "outputs": [],
   "source": [
    "# 구간 분할 적용된 데이터\n",
    "X_binned[:10]"
   ]
  },
  {
   "cell_type": "markdown",
   "id": "740231bb",
   "metadata": {},
   "source": [
    "#### 1.1.3 구간 분할된 특성에 적용한 선형 회귀와 결정 트리 회귀의 비교\n",
    "- 각 구간에 기울기가 0인 수평한 회귀선 생성"
   ]
  },
  {
   "cell_type": "code",
   "execution_count": null,
   "id": "7ce9f3be",
   "metadata": {},
   "outputs": [],
   "source": [
    "# 구간 분할 적용(line)\n",
    "line_binned = kb.transform(line)\n",
    "\n",
    "# 선형 회귀\n",
    "reg = LinearRegression().fit(X_binned, y)\n",
    "plt.plot(line, reg.predict(line_binned), '--', label='구간 선형 회귀')\n",
    "\n",
    "# 결정 트리\n",
    "reg = DecisionTreeRegressor(min_samples_split=3).fit(X_binned, y)\n",
    "plt.plot(line, reg.predict(line_binned), label='구간 결정 트리')\n",
    "\n",
    "# 원본 데이터 (X, y)\n",
    "plt.plot(X[:, 0], y, 'o', c='k')\n",
    "\n",
    "# 구간 분할 표시\n",
    "plt.vlines(kb.bin_edges_[0], -3, 3, linewidth=1, alpha=0.2)\n",
    "\n",
    "plt.title('구간 분할된 특성에 적용한 선형 회귀와 결정 트리 회귀의 비교')\n",
    "plt.xlabel('입력 특성')\n",
    "plt.ylabel('회귀 출력')\n",
    "plt.legend(loc='best')\n",
    "plt.show()"
   ]
  },
  {
   "cell_type": "markdown",
   "id": "70628cc9",
   "metadata": {},
   "source": [
    "### 1.2 상호작용과 다항식 특성 - Interaction & Polynomial"
   ]
  },
  {
   "cell_type": "markdown",
   "id": "2eb12679",
   "metadata": {},
   "source": [
    "#### 1.2.1 원본 특성 추가\n",
    "- X + X_binned\n",
    "- 구간 분할된 특성과 하나의 기울기를 사용한 선형 회귀"
   ]
  },
  {
   "cell_type": "code",
   "execution_count": null,
   "id": "e5373f7a",
   "metadata": {},
   "outputs": [],
   "source": [
    "# X값 추가\n",
    "X_combined = np.hstack([X, X_binned])\n",
    "X_combined.shape"
   ]
  },
  {
   "cell_type": "code",
   "execution_count": null,
   "id": "e6b75b23",
   "metadata": {},
   "outputs": [],
   "source": [
    "# 구간 분할 및 원본 특성 추가 적용(line)\n",
    "line_combined = np.hstack([line, line_binned])\n",
    "\n",
    "# 선형 회귀\n",
    "reg = LinearRegression().fit(X_combined, y)\n",
    "plt.plot(line, reg.predict(line_combined), label='원본 특성을 추가한 선형 회귀')\n",
    "\n",
    "# 원본 데이터 (X, y)\n",
    "plt.plot(X[:, 0], y, 'o', c='k')\n",
    "\n",
    "# 구간 분할 표시\n",
    "plt.vlines(kb.bin_edges_[0], -3, 3, linewidth=1, alpha=0.2)\n",
    "\n",
    "plt.title('구간 분할된 특성과 하나의 기울기를 사용한 선형 회귀')\n",
    "plt.xlabel('입력 특성')\n",
    "plt.ylabel('회귀 출력')\n",
    "plt.legend(loc='best')\n",
    "plt.show()"
   ]
  },
  {
   "cell_type": "markdown",
   "id": "99d56f42",
   "metadata": {},
   "source": [
    "#### 1.2.2 원본 특성을 곱한 값 추가\n",
    "- X_binned + (X * X_binned)\n",
    "- 구간별 기울기가 다른 선형 회귀"
   ]
  },
  {
   "cell_type": "code",
   "execution_count": null,
   "id": "309a5c6c",
   "metadata": {},
   "outputs": [],
   "source": [
    "# X값 추가\n",
    "X_product = np.hstack([X_binned, X * X_binned])\n",
    "X_product.shape"
   ]
  },
  {
   "cell_type": "code",
   "execution_count": null,
   "id": "111ab925",
   "metadata": {},
   "outputs": [],
   "source": [
    "# 구간 분할 및 원본 특성 추가 적용(line)\n",
    "line_product = np.hstack([line_binned, line * line_binned])\n",
    "\n",
    "# 선형 회귀\n",
    "reg = LinearRegression().fit(X_product, y)\n",
    "plt.plot(line, reg.predict(line_product), label='원본 특성을 곱한 값을 추가한 선형 회귀')\n",
    "\n",
    "# 원본 데이터 (X, y)\n",
    "plt.plot(X[:, 0], y, 'o', c='k')\n",
    "\n",
    "# 구간 분할 표시\n",
    "plt.vlines(kb.bin_edges_[0], -3, 3, linewidth=1, alpha=.2)\n",
    "\n",
    "plt.title('구간 분할된 특성과 서로 기울기를 사용한 선형 회귀')\n",
    "plt.xlabel('입력 특성')\n",
    "plt.ylabel('회귀 출력')\n",
    "plt.legend(loc='best')\n",
    "plt.show()"
   ]
  },
  {
   "cell_type": "markdown",
   "id": "471a4c23",
   "metadata": {},
   "source": [
    "#### 1.2.3 다항식 특성\n",
    "- PolynomialFeatures"
   ]
  },
  {
   "cell_type": "code",
   "execution_count": null,
   "id": "cd33be40",
   "metadata": {},
   "outputs": [],
   "source": [
    "# 다항식 특성 추가 모델 생성\n",
    "from sklearn.preprocessing import PolynomialFeatures\n",
    "poly = PolynomialFeatures(degree=10, include_bias=False) # 절편 추가: include_bias=True"
   ]
  },
  {
   "cell_type": "code",
   "execution_count": null,
   "id": "493c0ed8",
   "metadata": {},
   "outputs": [],
   "source": [
    "# 다항식 특성 추가 모델 학습\n",
    "poly.fit(X)"
   ]
  },
  {
   "cell_type": "code",
   "execution_count": null,
   "id": "d76381f6",
   "metadata": {},
   "outputs": [],
   "source": [
    "# 다항식 특성 추가 모델 데이터 변환\n",
    "X_poly = poly.transform(X)\n",
    "X_poly.shape"
   ]
  },
  {
   "cell_type": "code",
   "execution_count": null,
   "id": "11a5b6c8",
   "metadata": {},
   "outputs": [],
   "source": [
    "# 원본 데이터\n",
    "X[:5]"
   ]
  },
  {
   "cell_type": "code",
   "execution_count": null,
   "id": "845602fa",
   "metadata": {},
   "outputs": [],
   "source": [
    "# 다항식 특성 추가 적용된 데이터\n",
    "X_poly[:5]"
   ]
  },
  {
   "cell_type": "code",
   "execution_count": null,
   "id": "0e9f4187",
   "metadata": {
    "scrolled": true
   },
   "outputs": [],
   "source": [
    "# 컬럼 이름\n",
    "print(poly.get_feature_names_out())"
   ]
  },
  {
   "cell_type": "code",
   "execution_count": null,
   "id": "765f3ba2",
   "metadata": {},
   "outputs": [],
   "source": [
    "# 판다스(DataFrame)로 표현\n",
    "pd.DataFrame(X_poly, columns=poly.get_feature_names_out())"
   ]
  },
  {
   "cell_type": "code",
   "execution_count": null,
   "id": "f3b20296",
   "metadata": {},
   "outputs": [],
   "source": [
    "# 다항식 특성 추가 적용(line)\n",
    "line_poly = poly.transform(line)\n",
    "\n",
    "# 선형 회귀\n",
    "reg = LinearRegression().fit(X_poly, y)\n",
    "plt.plot(line, reg.predict(line_poly), label='다항 선형 회귀')\n",
    "\n",
    "# 원본 데이터 (X, y)\n",
    "plt.plot(X[:, 0], y, 'o', c='k')\n",
    "\n",
    "plt.title('10차 다항식을 이용한 선형 회귀')\n",
    "plt.xlabel('입력 특성')\n",
    "plt.ylabel('회귀 출력')\n",
    "plt.legend(loc='best')\n",
    "plt.show()"
   ]
  },
  {
   "cell_type": "markdown",
   "id": "76a1d915",
   "metadata": {},
   "source": [
    "#### 1.2.4 원본 데이터에 SVM 알고리즘 적용 - 다항 회귀와 비교"
   ]
  },
  {
   "cell_type": "code",
   "execution_count": null,
   "id": "87c62f2c",
   "metadata": {
    "scrolled": false
   },
   "outputs": [],
   "source": [
    "from sklearn.svm import SVR\n",
    "\n",
    "# Support Vector Machine\n",
    "for gamma in [1, 10]:\n",
    "    svr = SVR(gamma=gamma).fit(X, y)\n",
    "    plt.plot(line, svr.predict(line), label=f'SVR gamma={gamma}')\n",
    "\n",
    "# 원본 데이터 (X, y)\n",
    "plt.plot(X[:, 0], y, 'o', c='k')\n",
    "\n",
    "plt.title('RBF 커널 SVM의 gamma 매개변수 변화에 따른 비교')\n",
    "plt.xlabel('입력 특성')\n",
    "plt.ylabel('회귀 출력')\n",
    "plt.legend(loc='best')\n",
    "plt.show()"
   ]
  },
  {
   "cell_type": "markdown",
   "id": "26aa1a06",
   "metadata": {},
   "source": [
    "#### 1.2.5 다항식 특성 추가 적용 - 지도학습"
   ]
  },
  {
   "cell_type": "code",
   "execution_count": null,
   "id": "fee36698",
   "metadata": {},
   "outputs": [],
   "source": [
    "# 데이터 로딩\n",
    "df_boston = pd.read_csv('data/boston.csv')\n",
    "X = df_boston.drop('target', axis=1).values\n",
    "y = df_boston['target'].values"
   ]
  },
  {
   "cell_type": "code",
   "execution_count": null,
   "id": "fddd0ece",
   "metadata": {},
   "outputs": [],
   "source": [
    "# 데이터 분할\n",
    "from sklearn.model_selection import train_test_split\n",
    "X_train, X_test, y_train, y_test = train_test_split(X, y, random_state=123)"
   ]
  },
  {
   "cell_type": "code",
   "execution_count": null,
   "id": "b9f662ae",
   "metadata": {},
   "outputs": [],
   "source": [
    "# 데이터 스케일 조정\n",
    "from sklearn.preprocessing import MinMaxScaler\n",
    "scaler = MinMaxScaler()\n",
    "X_train_scaled = scaler.fit_transform(X_train)\n",
    "X_test_scaled = scaler.transform(X_test)"
   ]
  },
  {
   "cell_type": "code",
   "execution_count": null,
   "id": "80bbd8ef",
   "metadata": {},
   "outputs": [],
   "source": [
    "# 다항식 특성 추가\n",
    "poly = PolynomialFeatures(degree=2).fit(X_train_scaled)\n",
    "X_train_poly = poly.transform(X_train_scaled)\n",
    "X_test_poly = poly.transform(X_test_scaled)\n",
    "\n",
    "print(\"X_train.shape:\", X_train.shape)\n",
    "print(\"X_train_poly.shape:\", X_train_poly.shape)"
   ]
  },
  {
   "cell_type": "code",
   "execution_count": null,
   "id": "493ca7bf",
   "metadata": {},
   "outputs": [],
   "source": [
    "# 컬럼 이름\n",
    "print(poly.get_feature_names_out())"
   ]
  },
  {
   "cell_type": "code",
   "execution_count": null,
   "id": "7377991a",
   "metadata": {},
   "outputs": [],
   "source": [
    "#\n",
    "# 다항식 특성 추가 성능 비교 - 회귀 계열 알고리즘\n",
    "#\n",
    "\n",
    "from sklearn.linear_model import Ridge\n",
    "\n",
    "ridge = Ridge().fit(X_train_scaled, y_train)\n",
    "print('다항식 특성 추가 미적용: {:.3f}'.format(ridge.score(X_test_scaled, y_test)))\n",
    "\n",
    "ridge = Ridge().fit(X_train_poly, y_train)\n",
    "print('다항식 특성 추가 적용:   {:.3f}'.format(ridge.score(X_test_poly, y_test)))"
   ]
  },
  {
   "cell_type": "code",
   "execution_count": null,
   "id": "26b2ddaf",
   "metadata": {},
   "outputs": [],
   "source": [
    "#\n",
    "# 다항식 특성 추가 성능 비교 - 트리 계열 알고리즘\n",
    "#\n",
    "\n",
    "from sklearn.ensemble import RandomForestRegressor\n",
    "\n",
    "rf = RandomForestRegressor(n_estimators=100, random_state=123).fit(X_train_scaled, y_train)\n",
    "print('다항식 특성 추가 미적용: {:.3f}'.format(rf.score(X_test_scaled, y_test)))\n",
    "\n",
    "rf = RandomForestRegressor(n_estimators=100, random_state=123).fit(X_train_poly, y_train)\n",
    "print('다항식 특성 추가 적용:   {:.3f}'.format(rf.score(X_test_poly, y_test)))"
   ]
  },
  {
   "cell_type": "markdown",
   "id": "a1a566c1",
   "metadata": {},
   "source": [
    "### 1.3 특성 자동 선택\n",
    "- 일변량 통계 (Univariate statistics)\n",
    "- 모델 기반 선택 (Model-based selection)\n",
    "- 반복적 선택 (Iterative selection)"
   ]
  },
  {
   "cell_type": "markdown",
   "id": "ebc6b187",
   "metadata": {},
   "source": [
    "#### 1.3.1 일변량 통계"
   ]
  },
  {
   "cell_type": "code",
   "execution_count": null,
   "id": "9e5c5f7c",
   "metadata": {},
   "outputs": [],
   "source": [
    "from sklearn.datasets import load_breast_cancer\n",
    "from sklearn.feature_selection import SelectPercentile, f_classif\n",
    "from sklearn.model_selection import train_test_split"
   ]
  },
  {
   "cell_type": "code",
   "execution_count": null,
   "id": "8e93b46f",
   "metadata": {},
   "outputs": [],
   "source": [
    "# 데이터 로딩\n",
    "cancer = load_breast_cancer()"
   ]
  },
  {
   "cell_type": "code",
   "execution_count": null,
   "id": "2e328bdb",
   "metadata": {},
   "outputs": [],
   "source": [
    "# 노이즈 생성: 50개\n",
    "rng = np.random.RandomState(123)\n",
    "noise = rng.normal(size=(len(cancer.data), 50))\n",
    "\n",
    "# 데이터에 노이즈 특성 추가: 원본특성(30 + 노이즈(50)\n",
    "X_w_noise = np.hstack([cancer.data, noise])"
   ]
  },
  {
   "cell_type": "code",
   "execution_count": null,
   "id": "671fb36c",
   "metadata": {},
   "outputs": [],
   "source": [
    "# 데이터 분할\n",
    "X_train, X_test, y_train, y_test = train_test_split(X_w_noise, cancer.target, random_state=123, test_size=0.5)"
   ]
  },
  {
   "cell_type": "code",
   "execution_count": null,
   "id": "f7420802",
   "metadata": {},
   "outputs": [],
   "source": [
    "# 특성 선택 모델 생성: 일변량 통계 (분산 분석 사용)\n",
    "select = SelectPercentile(score_func=f_classif, percentile=50)"
   ]
  },
  {
   "cell_type": "code",
   "execution_count": null,
   "id": "98c5bc83",
   "metadata": {},
   "outputs": [],
   "source": [
    "# 특성 선택 모델 학습\n",
    "select.fit(X_train, y_train)"
   ]
  },
  {
   "cell_type": "code",
   "execution_count": null,
   "id": "5ee77f7b",
   "metadata": {},
   "outputs": [],
   "source": [
    "# 특성 선택 데이터 변환: 적절한 특성(컬럼) 선택\n",
    "X_train_selected = select.transform(X_train)\n",
    "\n",
    "print('X_train.shape:', X_train.shape)\n",
    "print('X_train_selected.shape:', X_train_selected.shape)"
   ]
  },
  {
   "cell_type": "code",
   "execution_count": null,
   "id": "c4b6d8c6",
   "metadata": {},
   "outputs": [],
   "source": [
    "# 특성 선택 여부 표시\n",
    "mask = select.get_support()\n",
    "mask"
   ]
  },
  {
   "cell_type": "code",
   "execution_count": null,
   "id": "2ef2ab5f",
   "metadata": {},
   "outputs": [],
   "source": [
    "# True는 검은색, False는 흰색으로 표시\n",
    "plt.matshow(mask.reshape(1, -1), cmap='gray_r')\n",
    "\n",
    "plt.title('SelectPercentile이 선택한 특성')\n",
    "plt.xlabel('특성 번호')\n",
    "plt.yticks([0])\n",
    "plt.show()"
   ]
  },
  {
   "cell_type": "code",
   "execution_count": null,
   "id": "421a44fb",
   "metadata": {},
   "outputs": [],
   "source": [
    "#\n",
    "# 일변량 통계 특성 선택 성능 비교 - Logistic Regression\n",
    "#\n",
    "\n",
    "from sklearn.linear_model import LogisticRegression\n",
    "\n",
    "# 테스트 데이터 변환: 특성 선택\n",
    "X_test_selected = select.transform(X_test)\n",
    "\n",
    "# LogisticRegression\n",
    "lr = LogisticRegression(max_iter=5000)\n",
    "\n",
    "lr.fit(X_train, y_train)\n",
    "print('전체 특성 사용: {:.3f}'.format(lr.score(X_test, y_test)))\n",
    "\n",
    "lr.fit(X_train_selected, y_train)\n",
    "print('일변량 통계 특성 선택 적용(일부 특성 사용): {:.3f}'.format(lr.score(X_test_selected, y_test)))"
   ]
  },
  {
   "cell_type": "markdown",
   "id": "01578ebe",
   "metadata": {},
   "source": [
    "#### 1.3.2 모델 기반 특성 선택"
   ]
  },
  {
   "cell_type": "code",
   "execution_count": null,
   "id": "280826f8",
   "metadata": {},
   "outputs": [],
   "source": [
    "from sklearn.feature_selection import SelectFromModel\n",
    "from sklearn.ensemble import RandomForestClassifier"
   ]
  },
  {
   "cell_type": "code",
   "execution_count": null,
   "id": "296603d5",
   "metadata": {},
   "outputs": [],
   "source": [
    "# 특성 선택 모델 생성: 모델 기반 특성 선택\n",
    "select = SelectFromModel(\n",
    "    RandomForestClassifier(n_estimators=100, random_state=123), threshold='median')"
   ]
  },
  {
   "cell_type": "code",
   "execution_count": null,
   "id": "bef2fa68",
   "metadata": {},
   "outputs": [],
   "source": [
    "# 특성 선택 모델 학습\n",
    "select.fit(X_train, y_train)"
   ]
  },
  {
   "cell_type": "code",
   "execution_count": null,
   "id": "e8b89909",
   "metadata": {},
   "outputs": [],
   "source": [
    "# 특성 선택 데이터 변환: 적절한 특성(컬럼) 선택\n",
    "X_train_l1 = select.transform(X_train)\n",
    "\n",
    "print('X_train.shape:   ', X_train.shape)\n",
    "print('X_train_l1.shape:', X_train_l1.shape)"
   ]
  },
  {
   "cell_type": "code",
   "execution_count": null,
   "id": "b245a03f",
   "metadata": {},
   "outputs": [],
   "source": [
    "# 특성 선택 여부 표시\n",
    "mask = select.get_support()\n",
    "mask"
   ]
  },
  {
   "cell_type": "code",
   "execution_count": null,
   "id": "7b8625d1",
   "metadata": {},
   "outputs": [],
   "source": [
    "# True는 검은색, False는 흰색으로 표시\n",
    "plt.matshow(mask.reshape(1, -1), cmap='gray_r')\n",
    "\n",
    "plt.title('랜덤 포레스트 분류 모델을 사용한 SelectFromModel이 선택한 특성')\n",
    "plt.xlabel('특성 번호')\n",
    "plt.yticks([0])\n",
    "plt.show()"
   ]
  },
  {
   "cell_type": "code",
   "execution_count": null,
   "id": "bf3545f3",
   "metadata": {},
   "outputs": [],
   "source": [
    "#\n",
    "# 모델 기반 특성 선택 성능 비교 - Logistic Regression\n",
    "#\n",
    "\n",
    "from sklearn.linear_model import LogisticRegression\n",
    "\n",
    "# 테스트 데이터 변환: 특성 선택\n",
    "X_test_l1 = select.transform(X_test)\n",
    "\n",
    "# LogisticRegression\n",
    "lr = LogisticRegression(max_iter=5000)\n",
    "\n",
    "lr.fit(X_train_l1, y_train)\n",
    "print('모델 기반 특성 선택 적용(일부 특성 사용): {:.3f}'.format(lr.score(X_test_l1, y_test)))"
   ]
  },
  {
   "cell_type": "markdown",
   "id": "9e3f16b0",
   "metadata": {},
   "source": [
    "#### 1.3.3 반복적 특성 선택\n",
    "- 재귀적 특성 제거 (RFE - Recursive Feature Elimination)"
   ]
  },
  {
   "cell_type": "code",
   "execution_count": null,
   "id": "a5d7ddb5",
   "metadata": {},
   "outputs": [],
   "source": [
    "# 특성 선택 모델 생성: 반복적 특성 기반\n",
    "from sklearn.feature_selection import RFE\n",
    "select = RFE(RandomForestClassifier(n_estimators=100, random_state=123), n_features_to_select=40)"
   ]
  },
  {
   "cell_type": "code",
   "execution_count": null,
   "id": "7386d4da",
   "metadata": {},
   "outputs": [],
   "source": [
    "%%time\n",
    "# 특성 선택 모델 학습\n",
    "select.fit(X_train, y_train)"
   ]
  },
  {
   "cell_type": "code",
   "execution_count": null,
   "id": "b68290de",
   "metadata": {},
   "outputs": [],
   "source": [
    "# 특성 선택 데이터 변환: 적절한 특성(컬럼) 선택\n",
    "X_train_rfe = select.transform(X_train)\n",
    "\n",
    "print('X_train.shape:    ', X_train.shape)\n",
    "print('X_train_rfe.shape:', X_train_rfe.shape)"
   ]
  },
  {
   "cell_type": "code",
   "execution_count": null,
   "id": "c91c2831",
   "metadata": {},
   "outputs": [],
   "source": [
    "# 특성 선택 여부 표시\n",
    "mask = select.get_support()\n",
    "mask"
   ]
  },
  {
   "cell_type": "code",
   "execution_count": null,
   "id": "b893c7e7",
   "metadata": {},
   "outputs": [],
   "source": [
    "# True는 검은색, False는 흰색으로 표시\n",
    "plt.matshow(mask.reshape(1, -1), cmap='gray_r')\n",
    "\n",
    "plt.title('랜덤 포레스트 분류 모델을 사용한 RFE가 선택한 특성')\n",
    "plt.xlabel('특성 번호')\n",
    "plt.yticks([0])\n",
    "plt.show()"
   ]
  },
  {
   "cell_type": "code",
   "execution_count": null,
   "id": "67aab961",
   "metadata": {},
   "outputs": [],
   "source": [
    "#\n",
    "# 반복적 특성 선택 기반 성능 비교 - Logistic Regression\n",
    "#\n",
    "\n",
    "from sklearn.linear_model import LogisticRegression\n",
    "\n",
    "# 테스트 데이터 변환: 특성 선택\n",
    "X_test_rfe = select.transform(X_test)\n",
    "\n",
    "# LogisticRegression\n",
    "lr = LogisticRegression(max_iter=5000)\n",
    "\n",
    "lr.fit(X_train_rfe, y_train)\n",
    "print('반복적 특성 선택 적용(일부 특성 사용): {:.3f}'.format(lr.score(X_test_rfe, y_test)))"
   ]
  },
  {
   "cell_type": "code",
   "execution_count": null,
   "id": "7f5317ef",
   "metadata": {},
   "outputs": [],
   "source": [
    "print('랜덤 포레스트(전체 특성 사용): {:.3f}'.format(select.score(X_test, y_test)))"
   ]
  },
  {
   "cell_type": "markdown",
   "id": "f56f6700",
   "metadata": {},
   "source": [
    "# 2 Missing Value - 결측치"
   ]
  },
  {
   "cell_type": "markdown",
   "id": "fc954f74",
   "metadata": {},
   "source": [
    "#### NaN 처리 메서드\n",
    "\n",
    "인자 | 설명\n",
    ":---|:---\n",
    "dropna | 누락된 데이터가 있는 축(로우, 칼럼)을 제외시킨다. 어느 정도의 누락 데이터까지 용인할 것인지 지정할 수 있다.\n",
    "fillna | 누락된 데이터를 대신할 값을 채우거나 'ffill' 또는 'bfill' 같은 보간 메서드를 적용한다.\n",
    "isnull | 누락되거나 NA인 값을 알려주는 불리언 값이 저장된, 같은 형의 객체를 반환한다.\n",
    "notnull | isnull과 반대되는 메서드다."
   ]
  },
  {
   "cell_type": "markdown",
   "id": "0f64d501",
   "metadata": {},
   "source": [
    "### 2.1 결측치 삭제"
   ]
  },
  {
   "cell_type": "code",
   "execution_count": null,
   "id": "922eebea",
   "metadata": {},
   "outputs": [],
   "source": [
    "df = pd.DataFrame([[1, 6.5, 3, np.nan],\n",
    "                   [1, np.nan, np.nan, np.nan],\n",
    "                   [np.nan, np.nan, np.nan, np.nan],\n",
    "                   [np.nan, 6.5, 3, np.nan]])\n",
    "df"
   ]
  },
  {
   "cell_type": "code",
   "execution_count": null,
   "id": "edb19a8e",
   "metadata": {},
   "outputs": [],
   "source": [
    "# NaN이 하나라도 있으면 drop\n",
    "df.dropna()"
   ]
  },
  {
   "cell_type": "code",
   "execution_count": null,
   "id": "ce5146e0",
   "metadata": {},
   "outputs": [],
   "source": [
    "# 모든 값이 NaN인 로우만 삭제\n",
    "df.dropna(how='all')"
   ]
  },
  {
   "cell_type": "code",
   "execution_count": null,
   "id": "1193be6e",
   "metadata": {},
   "outputs": [],
   "source": [
    "# 행방향 처리\n",
    "df.dropna(axis=0, how='all')"
   ]
  },
  {
   "cell_type": "code",
   "execution_count": null,
   "id": "1c570bd1",
   "metadata": {},
   "outputs": [],
   "source": [
    "# 열방향 처리\n",
    "df.dropna(axis=1, how='all')"
   ]
  },
  {
   "cell_type": "code",
   "execution_count": null,
   "id": "53cad37a",
   "metadata": {},
   "outputs": [],
   "source": [
    "df.dropna(thresh=3)"
   ]
  },
  {
   "cell_type": "markdown",
   "id": "9e5d22a9",
   "metadata": {},
   "source": [
    "### 2.2 결측치 채우기"
   ]
  },
  {
   "cell_type": "markdown",
   "id": "0e99e097",
   "metadata": {},
   "source": [
    "#### fillna 함수 인자\n",
    "\n",
    "인자 | 설명\n",
    ":---|:---\n",
    "value | 비어있는 값을 채울 스칼라 값이나 사전 형식의 객체\n",
    "method | 보간 방식. 기본적으로 'ffill'을 사용한다.\n",
    "axis | 값을 채워 넣을 축. 기본 값은 0\n",
    "inplace | 복사본을 생성하지 않고 호출한 객체를 변경한다. 기본값은 False\n",
    "limit | 값을 앞 혹은 뒤에서 몇 개까지 채울지를 지정한다."
   ]
  },
  {
   "cell_type": "code",
   "execution_count": null,
   "id": "39703343",
   "metadata": {},
   "outputs": [],
   "source": [
    "#df.fillna(0, inplace=True) # 원본 수정\n",
    "df.fillna(0)"
   ]
  },
  {
   "cell_type": "code",
   "execution_count": null,
   "id": "9eceaa6b",
   "metadata": {},
   "outputs": [],
   "source": [
    "# 컬럼별로 값 지정\n",
    "df.fillna({1: 0.5, 3: -1})"
   ]
  },
  {
   "cell_type": "code",
   "execution_count": null,
   "id": "e949df80",
   "metadata": {},
   "outputs": [],
   "source": [
    "df = pd.DataFrame(np.random.randn(6, 3))\n",
    "df.loc[2:, 1] = np.nan\n",
    "df.loc[4:, 2] = np.nan\n",
    "df"
   ]
  },
  {
   "cell_type": "code",
   "execution_count": null,
   "id": "186868d4",
   "metadata": {},
   "outputs": [],
   "source": [
    "df.fillna(method='ffill')"
   ]
  },
  {
   "cell_type": "code",
   "execution_count": null,
   "id": "6ef8b26d",
   "metadata": {},
   "outputs": [],
   "source": [
    "df.fillna(method='ffill', limit=2)"
   ]
  },
  {
   "cell_type": "code",
   "execution_count": null,
   "id": "ff6ec9df",
   "metadata": {},
   "outputs": [],
   "source": [
    "sr = pd.Series([1., np.nan, 3.5, np.nan, 7])\n",
    "sr"
   ]
  },
  {
   "cell_type": "code",
   "execution_count": null,
   "id": "e7a46570",
   "metadata": {},
   "outputs": [],
   "source": [
    "sr.fillna(sr.mean())"
   ]
  },
  {
   "cell_type": "markdown",
   "id": "c20e7589",
   "metadata": {},
   "source": [
    "# 3 Outlier - 이상치"
   ]
  },
  {
   "cell_type": "markdown",
   "id": "c4cee800",
   "metadata": {},
   "source": [
    "### 3.1 Define function - vp_drop_outlier()"
   ]
  },
  {
   "cell_type": "code",
   "execution_count": null,
   "id": "67819713",
   "metadata": {},
   "outputs": [],
   "source": [
    "def vp_drop_outlier(df, col, weight=1.5):\n",
    "    sr = df[col]\n",
    "    \n",
    "    q25 = np.percentile(sr.values, 25)\n",
    "    q75 = np.percentile(sr.values, 75)\n",
    "    \n",
    "    iqr   = q75 - q25\n",
    "    iqr_w = iqr * weight\n",
    "    \n",
    "    val_l = q25 - iqr_w\n",
    "    val_h = q75 + iqr_w\n",
    "    \n",
    "    outlier_index = sr[(sr < val_l) | (sr > val_h)].index\n",
    "    \n",
    "    df_res = df.drop(outlier_index).copy()\n",
    "    \n",
    "    return df_res"
   ]
  },
  {
   "cell_type": "markdown",
   "id": "9bd29dc1",
   "metadata": {},
   "source": [
    "#### 3.1.1 Create DataFrame"
   ]
  },
  {
   "cell_type": "code",
   "execution_count": null,
   "id": "73238113",
   "metadata": {},
   "outputs": [],
   "source": [
    "df = pd.DataFrame({'col1': range(100,110),\n",
    "                   'col2': range(100,110),\n",
    "                   'col3': range(100,110)})\n",
    "df.loc[0,'col1'] = 95\n",
    "df.loc[1,'col1'] = 115\n",
    "\n",
    "df.loc[2,'col2'] = 92\n",
    "df.loc[3,'col2'] = 117\n",
    "\n",
    "df.loc[4,'col3'] = 90\n",
    "df.loc[5,'col3'] = 120"
   ]
  },
  {
   "cell_type": "code",
   "execution_count": null,
   "id": "f92efd5d",
   "metadata": {},
   "outputs": [],
   "source": [
    "df"
   ]
  },
  {
   "cell_type": "markdown",
   "id": "e1765f58",
   "metadata": {},
   "source": [
    "#### 3.1.2 Box Plot"
   ]
  },
  {
   "cell_type": "code",
   "execution_count": null,
   "id": "a84363e5",
   "metadata": {},
   "outputs": [],
   "source": [
    "sns.boxplot(data=df)\n",
    "plt.show()"
   ]
  },
  {
   "cell_type": "markdown",
   "id": "f39834b2",
   "metadata": {},
   "source": [
    "#### 3.1.3 drop outlier - col1"
   ]
  },
  {
   "cell_type": "code",
   "execution_count": null,
   "id": "2efefe14",
   "metadata": {},
   "outputs": [],
   "source": [
    "vp_drop_outlier(df,'col1')"
   ]
  },
  {
   "cell_type": "markdown",
   "id": "72423ebe",
   "metadata": {},
   "source": [
    "#### 3.1.4 drop outlier - col2"
   ]
  },
  {
   "cell_type": "code",
   "execution_count": null,
   "id": "63f48b63",
   "metadata": {},
   "outputs": [],
   "source": [
    "vp_drop_outlier(df,'col2')"
   ]
  },
  {
   "cell_type": "markdown",
   "id": "daf7fc70",
   "metadata": {},
   "source": [
    "#### 3.1.5 drop outlier - col3"
   ]
  },
  {
   "cell_type": "code",
   "execution_count": null,
   "id": "5566352e",
   "metadata": {},
   "outputs": [],
   "source": [
    "vp_drop_outlier(df,'col3')"
   ]
  },
  {
   "cell_type": "markdown",
   "id": "2ff81c36",
   "metadata": {},
   "source": [
    "# 4 Data Sampling\n",
    "- Under Sampling\n",
    "- Over Sampling - SMOTE"
   ]
  },
  {
   "cell_type": "markdown",
   "id": "a8eb0de4",
   "metadata": {},
   "source": [
    "### 4.1 데이터 로딩"
   ]
  },
  {
   "cell_type": "code",
   "execution_count": null,
   "id": "1ae88c58",
   "metadata": {},
   "outputs": [],
   "source": [
    "df = pd.read_csv('./data/creditcard.csv')\n",
    "df.drop('Time', axis=1, inplace=True)\n",
    "df"
   ]
  },
  {
   "cell_type": "code",
   "execution_count": null,
   "id": "4a1c7032",
   "metadata": {},
   "outputs": [],
   "source": [
    "# 0: 정상 거래, 1: 사기 거래\n",
    "df['Class'].value_counts()"
   ]
  },
  {
   "cell_type": "markdown",
   "id": "63a61f86",
   "metadata": {},
   "source": [
    "### 4.2 데이터 분할"
   ]
  },
  {
   "cell_type": "code",
   "execution_count": null,
   "id": "7dd049c7",
   "metadata": {},
   "outputs": [],
   "source": [
    "from sklearn.model_selection import train_test_split\n",
    "\n",
    "X = df.drop('Class', axis=1)\n",
    "y = df['Class']\n",
    "X_train, X_test, y_train, y_test = train_test_split(X, y, stratify=y, random_state=123)"
   ]
  },
  {
   "cell_type": "code",
   "execution_count": null,
   "id": "86020758",
   "metadata": {},
   "outputs": [],
   "source": [
    "# 0: 정상 거래, 1: 사기 거래\n",
    "print(f'X_train: {X_train.shape}, y_train: {y_train.shape}')\n",
    "pd.Series(y_train).value_counts()"
   ]
  },
  {
   "cell_type": "markdown",
   "id": "b9f8cd7f",
   "metadata": {},
   "source": [
    "### 4.3 Over Sampling 적용 - SMOTE"
   ]
  },
  {
   "cell_type": "code",
   "execution_count": null,
   "id": "cf90f0b6",
   "metadata": {},
   "outputs": [],
   "source": [
    "#!pip install imbalanced-learn"
   ]
  },
  {
   "cell_type": "markdown",
   "id": "45207802",
   "metadata": {},
   "source": [
    "#### 4.3.1 SMOTE 모델 생성"
   ]
  },
  {
   "cell_type": "code",
   "execution_count": null,
   "id": "ac019b43",
   "metadata": {},
   "outputs": [],
   "source": [
    "from imblearn.over_sampling import SMOTE\n",
    "smote = SMOTE(random_state=123)"
   ]
  },
  {
   "cell_type": "markdown",
   "id": "adea05f7",
   "metadata": {},
   "source": [
    "#### 4.3.2 데이터 생성"
   ]
  },
  {
   "cell_type": "code",
   "execution_count": null,
   "id": "f620f9cb",
   "metadata": {},
   "outputs": [],
   "source": [
    "X_train_over, y_train_over = smote.fit_resample(X_train, y_train)"
   ]
  },
  {
   "cell_type": "markdown",
   "id": "452f2f61",
   "metadata": {},
   "source": [
    "#### 4.3.3 데이터 확인"
   ]
  },
  {
   "cell_type": "code",
   "execution_count": null,
   "id": "19c73275",
   "metadata": {},
   "outputs": [],
   "source": [
    "# 0: 정상 거래, 1: 사기 거래\n",
    "print(f'X_train_over: {X_train_over.shape}, y_train_over: {y_train_over.shape}')\n",
    "pd.Series(y_train_over).value_counts()"
   ]
  },
  {
   "cell_type": "markdown",
   "id": "d41a2ec3",
   "metadata": {},
   "source": [
    "### 4.4 Over Sampling 적용 후 분류 모델 평가"
   ]
  },
  {
   "cell_type": "code",
   "execution_count": null,
   "id": "4431df81",
   "metadata": {},
   "outputs": [],
   "source": [
    "%%time\n",
    "from sklearn.ensemble import RandomForestClassifier\n",
    "\n",
    "# 모델 생성\n",
    "rf = RandomForestClassifier(n_estimators=5, random_state=123)\n",
    "\n",
    "# 모델 학습\n",
    "rf.fit(X_train_over, y_train_over)\n",
    "\n",
    "# 모델 평가\n",
    "rf.score(X_test, y_test)"
   ]
  },
  {
   "cell_type": "markdown",
   "id": "f076fa13",
   "metadata": {},
   "source": [
    "---"
   ]
  },
  {
   "cell_type": "code",
   "execution_count": null,
   "id": "810a4484",
   "metadata": {},
   "outputs": [],
   "source": [
    "# End of file"
   ]
  },
  {
   "cell_type": "code",
   "execution_count": null,
   "id": "85afea49",
   "metadata": {},
   "outputs": [],
   "source": []
  }
 ],
 "metadata": {
  "kernelspec": {
   "display_name": "Python 3 (ipykernel)",
   "language": "python",
   "name": "python3"
  },
  "language_info": {
   "codemirror_mode": {
    "name": "ipython",
    "version": 3
   },
   "file_extension": ".py",
   "mimetype": "text/x-python",
   "name": "python",
   "nbconvert_exporter": "python",
   "pygments_lexer": "ipython3",
   "version": "3.9.7"
  },
  "vp": {
   "vp_config_version": "1.0.0",
   "vp_menu_width": 273,
   "vp_note_display": true,
   "vp_note_width": 263,
   "vp_position": {
    "width": 541
   },
   "vp_section_display": false,
   "vp_signature": "VisualPython"
  }
 },
 "nbformat": 4,
 "nbformat_minor": 5
}
