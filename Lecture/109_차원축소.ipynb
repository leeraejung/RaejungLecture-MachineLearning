{
 "cells": [
  {
   "cell_type": "markdown",
   "id": "be8459af",
   "metadata": {},
   "source": [
    "# Dimension Reduction - 차원 축소"
   ]
  },
  {
   "cell_type": "markdown",
   "id": "c0c93566",
   "metadata": {},
   "source": [
    "---"
   ]
  },
  {
   "cell_type": "code",
   "execution_count": null,
   "id": "f758a8dd",
   "metadata": {},
   "outputs": [],
   "source": [
    "import numpy as np\n",
    "import pandas as pd\n",
    "import matplotlib.pyplot as plt\n",
    "import seaborn as sns\n",
    "\n",
    "import mglearn\n",
    "\n",
    "plt.rc('figure', figsize=(10, 6))\n",
    "\n",
    "from matplotlib import rcParams\n",
    "rcParams['font.family'] = 'New Gulim'\n",
    "rcParams['font.size'] = 10\n",
    "rcParams['axes.unicode_minus'] = False"
   ]
  },
  {
   "cell_type": "markdown",
   "id": "b1181809",
   "metadata": {},
   "source": [
    "- 피처 선택(Feature selection)\n",
    "- 피처 추출(Feature extraction)"
   ]
  },
  {
   "cell_type": "markdown",
   "id": "61d2b2d5",
   "metadata": {},
   "source": [
    "# 1 PCA(Principal Component Analysis) - 주성분 분석"
   ]
  },
  {
   "cell_type": "markdown",
   "id": "c489f7d5",
   "metadata": {},
   "source": [
    "[PCA](https://excelsior-cjh.tistory.com/167)"
   ]
  },
  {
   "cell_type": "code",
   "execution_count": null,
   "id": "0f45dc08",
   "metadata": {
    "hide_input": false
   },
   "outputs": [],
   "source": [
    "mglearn.plots.plot_pca_illustration()"
   ]
  },
  {
   "cell_type": "markdown",
   "id": "089bbc52",
   "metadata": {},
   "source": [
    "### 1.1 PCA 적용 - 유방암 데이터 셋"
   ]
  },
  {
   "cell_type": "markdown",
   "id": "eda34b6c",
   "metadata": {},
   "source": [
    "#### 1.1.1 데이터 로딩 및 스케일링"
   ]
  },
  {
   "cell_type": "code",
   "execution_count": null,
   "id": "52bc270e",
   "metadata": {},
   "outputs": [],
   "source": [
    "from sklearn.datasets import load_breast_cancer\n",
    "from sklearn.preprocessing import StandardScaler\n",
    "\n",
    "cancer = load_breast_cancer()\n",
    "\n",
    "scaler = StandardScaler()\n",
    "scaler.fit(cancer.data)\n",
    "X_scaled = scaler.transform(cancer.data)"
   ]
  },
  {
   "cell_type": "markdown",
   "id": "c9d32054",
   "metadata": {},
   "source": [
    "#### 1.1.2 PCA 적용"
   ]
  },
  {
   "cell_type": "code",
   "execution_count": null,
   "id": "669276ac",
   "metadata": {},
   "outputs": [],
   "source": [
    "from sklearn.decomposition import PCA\n",
    "\n",
    "# PCA 모델 생성 - 주성분 2개\n",
    "pca = PCA(n_components=2)\n",
    "\n",
    "# 모델 학습(규칙 설정)\n",
    "pca.fit(X_scaled)\n",
    "\n",
    "# 데이터 변환(PCA 적용)\n",
    "X_pca = pca.transform(X_scaled)"
   ]
  },
  {
   "cell_type": "code",
   "execution_count": null,
   "id": "556cb226",
   "metadata": {},
   "outputs": [],
   "source": [
    "print('원본 데이터 형태:', X_scaled.shape)\n",
    "print('PCA 적용된 데이터 형태:', X_pca.shape)"
   ]
  },
  {
   "cell_type": "markdown",
   "id": "6da843c8",
   "metadata": {},
   "source": [
    "#### 1.1.3 PCA 성분"
   ]
  },
  {
   "cell_type": "code",
   "execution_count": null,
   "id": "8d901151",
   "metadata": {},
   "outputs": [],
   "source": [
    "pca.components_.shape"
   ]
  },
  {
   "cell_type": "code",
   "execution_count": null,
   "id": "b7bc1f71",
   "metadata": {},
   "outputs": [],
   "source": [
    "pca.components_"
   ]
  },
  {
   "cell_type": "code",
   "execution_count": null,
   "id": "7df789e4",
   "metadata": {},
   "outputs": [],
   "source": [
    "# 정보를 담고 있는 비율\n",
    "pca.explained_variance_ratio_"
   ]
  },
  {
   "cell_type": "markdown",
   "id": "f78d1500",
   "metadata": {},
   "source": [
    "#### 1.1.4 주성분 2개로 데이터 시각화"
   ]
  },
  {
   "cell_type": "code",
   "execution_count": null,
   "id": "e8513e64",
   "metadata": {},
   "outputs": [],
   "source": [
    "plt.figure(figsize=(9, 9))\n",
    "mglearn.discrete_scatter(X_pca[:, 0], X_pca[:, 1], cancer.target)\n",
    "\n",
    "plt.legend(['악성', '양성'], loc='best')\n",
    "\n",
    "plt.xlabel('첫 번째 주성분')\n",
    "plt.ylabel('두 번째 주성분')\n",
    "plt.show()"
   ]
  },
  {
   "cell_type": "markdown",
   "id": "99588700",
   "metadata": {},
   "source": [
    "### 1.2 PCA 적용 - Iris 데이터 셋"
   ]
  },
  {
   "cell_type": "markdown",
   "id": "e8722bff",
   "metadata": {},
   "source": [
    "#### 1.2.1 데이터 로딩"
   ]
  },
  {
   "cell_type": "code",
   "execution_count": null,
   "id": "52708ff1",
   "metadata": {},
   "outputs": [],
   "source": [
    "from sklearn.datasets import load_iris\n",
    "\n",
    "iris = load_iris()\n",
    "\n",
    "df = pd.DataFrame(iris.data , columns=iris.feature_names)\n",
    "df['target']=iris.target\n",
    "df"
   ]
  },
  {
   "cell_type": "markdown",
   "id": "9a372056",
   "metadata": {},
   "source": [
    "#### 1.2.2 데이터 시각화"
   ]
  },
  {
   "cell_type": "code",
   "execution_count": null,
   "id": "a1edce02",
   "metadata": {},
   "outputs": [],
   "source": [
    "markers=['^', 's', 'o']\n",
    "\n",
    "for i, marker in enumerate(markers):\n",
    "    x_axis_data = df[df['target']==i]['sepal length (cm)']\n",
    "    y_axis_data = df[df['target']==i]['sepal width (cm)']\n",
    "    \n",
    "    plt.scatter(x_axis_data, y_axis_data, marker=marker,label=iris.target_names[i])\n",
    "\n",
    "plt.xlabel('sepal length')\n",
    "plt.ylabel('sepal width')\n",
    "plt.legend()\n",
    "plt.show()"
   ]
  },
  {
   "cell_type": "markdown",
   "id": "0b5756c7",
   "metadata": {},
   "source": [
    "#### 1.2.3 데이터 스케일링"
   ]
  },
  {
   "cell_type": "code",
   "execution_count": null,
   "id": "66de7c84",
   "metadata": {},
   "outputs": [],
   "source": [
    "from sklearn.preprocessing import StandardScaler\n",
    "\n",
    "iris_scaled = StandardScaler().fit_transform(iris.data)"
   ]
  },
  {
   "cell_type": "markdown",
   "id": "737b51b0",
   "metadata": {},
   "source": [
    "#### 1.2.4 PCA 적용"
   ]
  },
  {
   "cell_type": "code",
   "execution_count": null,
   "id": "8373a48d",
   "metadata": {},
   "outputs": [],
   "source": [
    "from sklearn.decomposition import PCA\n",
    "\n",
    "# PCA 모델 생성 - 주성분 2개\n",
    "pca = PCA(n_components=2)\n",
    "\n",
    "# 모델 학습(규칙 설정)\n",
    "pca.fit(iris_scaled)\n",
    "\n",
    "# 데이터 변환(PCA 적용)\n",
    "iris_pca = pca.transform(iris_scaled)"
   ]
  },
  {
   "cell_type": "code",
   "execution_count": null,
   "id": "a9332a14",
   "metadata": {},
   "outputs": [],
   "source": [
    "print('원본 데이터 형태:', iris_scaled.shape)\n",
    "print('PCA 적용된 데이터 형태:', iris_pca.shape)"
   ]
  },
  {
   "cell_type": "markdown",
   "id": "183a55eb",
   "metadata": {},
   "source": [
    "#### 1.2.5 PCA 성분"
   ]
  },
  {
   "cell_type": "code",
   "execution_count": null,
   "id": "c5b5437a",
   "metadata": {},
   "outputs": [],
   "source": [
    "pca.components_.shape"
   ]
  },
  {
   "cell_type": "code",
   "execution_count": null,
   "id": "218f8f51",
   "metadata": {},
   "outputs": [],
   "source": [
    "pca.components_"
   ]
  },
  {
   "cell_type": "code",
   "execution_count": null,
   "id": "963a7a04",
   "metadata": {},
   "outputs": [],
   "source": [
    "# 정보를 담고 있는 비율\n",
    "pca.explained_variance_ratio_"
   ]
  },
  {
   "cell_type": "markdown",
   "id": "cea76b5e",
   "metadata": {},
   "source": [
    "#### 1.2.6 PCA 적용된 DataFrame 생성"
   ]
  },
  {
   "cell_type": "code",
   "execution_count": null,
   "id": "158fc83a",
   "metadata": {},
   "outputs": [],
   "source": [
    "pca_columns=['pca_component_1','pca_component_2']\n",
    "\n",
    "df_pca = pd.DataFrame(iris_pca, columns=pca_columns)\n",
    "\n",
    "df_pca['target']=iris.target\n",
    "df_pca"
   ]
  },
  {
   "cell_type": "markdown",
   "id": "29d847e1",
   "metadata": {},
   "source": [
    "#### 1.2.7 PCA 적용된 데이터 시각화"
   ]
  },
  {
   "cell_type": "code",
   "execution_count": null,
   "id": "f71879d4",
   "metadata": {},
   "outputs": [],
   "source": [
    "markers=['^', 's', 'o']\n",
    "\n",
    "for i, marker in enumerate(markers):\n",
    "    x_axis_data = df_pca[df_pca['target']==i]['pca_component_1']\n",
    "    y_axis_data = df_pca[df_pca['target']==i]['pca_component_2']\n",
    "    \n",
    "    plt.scatter(x_axis_data, y_axis_data, marker=marker,label=iris.target_names[i])\n",
    "\n",
    "plt.title('PCA 적용된 데이터')\n",
    "plt.xlabel('pca_component_1')\n",
    "plt.ylabel('pca_component_2')\n",
    "plt.legend()\n",
    "plt.show()"
   ]
  },
  {
   "cell_type": "markdown",
   "id": "f65adbca",
   "metadata": {},
   "source": [
    "#### 1.2.8 분류 예측: 원본 데이터 사용"
   ]
  },
  {
   "cell_type": "code",
   "execution_count": null,
   "id": "23e43deb",
   "metadata": {},
   "outputs": [],
   "source": [
    "from sklearn.ensemble import RandomForestClassifier\n",
    "from sklearn.model_selection import cross_val_score\n",
    "\n",
    "rcf = RandomForestClassifier(random_state=123)\n",
    "\n",
    "scores = cross_val_score(rcf, iris.data, iris.target, scoring='accuracy',cv=5)\n",
    "\n",
    "print(scores)"
   ]
  },
  {
   "cell_type": "markdown",
   "id": "2222325f",
   "metadata": {},
   "source": [
    "#### 1.2.9 분류 예측: PCA 적용된 데이터 사용"
   ]
  },
  {
   "cell_type": "code",
   "execution_count": null,
   "id": "5f031feb",
   "metadata": {},
   "outputs": [],
   "source": [
    "pca_X = df_pca[['pca_component_1', 'pca_component_2']]\n",
    "\n",
    "scores_pca = cross_val_score(rcf, pca_X, iris.target, scoring='accuracy', cv=5)\n",
    "\n",
    "print(scores_pca)"
   ]
  },
  {
   "cell_type": "markdown",
   "id": "cf475775",
   "metadata": {},
   "source": [
    "# 2 LDA(Linear Discriminant Analysis) - 선형 판별 분석"
   ]
  },
  {
   "cell_type": "markdown",
   "id": "dbefea9c",
   "metadata": {},
   "source": [
    "### 2.1 LDA 적용 - Iris 데이터 셋"
   ]
  },
  {
   "cell_type": "markdown",
   "id": "c4ec32c5",
   "metadata": {},
   "source": [
    "#### 2.1.1 LDA 적용"
   ]
  },
  {
   "cell_type": "code",
   "execution_count": null,
   "id": "e1fb8fec",
   "metadata": {},
   "outputs": [],
   "source": [
    "from sklearn.discriminant_analysis import LinearDiscriminantAnalysis\n",
    "\n",
    "# LDA 모델 생성 - 주성분 2개\n",
    "lda = LinearDiscriminantAnalysis(n_components=2)\n",
    "\n",
    "# 모델 학습(규칙 설정) - target data 필요\n",
    "lda.fit(iris_scaled, iris.target)\n",
    "\n",
    "# 데이터 변환(LDA 적용)\n",
    "iris_lda = lda.transform(iris_scaled)"
   ]
  },
  {
   "cell_type": "code",
   "execution_count": null,
   "id": "f3fc0311",
   "metadata": {},
   "outputs": [],
   "source": [
    "print('원본 데이터 형태:', iris_scaled.shape)\n",
    "print('LDA 적용된 데이터 형태:', iris_lda.shape)"
   ]
  },
  {
   "cell_type": "markdown",
   "id": "846f339b",
   "metadata": {},
   "source": [
    "#### 2.1.2 LDA 적용된 DataFrame 생성"
   ]
  },
  {
   "cell_type": "code",
   "execution_count": null,
   "id": "b435fd5b",
   "metadata": {},
   "outputs": [],
   "source": [
    "lda_columns=['lda_component_1','lda_component_2']\n",
    "\n",
    "df_lda = pd.DataFrame(iris_lda, columns=lda_columns)\n",
    "\n",
    "df_lda['target']=iris.target\n",
    "df_lda"
   ]
  },
  {
   "cell_type": "markdown",
   "id": "b4ad0706",
   "metadata": {},
   "source": [
    "#### 2.1.3 LDA 적용된 데이터 시각화"
   ]
  },
  {
   "cell_type": "code",
   "execution_count": null,
   "id": "032fd237",
   "metadata": {},
   "outputs": [],
   "source": [
    "markers=['^', 's', 'o']\n",
    "\n",
    "for i, marker in enumerate(markers):\n",
    "    x_axis_data = df_lda[df_lda['target']==i]['lda_component_1']\n",
    "    y_axis_data = df_lda[df_lda['target']==i]['lda_component_2']\n",
    "    \n",
    "    plt.scatter(x_axis_data, y_axis_data, marker=marker,label=iris.target_names[i])\n",
    "\n",
    "plt.title('LDA 적용된 데이터')\n",
    "plt.xlabel('lda_component_1')\n",
    "plt.ylabel('lda_component_2')\n",
    "plt.legend()\n",
    "plt.show()"
   ]
  },
  {
   "cell_type": "markdown",
   "id": "78c6d5f8",
   "metadata": {},
   "source": [
    "# 3 SVD(Singular Value Decomposition) - 특이값 분해"
   ]
  },
  {
   "cell_type": "markdown",
   "id": "9c2e5c75",
   "metadata": {},
   "source": [
    "[SVD](https://ratsgo.github.io/from%20frequency%20to%20semantics/2017/04/06/pcasvdlsa/)"
   ]
  },
  {
   "cell_type": "markdown",
   "id": "64999ae9",
   "metadata": {},
   "source": [
    "### 3.1 SVD 를 이용한 행렬 분해"
   ]
  },
  {
   "cell_type": "code",
   "execution_count": null,
   "id": "dc4a4037",
   "metadata": {},
   "outputs": [],
   "source": [
    "from scipy.sparse.linalg import svds\n",
    "from scipy.linalg import svd"
   ]
  },
  {
   "cell_type": "markdown",
   "id": "51b16ef9",
   "metadata": {},
   "source": [
    "#### 3.1.1 데이터 생성"
   ]
  },
  {
   "cell_type": "code",
   "execution_count": null,
   "id": "a0e6cee5",
   "metadata": {},
   "outputs": [],
   "source": [
    "np.random.seed(123)\n",
    "matrix = np.random.random((6, 6))\n",
    "\n",
    "print('원본 행렬:\\n',matrix)"
   ]
  },
  {
   "cell_type": "markdown",
   "id": "b67daaa6",
   "metadata": {},
   "source": [
    "#### 3.1.2 SVD 행렬 분해"
   ]
  },
  {
   "cell_type": "code",
   "execution_count": null,
   "id": "e265d510",
   "metadata": {},
   "outputs": [],
   "source": [
    "U, Sigma, Vt = svd(matrix, full_matrices=False)\n",
    "\n",
    "print('분해 행렬 차원:',U.shape, Sigma.shape, Vt.shape)\n",
    "print('Sigma 행렬:', Sigma)"
   ]
  },
  {
   "cell_type": "markdown",
   "id": "4f7a34c9",
   "metadata": {},
   "source": [
    "#### 3.1.3 Truncated SVD 행렬 분해"
   ]
  },
  {
   "cell_type": "code",
   "execution_count": null,
   "id": "287fea1b",
   "metadata": {},
   "outputs": [],
   "source": [
    "# 특이값: 4\n",
    "num_components = 4\n",
    "\n",
    "U_tr, Sigma_tr, Vt_tr = svds(matrix, k=num_components)\n",
    "\n",
    "print('Truncated SVD 분해 행렬 차원:',U_tr.shape, Sigma_tr.shape, Vt_tr.shape)\n",
    "print('Truncated SVD Sigma 행렬:', Sigma_tr)"
   ]
  },
  {
   "cell_type": "markdown",
   "id": "b2b28731",
   "metadata": {},
   "source": [
    "#### 3.1.4 Truncated SVD 행렬 분해 복원"
   ]
  },
  {
   "cell_type": "code",
   "execution_count": null,
   "id": "ace95738",
   "metadata": {},
   "outputs": [],
   "source": [
    "matrix_tr = np.dot(np.dot(U_tr,np.diag(Sigma_tr)), Vt_tr)\n",
    "\n",
    "print('Truncated SVD로 분해 후 복원 행렬:\\n', matrix_tr)"
   ]
  },
  {
   "cell_type": "markdown",
   "id": "2d791a02",
   "metadata": {},
   "source": [
    "### 3.2 scikit-learn TruncatedSVD 적용 - Iris 데이터 셋"
   ]
  },
  {
   "cell_type": "markdown",
   "id": "5c1bb3a1",
   "metadata": {},
   "source": [
    "#### 3.2.1 TruncatedSVD 적용"
   ]
  },
  {
   "cell_type": "code",
   "execution_count": null,
   "id": "16da44b9",
   "metadata": {},
   "outputs": [],
   "source": [
    "from sklearn.decomposition import TruncatedSVD\n",
    "\n",
    "# SVD 모델 생성 - 주성분 2개\n",
    "tsvd = TruncatedSVD(n_components=2)\n",
    "\n",
    "# 모델 학습(규칙 설정)\n",
    "tsvd.fit(iris.data)\n",
    "\n",
    "# 데이터 변환(SVD 적용)\n",
    "iris_tsvd = tsvd.transform(iris.data)"
   ]
  },
  {
   "cell_type": "markdown",
   "id": "5c08c359",
   "metadata": {},
   "source": [
    "#### 3.2.2 SVD 적용된 데이터 시각화"
   ]
  },
  {
   "cell_type": "code",
   "execution_count": null,
   "id": "ce6cbbc8",
   "metadata": {},
   "outputs": [],
   "source": [
    "plt.scatter(x=iris_tsvd[:,0], y=iris_tsvd[:,1], c=iris.target)\n",
    "\n",
    "plt.title('SVD 적용된 데이터')\n",
    "plt.xlabel('TruncatedSVD Component 1')\n",
    "plt.ylabel('TruncatedSVD Component 2')\n",
    "plt.show()"
   ]
  },
  {
   "cell_type": "markdown",
   "id": "6a023332",
   "metadata": {},
   "source": [
    "#### 3.2.3 PCA - SVD 비교\n",
    "- Scaled data -> 결과 동일\n",
    "- PCA: 밀집 행렬에 적용\n",
    "- SVD: 희소 행렬에도 적용 가능"
   ]
  },
  {
   "cell_type": "code",
   "execution_count": null,
   "id": "bc6c0c6a",
   "metadata": {},
   "outputs": [],
   "source": [
    "# PCA\n",
    "pca = PCA(n_components=2)\n",
    "pca.fit(iris_scaled)\n",
    "iris_pca = pca.transform(iris_scaled)\n",
    "\n",
    "# SVD\n",
    "tsvd = TruncatedSVD(n_components=2)\n",
    "tsvd.fit(iris_scaled)\n",
    "iris_tsvd = tsvd.transform(iris_scaled)"
   ]
  },
  {
   "cell_type": "code",
   "execution_count": null,
   "id": "8c4d409b",
   "metadata": {},
   "outputs": [],
   "source": [
    "# PCA - SVD 시각화\n",
    "\n",
    "fig, (ax1, ax2) = plt.subplots(figsize=(10,5), ncols=2)\n",
    "\n",
    "ax1.scatter(x=iris_tsvd[:,0], y= iris_tsvd[:,1], c= iris.target)\n",
    "ax2.scatter(x=iris_pca[:,0], y= iris_pca[:,1], c= iris.target)\n",
    "\n",
    "ax1.set_title('Truncated SVD Transformed')\n",
    "ax2.set_title('PCA Transformed')\n",
    "plt.show()"
   ]
  },
  {
   "cell_type": "markdown",
   "id": "8a6de580",
   "metadata": {},
   "source": [
    "# 4 NMF(Non-Negative Matrix Factorization) - 비음수 행렬 분해"
   ]
  },
  {
   "cell_type": "markdown",
   "id": "7325dd63",
   "metadata": {},
   "source": [
    "[NMF](https://ssung-22.tistory.com/87)"
   ]
  },
  {
   "cell_type": "markdown",
   "id": "9181bb5b",
   "metadata": {},
   "source": [
    "- 하나의 성분만을 사용한다면 NMF는 데이터를 가장 잘 표현할 수 있는 평균으로 향하는 성분을 선택\n",
    "- 성분의 개수를 바꾸면 전체 성분이 완전히 바뀜\n",
    "- 모든 성분을 동등하게 취급"
   ]
  },
  {
   "cell_type": "code",
   "execution_count": null,
   "id": "9b309bc2",
   "metadata": {},
   "outputs": [],
   "source": [
    "mglearn.plots.plot_nmf_illustration()"
   ]
  },
  {
   "cell_type": "markdown",
   "id": "3f8b91d1",
   "metadata": {},
   "source": [
    "### 4.1 NMF 적용 - Iris 데이터 셋"
   ]
  },
  {
   "cell_type": "markdown",
   "id": "f82e1b36",
   "metadata": {},
   "source": [
    "#### 4.1.1 NMF 적용"
   ]
  },
  {
   "cell_type": "code",
   "execution_count": null,
   "id": "432b1b00",
   "metadata": {},
   "outputs": [],
   "source": [
    "from sklearn.decomposition import NMF\n",
    "\n",
    "# NMF 모델 생성 - 성분 2개\n",
    "nmf = NMF(n_components=2, init='nndsvda', max_iter=500)\n",
    "\n",
    "# 모델 학습(규칙 설정)\n",
    "nmf.fit(iris.data)\n",
    "\n",
    "# 데이터 변환(NMF 적용)\n",
    "iris_nmf = nmf.transform(iris.data)"
   ]
  },
  {
   "cell_type": "code",
   "execution_count": null,
   "id": "bf6c491b",
   "metadata": {},
   "outputs": [],
   "source": [
    "print('원본 데이터 형태:', iris.data.shape)\n",
    "print('NMF 적용된 데이터 형태:', iris_nmf.shape)"
   ]
  },
  {
   "cell_type": "markdown",
   "id": "5374bf00",
   "metadata": {},
   "source": [
    "#### 4.1.2 NMF 적용된 데이터 시각화"
   ]
  },
  {
   "cell_type": "code",
   "execution_count": null,
   "id": "97d17ef6",
   "metadata": {},
   "outputs": [],
   "source": [
    "plt.scatter(x=iris_nmf[:,0], y=iris_nmf[:,1], c=iris.target)\n",
    "\n",
    "plt.title('NMF 적용된 데이터')\n",
    "plt.xlabel('NMF Component 1')\n",
    "plt.ylabel('NMF Component 2')\n",
    "plt.show()"
   ]
  },
  {
   "cell_type": "markdown",
   "id": "d87d276d",
   "metadata": {},
   "source": [
    "# 5 t-SNE(t-Distributed Stochastic Neighbor Embedding)"
   ]
  },
  {
   "cell_type": "markdown",
   "id": "23a10a6e",
   "metadata": {},
   "source": [
    "### 5.1 데이터 로딩"
   ]
  },
  {
   "cell_type": "code",
   "execution_count": null,
   "id": "94f8ee66",
   "metadata": {},
   "outputs": [],
   "source": [
    "from sklearn.datasets import load_digits\n",
    "digits = load_digits()\n",
    "\n",
    "fig, axes = plt.subplots(2, 5, figsize=(10, 5), subplot_kw={'xticks':(), 'yticks': ()})\n",
    "for ax, img in zip(axes.ravel(), digits.images):\n",
    "    ax.imshow(img)"
   ]
  },
  {
   "cell_type": "markdown",
   "id": "20b5acc0",
   "metadata": {},
   "source": [
    "### 5.2 PCA 적용: 2개의 성분으로 시각화"
   ]
  },
  {
   "cell_type": "markdown",
   "id": "56dede9f",
   "metadata": {},
   "source": [
    "#### 5.2.1 PCA 적용"
   ]
  },
  {
   "cell_type": "code",
   "execution_count": null,
   "id": "a8fff310",
   "metadata": {},
   "outputs": [],
   "source": [
    "from sklearn.decomposition import PCA\n",
    "\n",
    "# PCA 모델 생성 - 주성분 2개\n",
    "pca = PCA(n_components=2)\n",
    "\n",
    "# 모델 학습(규칙 설정)\n",
    "pca.fit(digits.data)\n",
    "\n",
    "# 데이터 변환(PCA 적용)\n",
    "digits_pca = pca.transform(digits.data)"
   ]
  },
  {
   "cell_type": "markdown",
   "id": "a3c975db",
   "metadata": {},
   "source": [
    "#### 5.2.2 PCA 적용 시각화"
   ]
  },
  {
   "cell_type": "code",
   "execution_count": null,
   "id": "351e56b4",
   "metadata": {
    "scrolled": false
   },
   "outputs": [],
   "source": [
    "colors = [\"#476A2A\", \"#7851B8\", \"#BD3430\", \"#4A2D4E\", \"#875525\",\n",
    "          \"#A83683\", \"#4E655E\", \"#853541\", \"#3A3120\",\"#535D8E\"]\n",
    "          \n",
    "plt.figure(figsize=(10, 10))\n",
    "plt.xlim(digits_pca[:, 0].min(), digits_pca[:, 0].max())\n",
    "plt.ylim(digits_pca[:, 1].min(), digits_pca[:, 1].max())\n",
    "\n",
    "for i in range(len(digits.data)):\n",
    "    # 숫자 텍스트를 이용해 산점도를 그립니다\n",
    "    plt.text(digits_pca[i, 0], digits_pca[i, 1], str(digits.target[i]),\n",
    "             color = colors[digits.target[i]],\n",
    "             fontdict={'weight': 'bold', 'size': 9})\n",
    "             \n",
    "plt.title('PCA 2개의 주성분을 사용한 숫자 데이터 셋의 산점도')             \n",
    "plt.xlabel('첫 번째 주성분')\n",
    "plt.ylabel('두 번째 주성분')\n",
    "plt.show()"
   ]
  },
  {
   "cell_type": "markdown",
   "id": "2a86facb",
   "metadata": {},
   "source": [
    "### 5.3 t-SNE 적용: 2개의 성분으로 시각화"
   ]
  },
  {
   "cell_type": "markdown",
   "id": "e0869714",
   "metadata": {},
   "source": [
    "#### 5.3.1 t-SNE 적용"
   ]
  },
  {
   "cell_type": "code",
   "execution_count": null,
   "id": "c728ac73",
   "metadata": {},
   "outputs": [],
   "source": [
    "from sklearn.manifold import TSNE\n",
    "\n",
    "# t-SNE 모델 생성\n",
    "tsne = TSNE(learning_rate='auto', random_state=123)\n",
    "\n",
    "# 모델 학습(규칙 설정) 및 데이터 변환(t-SNE 적용)\n",
    "digits_tsne = tsne.fit_transform(digits.data)"
   ]
  },
  {
   "cell_type": "markdown",
   "id": "d6604af6",
   "metadata": {},
   "source": [
    "#### 5.3.2 t-SNE 적용 시각화"
   ]
  },
  {
   "cell_type": "code",
   "execution_count": null,
   "id": "9a7a97f0",
   "metadata": {},
   "outputs": [],
   "source": [
    "plt.figure(figsize=(10, 10))\n",
    "plt.xlim(digits_tsne[:, 0].min(), digits_tsne[:, 0].max() + 1)\n",
    "plt.ylim(digits_tsne[:, 1].min(), digits_tsne[:, 1].max() + 1)\n",
    "\n",
    "for i in range(len(digits.data)):\n",
    "    # 숫자 텍스트를 이용해 산점도를 그립니다\n",
    "    plt.text(digits_tsne[i, 0], digits_tsne[i, 1], str(digits.target[i]),\n",
    "             color = colors[digits.target[i]],\n",
    "             fontdict={'weight': 'bold', 'size': 9})\n",
    "             \n",
    "plt.title('t-SNE로 찾은 2개의 성분을 사용한 숫자 데이터 셋의 산점도')\n",
    "plt.xlabel('t-SNE 특성 0')\n",
    "plt.ylabel('t-SNE 특성 1')\n",
    "plt.show()"
   ]
  },
  {
   "cell_type": "markdown",
   "id": "f076fa13",
   "metadata": {},
   "source": [
    "---"
   ]
  },
  {
   "cell_type": "code",
   "execution_count": null,
   "id": "810a4484",
   "metadata": {},
   "outputs": [],
   "source": [
    "# End of file"
   ]
  },
  {
   "cell_type": "code",
   "execution_count": null,
   "id": "96ce6113",
   "metadata": {},
   "outputs": [],
   "source": []
  }
 ],
 "metadata": {
  "kernelspec": {
   "display_name": "Python 3 (ipykernel)",
   "language": "python",
   "name": "python3"
  },
  "language_info": {
   "codemirror_mode": {
    "name": "ipython",
    "version": 3
   },
   "file_extension": ".py",
   "mimetype": "text/x-python",
   "name": "python",
   "nbconvert_exporter": "python",
   "pygments_lexer": "ipython3",
   "version": "3.9.7"
  },
  "vp": {
   "vp_config_version": "1.0.0",
   "vp_menu_width": 273,
   "vp_note_display": true,
   "vp_note_width": 263,
   "vp_position": {
    "width": 541
   },
   "vp_section_display": false,
   "vp_signature": "VisualPython"
  }
 },
 "nbformat": 4,
 "nbformat_minor": 5
}
