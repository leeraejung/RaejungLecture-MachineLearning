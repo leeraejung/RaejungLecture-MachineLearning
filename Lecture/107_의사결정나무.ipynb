{
 "cells": [
  {
   "cell_type": "markdown",
   "id": "be8459af",
   "metadata": {},
   "source": [
    "# Decision Tree - 의사결정나무"
   ]
  },
  {
   "cell_type": "markdown",
   "id": "c0c93566",
   "metadata": {},
   "source": [
    "---"
   ]
  },
  {
   "cell_type": "code",
   "execution_count": null,
   "id": "f758a8dd",
   "metadata": {},
   "outputs": [],
   "source": [
    "import numpy as np\n",
    "import pandas as pd\n",
    "import matplotlib.pyplot as plt\n",
    "import seaborn as sns\n",
    "\n",
    "import mglearn\n",
    "\n",
    "plt.rc('figure', figsize=(10, 6))\n",
    "\n",
    "from matplotlib import rcParams\n",
    "rcParams['font.family'] = 'New Gulim'\n",
    "rcParams['font.size'] = 10\n",
    "rcParams['axes.unicode_minus'] = False"
   ]
  },
  {
   "cell_type": "markdown",
   "id": "92e122cf",
   "metadata": {},
   "source": [
    "# 1 Decision Tree"
   ]
  },
  {
   "cell_type": "markdown",
   "id": "76af3510",
   "metadata": {},
   "source": [
    "[Decision Tree](https://ratsgo.github.io/machine%20learning/2017/03/26/tree/)"
   ]
  },
  {
   "cell_type": "markdown",
   "id": "b1181809",
   "metadata": {},
   "source": [
    "- [Gini Index](https://wyatt37.tistory.com/9)\n",
    "- Entroy Index\n",
    "- Information Gain"
   ]
  },
  {
   "cell_type": "code",
   "execution_count": null,
   "id": "c5187830",
   "metadata": {
    "hide_input": false,
    "scrolled": false
   },
   "outputs": [],
   "source": [
    "mglearn.plots.plot_animal_tree()"
   ]
  },
  {
   "cell_type": "markdown",
   "id": "5d27cc86",
   "metadata": {},
   "source": [
    "### 1.1 결정 트리 만들기"
   ]
  },
  {
   "cell_type": "code",
   "execution_count": null,
   "id": "c69f562c",
   "metadata": {
    "hide_input": false
   },
   "outputs": [],
   "source": [
    "# 데이터 셋 - two_moons\n",
    "\n",
    "mglearn.plots.plot_tree_progressive()"
   ]
  },
  {
   "cell_type": "markdown",
   "id": "e038a383",
   "metadata": {},
   "source": [
    "### 1.2 결정 트리 복잡도 제어 - Overfitting 방지"
   ]
  },
  {
   "cell_type": "markdown",
   "id": "54137e03",
   "metadata": {},
   "source": [
    "#### 1.2.1 max_depth 조절"
   ]
  },
  {
   "cell_type": "code",
   "execution_count": null,
   "id": "cbb16f89",
   "metadata": {
    "uuid": "6e5d7a76-9bba-42f7-b26e-907775d289b2"
   },
   "outputs": [],
   "source": [
    "# 데이터 로딩 및 데이터 분할\n",
    "\n",
    "from sklearn.datasets import load_breast_cancer\n",
    "from sklearn.model_selection import train_test_split\n",
    "\n",
    "cancer = load_breast_cancer()\n",
    "\n",
    "X_train, X_test, y_train, y_test = train_test_split(cancer.data, cancer.target, stratify=cancer.target, random_state=123)"
   ]
  },
  {
   "cell_type": "code",
   "execution_count": null,
   "id": "143c6771",
   "metadata": {
    "uuid": "6e5d7a76-9bba-42f7-b26e-907775d289b2"
   },
   "outputs": [],
   "source": [
    "# 결정 트리 적용\n",
    "\n",
    "from sklearn.tree import DecisionTreeClassifier\n",
    "\n",
    "tree = DecisionTreeClassifier(random_state=123)\n",
    "tree.fit(X_train, y_train)\n",
    "\n",
    "print('훈련 세트 정확도: {:.3f}'.format(tree.score(X_train, y_train)))\n",
    "print('테스트 세트 정확도: {:.3f}'.format(tree.score(X_test, y_test)))"
   ]
  },
  {
   "cell_type": "code",
   "execution_count": null,
   "id": "60422b93",
   "metadata": {
    "scrolled": true
   },
   "outputs": [],
   "source": [
    "# max_depth 조절\n",
    "\n",
    "tree = DecisionTreeClassifier(max_depth=4, random_state=123)\n",
    "tree.fit(X_train, y_train)\n",
    "\n",
    "print('훈련 세트 정확도: {:.3f}'.format(tree.score(X_train, y_train)))\n",
    "print('테스트 세트 정확도: {:.3f}'.format(tree.score(X_test, y_test)))"
   ]
  },
  {
   "cell_type": "markdown",
   "id": "b19e00dc",
   "metadata": {},
   "source": [
    "#### 1.2.2 min_samples_leaf 조절"
   ]
  },
  {
   "cell_type": "code",
   "execution_count": null,
   "id": "1ff3bc8b",
   "metadata": {},
   "outputs": [],
   "source": [
    "# 데이터 생성\n",
    "\n",
    "from sklearn.datasets import make_classification\n",
    "\n",
    "plt.title('3 Class values with 2 Features Sample data creation')\n",
    "\n",
    "# 2차원 시각화를 위해서 feature는 2개, 결정값 클래스는 3가지 유형의 classification 샘플 데이터 생성. \n",
    "X_features, y_labels = make_classification(n_features=2, n_redundant=0, n_informative=2,\n",
    "                             n_classes=3, n_clusters_per_class=1,random_state=0)\n",
    "\n",
    "# plot 형태로 2개의 feature로 2차원 좌표 시각화, 각 클래스값은 다른 색깔로 표시됨. \n",
    "plt.scatter(X_features[:, 0], X_features[:, 1], marker='o', c=y_labels, s=25, cmap='rainbow', edgecolor='k')\n",
    "plt.show()"
   ]
  },
  {
   "cell_type": "code",
   "execution_count": null,
   "id": "63b3a9b5",
   "metadata": {},
   "outputs": [],
   "source": [
    "# Classifier의 Decision Boundary를 시각화 하는 함수\n",
    "\n",
    "def visualize_boundary(model, X, y):\n",
    "    fig,ax = plt.subplots()\n",
    "    \n",
    "    # 학습 데이타 scatter plot으로 나타내기\n",
    "    ax.scatter(X[:, 0], X[:, 1], c=y, s=25, cmap='rainbow', edgecolor='k',\n",
    "               clim=(y.min(), y.max()), zorder=3)\n",
    "    ax.axis('tight')\n",
    "    ax.axis('off')\n",
    "    xlim_start , xlim_end = ax.get_xlim()\n",
    "    ylim_start , ylim_end = ax.get_ylim()\n",
    "    \n",
    "    # 호출 파라미터로 들어온 training 데이타로 model 학습 . \n",
    "    model.fit(X, y)\n",
    "    # meshgrid 형태인 모든 좌표값으로 예측 수행. \n",
    "    xx, yy = np.meshgrid(np.linspace(xlim_start,xlim_end, num=200),np.linspace(ylim_start,ylim_end, num=200))\n",
    "    Z = model.predict(np.c_[xx.ravel(), yy.ravel()]).reshape(xx.shape)\n",
    "    \n",
    "    # contourf() 를 이용하여 class boundary 를 visualization 수행. \n",
    "    n_classes = len(np.unique(y))\n",
    "    contours = ax.contourf(xx, yy, Z, alpha=0.3,\n",
    "                           levels=np.arange(n_classes + 1) - 0.5,\n",
    "                           cmap='rainbow',# clim=(y.min(), y.max()),\n",
    "                           zorder=1)"
   ]
  },
  {
   "cell_type": "code",
   "execution_count": null,
   "id": "8e9a51a5",
   "metadata": {},
   "outputs": [],
   "source": [
    "# 결정 트리 적용\n",
    "\n",
    "from sklearn.tree import DecisionTreeClassifier\n",
    "\n",
    "# 특정한 트리 생성 제약없는 결정 트리의 Decsion Boundary 시각화.\n",
    "dt_clf = DecisionTreeClassifier().fit(X_features, y_labels)\n",
    "visualize_boundary(dt_clf, X_features, y_labels)"
   ]
  },
  {
   "cell_type": "code",
   "execution_count": null,
   "id": "58a629c1",
   "metadata": {
    "scrolled": false
   },
   "outputs": [],
   "source": [
    "# min_samples_leaf=6 으로 조절\n",
    "\n",
    "dt_clf = DecisionTreeClassifier(min_samples_leaf=6).fit(X_features, y_labels)\n",
    "visualize_boundary(dt_clf, X_features, y_labels)"
   ]
  },
  {
   "cell_type": "markdown",
   "id": "0ab0a68e",
   "metadata": {},
   "source": [
    "### 1.3 결정 트리 분석\n",
    "- 결정 트리 시각화"
   ]
  },
  {
   "cell_type": "code",
   "execution_count": null,
   "id": "d8067405",
   "metadata": {},
   "outputs": [],
   "source": [
    "from sklearn.tree import export_graphviz\n",
    "export_graphviz(tree, out_file='data/tree.dot', class_names=['악성', '양성'],\n",
    "                feature_names=cancer.feature_names, impurity=False, filled=True)"
   ]
  },
  {
   "cell_type": "code",
   "execution_count": null,
   "id": "d43806ca",
   "metadata": {
    "scrolled": false
   },
   "outputs": [],
   "source": [
    "import graphviz\n",
    "\n",
    "with open('data/tree.dot', encoding='utf8') as f:\n",
    "    dot_graph = f.read()\n",
    "    \n",
    "graphviz.Source(dot_graph)"
   ]
  },
  {
   "cell_type": "code",
   "execution_count": null,
   "id": "c8b26a30",
   "metadata": {},
   "outputs": [],
   "source": [
    "from sklearn.tree import plot_tree\n",
    "\n",
    "plot_tree(tree, class_names=['악성', '양성'], feature_names=cancer.feature_names,\n",
    "         impurity=False, filled=True, rounded=True, fontsize=4)\n",
    "plt.show()"
   ]
  },
  {
   "cell_type": "markdown",
   "id": "d89afb99",
   "metadata": {},
   "source": [
    "### 1.4 결정 트리의 특성 중요도\n",
    "- Feature Importance"
   ]
  },
  {
   "cell_type": "markdown",
   "id": "cde52267",
   "metadata": {},
   "source": [
    "#### <참고>  [Permutation Feature Importance](https://wooono.tistory.com/328) - 모든 모델에 적용 가능"
   ]
  },
  {
   "cell_type": "code",
   "execution_count": null,
   "id": "1a78b0e8",
   "metadata": {
    "uuid": "dc2f68ee-0df0-47ed-b500-7ec99d5a0a5d"
   },
   "outputs": [],
   "source": [
    "print('특성 중요도:\\n', tree.feature_importances_)"
   ]
  },
  {
   "cell_type": "code",
   "execution_count": null,
   "id": "1e5fbdfd",
   "metadata": {
    "scrolled": false
   },
   "outputs": [],
   "source": [
    "def plot_feature_importances_cancer(model):\n",
    "    n_features = cancer.data.shape[1]\n",
    "    plt.barh(np.arange(n_features), model.feature_importances_, align='center')\n",
    "    plt.yticks(np.arange(n_features), cancer.feature_names)\n",
    "    plt.xlabel('특성 중요도')\n",
    "    plt.ylabel('특성')\n",
    "    plt.ylim(-1, n_features)\n",
    "\n",
    "plot_feature_importances_cancer(tree)"
   ]
  },
  {
   "cell_type": "code",
   "execution_count": null,
   "id": "6f6108f1",
   "metadata": {
    "hide_input": false
   },
   "outputs": [],
   "source": [
    "tree = mglearn.plots.plot_tree_not_monotone()\n",
    "tree"
   ]
  },
  {
   "cell_type": "markdown",
   "id": "60babcfe",
   "metadata": {},
   "source": [
    "### 1.5 결정 트리 & 선형 회귀 비교\n",
    "- 램 가격 동향(수치 예측)\n",
    "- 결정 트리: 훈련 데이터 범위 밖의 데이터 예측 불가"
   ]
  },
  {
   "cell_type": "code",
   "execution_count": null,
   "id": "6a0dba61",
   "metadata": {},
   "outputs": [],
   "source": [
    "# 데이터 로딩\n",
    "\n",
    "ram_prices = pd.read_csv('data/ram_price.csv')\n",
    "\n",
    "plt.semilogy(ram_prices.date, ram_prices.price)\n",
    "plt.xlabel('년')\n",
    "plt.ylabel('가격 ($/Mbyte)')\n",
    "plt.show()"
   ]
  },
  {
   "cell_type": "code",
   "execution_count": null,
   "id": "3329b9b9",
   "metadata": {},
   "outputs": [],
   "source": [
    "# 결정 트리 & 선형 회귀\n",
    "\n",
    "from sklearn.tree import DecisionTreeRegressor\n",
    "from sklearn.linear_model import LinearRegression\n",
    "\n",
    "# 2000년 이전을 훈련 데이터로, 2000년 이후를 테스트 데이터로 만듭니다\n",
    "data_train = ram_prices[ram_prices.date < 2000]\n",
    "data_test = ram_prices[ram_prices.date >= 2000]\n",
    "\n",
    "# 가격 예측을 위해 날짜 특성만을 이용합니다\n",
    "X_train = data_train.date.to_numpy()[:, np.newaxis]\n",
    "\n",
    "# 데이터와 타깃 사이의 관계를 간단하게 만들기 위해 로그 스케일로 바꿉니다\n",
    "y_train = np.log(data_train.price)\n",
    "\n",
    "tree = DecisionTreeRegressor().fit(X_train, y_train)\n",
    "linear_reg = LinearRegression().fit(X_train, y_train)\n",
    "\n",
    "# 예측은 전체 기간에 대해서 수행합니다\n",
    "X_all = ram_prices.date.to_numpy()[:, np.newaxis]\n",
    "\n",
    "pred_tree = tree.predict(X_all)\n",
    "pred_lr = linear_reg.predict(X_all)\n",
    "\n",
    "# 예측한 값의 로그 스케일을 되돌립니다\n",
    "price_tree = np.exp(pred_tree)\n",
    "price_lr = np.exp(pred_lr)"
   ]
  },
  {
   "cell_type": "code",
   "execution_count": null,
   "id": "ca6dd46b",
   "metadata": {},
   "outputs": [],
   "source": [
    "# 시각화: 결정트리 & 선형 회귀\n",
    "\n",
    "plt.semilogy(data_train.date, data_train.price, label='훈련 데이터')\n",
    "plt.semilogy(data_test.date, data_test.price, label='테스트 데이터')\n",
    "plt.semilogy(ram_prices.date, price_tree, label='트리 예측')\n",
    "plt.semilogy(ram_prices.date, price_lr, label='선형회귀 예측')\n",
    "plt.legend()\n",
    "plt.show()"
   ]
  },
  {
   "cell_type": "markdown",
   "id": "f076fa13",
   "metadata": {},
   "source": [
    "---"
   ]
  },
  {
   "cell_type": "code",
   "execution_count": null,
   "id": "810a4484",
   "metadata": {},
   "outputs": [],
   "source": [
    "# End of file"
   ]
  },
  {
   "cell_type": "code",
   "execution_count": null,
   "id": "2883e3dc",
   "metadata": {},
   "outputs": [],
   "source": []
  }
 ],
 "metadata": {
  "kernelspec": {
   "display_name": "Python 3 (ipykernel)",
   "language": "python",
   "name": "python3"
  },
  "language_info": {
   "codemirror_mode": {
    "name": "ipython",
    "version": 3
   },
   "file_extension": ".py",
   "mimetype": "text/x-python",
   "name": "python",
   "nbconvert_exporter": "python",
   "pygments_lexer": "ipython3",
   "version": "3.9.7"
  },
  "vp": {
   "vp_config_version": "1.0.0",
   "vp_menu_width": 273,
   "vp_note_display": true,
   "vp_note_width": 263,
   "vp_position": {
    "width": 541
   },
   "vp_section_display": false,
   "vp_signature": "VisualPython"
  }
 },
 "nbformat": 4,
 "nbformat_minor": 5
}
