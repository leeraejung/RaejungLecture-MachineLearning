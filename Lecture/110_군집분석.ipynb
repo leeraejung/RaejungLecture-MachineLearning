{
 "cells": [
  {
   "cell_type": "markdown",
   "id": "be8459af",
   "metadata": {},
   "source": [
    "# Clustering - 군집 분석"
   ]
  },
  {
   "cell_type": "markdown",
   "id": "c0c93566",
   "metadata": {},
   "source": [
    "---"
   ]
  },
  {
   "cell_type": "code",
   "execution_count": null,
   "id": "f758a8dd",
   "metadata": {},
   "outputs": [],
   "source": [
    "import numpy as np\n",
    "import pandas as pd\n",
    "import matplotlib.pyplot as plt\n",
    "import seaborn as sns\n",
    "\n",
    "import mglearn\n",
    "\n",
    "plt.rc('figure', figsize=(10, 6))\n",
    "\n",
    "from matplotlib import rcParams\n",
    "rcParams['font.family'] = 'New Gulim'\n",
    "rcParams['font.size'] = 10\n",
    "rcParams['axes.unicode_minus'] = False"
   ]
  },
  {
   "cell_type": "markdown",
   "id": "b1181809",
   "metadata": {},
   "source": [
    "# 1 K-Means"
   ]
  },
  {
   "cell_type": "markdown",
   "id": "bd9d29ba",
   "metadata": {},
   "source": [
    "[K-Means](https://bkshin.tistory.com/entry/%EB%A8%B8%EC%8B%A0%EB%9F%AC%EB%8B%9D-7-K-%ED%8F%89%EA%B7%A0-%EA%B5%B0%EC%A7%91%ED%99%94-K-means-Clustering)"
   ]
  },
  {
   "cell_type": "markdown",
   "id": "7de05df8",
   "metadata": {},
   "source": [
    "- 거리 기반 군집 알고리즘"
   ]
  },
  {
   "cell_type": "code",
   "execution_count": null,
   "id": "afc93790",
   "metadata": {
    "hide_input": false
   },
   "outputs": [],
   "source": [
    "# 입력 데이터와 k-평균 군집 알고리즘이 세번 진행되기까지의 과정\n",
    "mglearn.plots.plot_kmeans_algorithm()"
   ]
  },
  {
   "cell_type": "code",
   "execution_count": null,
   "id": "6540f080",
   "metadata": {
    "hide_input": false
   },
   "outputs": [],
   "source": [
    "# k-평균 알고리즘으로 찾은 클러스터 중심과 클러스터 경계\n",
    "mglearn.plots.plot_kmeans_boundaries()"
   ]
  },
  {
   "cell_type": "markdown",
   "id": "af2da3ff",
   "metadata": {},
   "source": [
    "### 1.1 K-Means 알고리즘"
   ]
  },
  {
   "cell_type": "markdown",
   "id": "ada8e5bb",
   "metadata": {},
   "source": [
    "#### 1.1.1 데이터 생성"
   ]
  },
  {
   "cell_type": "code",
   "execution_count": null,
   "id": "e2b4344f",
   "metadata": {},
   "outputs": [],
   "source": [
    "from sklearn.datasets import make_blobs\n",
    "\n",
    "# 2차원 데이터 생성\n",
    "X, y = make_blobs(random_state=1)"
   ]
  },
  {
   "cell_type": "markdown",
   "id": "f08ac264",
   "metadata": {},
   "source": [
    "#### 1.1.2 K-Means 군집 모델 생성"
   ]
  },
  {
   "cell_type": "code",
   "execution_count": null,
   "id": "dbd87338",
   "metadata": {},
   "outputs": [],
   "source": [
    "from sklearn.cluster import KMeans\n",
    "\n",
    "kmeans = KMeans(n_clusters=3)\n",
    "kmeans.fit(X)"
   ]
  },
  {
   "cell_type": "code",
   "execution_count": null,
   "id": "31c4f472",
   "metadata": {},
   "outputs": [],
   "source": [
    "print(kmeans.labels_)"
   ]
  },
  {
   "cell_type": "code",
   "execution_count": null,
   "id": "fcc03652",
   "metadata": {},
   "outputs": [],
   "source": [
    "# 군집 예측\n",
    "print(kmeans.predict(X))"
   ]
  },
  {
   "cell_type": "code",
   "execution_count": null,
   "id": "115bf202",
   "metadata": {
    "scrolled": true
   },
   "outputs": [],
   "source": [
    "# 각 군집 중심과의 거리\n",
    "print(kmeans.transform(X))"
   ]
  },
  {
   "cell_type": "markdown",
   "id": "92f164e6",
   "metadata": {},
   "source": [
    "#### 1.1.3 K-Means 군집 모델 - 클러스터 중심과 클러스터 할당"
   ]
  },
  {
   "cell_type": "code",
   "execution_count": null,
   "id": "d1cbd31d",
   "metadata": {},
   "outputs": [],
   "source": [
    "mglearn.discrete_scatter(X[:,0], X[:,1], kmeans.labels_, markers='o')\n",
    "\n",
    "mglearn.discrete_scatter(\n",
    "    kmeans.cluster_centers_[:,0], kmeans.cluster_centers_[:,1], [0, 1, 2],\n",
    "    markers='^', markeredgewidth=2)\n",
    "    \n",
    "plt.title('k-평균 알고리즘으로 찾은 세개의 클러스터 중심과 클러스터 할당')\n",
    "plt.show()"
   ]
  },
  {
   "cell_type": "markdown",
   "id": "55cc8221",
   "metadata": {},
   "source": [
    "#### 1.1.4 클러스터 수 조정 - 2, 5"
   ]
  },
  {
   "cell_type": "code",
   "execution_count": null,
   "id": "b563a8b7",
   "metadata": {},
   "outputs": [],
   "source": [
    "fig, axes = plt.subplots(1, 2, figsize=(10, 5))\n",
    "\n",
    "# 두 개의 클러스터 중심을 사용합니다\n",
    "kmeans = KMeans(n_clusters=2)\n",
    "kmeans.fit(X)\n",
    "assignments = kmeans.labels_\n",
    "\n",
    "mglearn.discrete_scatter(X[:,0], X[:,1], assignments, ax=axes[0])\n",
    "\n",
    "# 다섯 개의 클러스터 중심을 사용합니다\n",
    "kmeans = KMeans(n_clusters=5)\n",
    "kmeans.fit(X)\n",
    "assignments = kmeans.labels_\n",
    "\n",
    "mglearn.discrete_scatter(X[:,0], X[:,1], assignments, ax=axes[1])\n",
    "plt.show()"
   ]
  },
  {
   "cell_type": "markdown",
   "id": "97d325d4",
   "metadata": {},
   "source": [
    "### 1.2 k-평균 알고리즘이 실패하는 경우"
   ]
  },
  {
   "cell_type": "markdown",
   "id": "6a470cc2",
   "metadata": {},
   "source": [
    "#### 1.2.1 밀도가 다른 데이터"
   ]
  },
  {
   "cell_type": "code",
   "execution_count": null,
   "id": "373d657e",
   "metadata": {},
   "outputs": [],
   "source": [
    "# 데이터 생성\n",
    "from sklearn.datasets import make_blobs\n",
    "\n",
    "X_varied, y_varied = make_blobs(n_samples=200,\n",
    "                                cluster_std=[1.0, 2.5, 0.5],\n",
    "                                random_state=170)"
   ]
  },
  {
   "cell_type": "code",
   "execution_count": null,
   "id": "75dd5e9b",
   "metadata": {},
   "outputs": [],
   "source": [
    "# K-Means 알고리즘 적용\n",
    "y_pred = KMeans(n_clusters=3, random_state=0).fit_predict(X_varied)\n",
    "\n",
    "mglearn.discrete_scatter(X_varied[:,0], X_varied[:,1], y_pred)\n",
    "\n",
    "plt.title('클러스터 밀도가 다를 때 k-평균으로 찾은 클러스터 할당')\n",
    "plt.xlabel('특성 0')\n",
    "plt.ylabel('특성 1')\n",
    "plt.legend(['클러스터 0', '클러스터 1', '클러스터 2'], loc='best')\n",
    "plt.show()"
   ]
  },
  {
   "cell_type": "markdown",
   "id": "8e41803e",
   "metadata": {},
   "source": [
    "#### 1.2.2 원형이 아닌 데이터"
   ]
  },
  {
   "cell_type": "code",
   "execution_count": null,
   "id": "b57ff838",
   "metadata": {},
   "outputs": [],
   "source": [
    "# 무작위로 클러스터 데이터 생성\n",
    "from sklearn.datasets import make_blobs\n",
    "\n",
    "X, y = make_blobs(random_state=170, n_samples=600)\n",
    "rng = np.random.RandomState(74)\n",
    "\n",
    "# 데이터가 길게 늘어지도록 변경\n",
    "transformation = rng.normal(size=(2, 2))\n",
    "X = np.dot(X, transformation)"
   ]
  },
  {
   "cell_type": "code",
   "execution_count": null,
   "id": "6c99fc44",
   "metadata": {},
   "outputs": [],
   "source": [
    "# 세 개의 클러스터로 데이터에 KMeans 알고리즘 적용\n",
    "kmeans = KMeans(n_clusters=3)\n",
    "kmeans.fit(X)\n",
    "y_pred = kmeans.predict(X)"
   ]
  },
  {
   "cell_type": "code",
   "execution_count": null,
   "id": "f7fd92d8",
   "metadata": {},
   "outputs": [],
   "source": [
    "# 클러스터 할당과 클러스터 중심을 나타냅니다\n",
    "mglearn.discrete_scatter(X[:,0], X[:,1], kmeans.labels_, markers='o')\n",
    "mglearn.discrete_scatter(\n",
    "    kmeans.cluster_centers_[:,0], kmeans.cluster_centers_[:,1], [0, 1, 2],\n",
    "    markers='^', markeredgewidth=2)\n",
    "    \n",
    "plt.title('원형이 아닌 클러스터를 구분하지 못하는 k-평균 알고리즘')\n",
    "plt.xlabel('특성 0')\n",
    "plt.ylabel('특성 1')\n",
    "plt.show()"
   ]
  },
  {
   "cell_type": "markdown",
   "id": "3f3e8b12",
   "metadata": {},
   "source": [
    "#### 1.2.3 복잡한 모양의 데이터"
   ]
  },
  {
   "cell_type": "code",
   "execution_count": null,
   "id": "d400750d",
   "metadata": {},
   "outputs": [],
   "source": [
    "# two_moons 데이터를 생성(노이즈 추가)\n",
    "from sklearn.datasets import make_moons\n",
    "X, y = make_moons(n_samples=200, noise=0.05, random_state=0)"
   ]
  },
  {
   "cell_type": "code",
   "execution_count": null,
   "id": "2e39f3c0",
   "metadata": {},
   "outputs": [],
   "source": [
    "# 두 개의 클러스터로 데이터에 K-Means 알고리즘 적용\n",
    "kmeans = KMeans(n_clusters=2)\n",
    "kmeans.fit(X)\n",
    "y_pred = kmeans.predict(X)"
   ]
  },
  {
   "cell_type": "code",
   "execution_count": null,
   "id": "33b4a322",
   "metadata": {},
   "outputs": [],
   "source": [
    "# 클러스터 할당과 클러스터 중심을 표시합니다\n",
    "plt.scatter(X[:,0], X[:,1], c=y_pred, cmap=mglearn.cm2, s=60, edgecolors='k')\n",
    "plt.scatter(kmeans.cluster_centers_[:,0], kmeans.cluster_centers_[:,1],\n",
    "            marker='^', c=[mglearn.cm2(0), mglearn.cm2(1)], s=100, linewidth=2, edgecolors='k')\n",
    "            \n",
    "plt.title('복잡한 모양의 클러스터를 구분하지 못하는 k-평균 알고리즘')\n",
    "plt.xlabel('특성 0')\n",
    "plt.ylabel('특성 1')\n",
    "plt.show()"
   ]
  },
  {
   "cell_type": "markdown",
   "id": "e9218034",
   "metadata": {},
   "source": [
    "# 2 병합군집(Agglomerative Clustering)"
   ]
  },
  {
   "cell_type": "markdown",
   "id": "f0036525",
   "metadata": {},
   "source": [
    "[병합군집](https://velog.io/@khsfun0312/Hierarchical-Clustering)"
   ]
  },
  {
   "cell_type": "markdown",
   "id": "286fcb8c",
   "metadata": {},
   "source": [
    "#### linkage 옵션\n",
    "- ward: 기본값인 ward 연결은 모든 클러스터 내의 분산을 가장 작게 증가시키는 두 클러스터를 병합. 크기가 비교적 비슷한 클러스터 생성\n",
    "- average: 클러스터 포인트 사이의 평균 거리가 가장 짧은 두 클러스터를 병합\n",
    "- complete: 클러스터 포인트 사이의 최대 거리가 가장 짧은 두 클러스터를 병합"
   ]
  },
  {
   "cell_type": "code",
   "execution_count": null,
   "id": "7d7e84ac",
   "metadata": {
    "hide_input": false
   },
   "outputs": [],
   "source": [
    "# 병합 군집 진행 과정\n",
    "mglearn.plots.plot_agglomerative_algorithm()"
   ]
  },
  {
   "cell_type": "markdown",
   "id": "9c814c43",
   "metadata": {},
   "source": [
    "### 2.1 병합군집(Agglomerative Clustering)"
   ]
  },
  {
   "cell_type": "code",
   "execution_count": null,
   "id": "3e38aa45",
   "metadata": {},
   "outputs": [],
   "source": [
    "# 데이터 생성\n",
    "from sklearn.datasets import make_blobs\n",
    "\n",
    "X, y = make_blobs(random_state=1)"
   ]
  },
  {
   "cell_type": "code",
   "execution_count": null,
   "id": "3f32644c",
   "metadata": {},
   "outputs": [],
   "source": [
    "from sklearn.cluster import AgglomerativeClustering\n",
    "agg = AgglomerativeClustering(n_clusters=3)\n",
    "assignment = agg.fit_predict(X)\n",
    "\n",
    "mglearn.discrete_scatter(X[:,0], X[:,1], assignment)\n",
    "\n",
    "plt.title('병합 군집을 사용한 세개의 클러스터 할당')\n",
    "plt.xlabel('특성 0')\n",
    "plt.ylabel('특성 1')\n",
    "plt.legend(['클러스터 0', '클러스터 1', '클러스터 2'], loc='best')\n",
    "plt.show()"
   ]
  },
  {
   "cell_type": "markdown",
   "id": "98ece3b5",
   "metadata": {},
   "source": [
    "### 2.2 계층적 군집과 덴드로그램(dendrograms)"
   ]
  },
  {
   "cell_type": "code",
   "execution_count": null,
   "id": "f12f4f8e",
   "metadata": {
    "hide_input": false
   },
   "outputs": [],
   "source": [
    "# 병합 군집으로 생성한 계층적 군집\n",
    "mglearn.plots.plot_agglomerative()"
   ]
  },
  {
   "cell_type": "code",
   "execution_count": null,
   "id": "8cb32b68",
   "metadata": {},
   "outputs": [],
   "source": [
    "# 데이터 생성\n",
    "from sklearn.datasets import make_blobs\n",
    "\n",
    "X, y = make_blobs(random_state=0, n_samples=12)"
   ]
  },
  {
   "cell_type": "code",
   "execution_count": null,
   "id": "f49b53f7",
   "metadata": {},
   "outputs": [],
   "source": [
    "from scipy.cluster.hierarchy import dendrogram, ward\n",
    "\n",
    "# 덴드로 그램\n",
    "linkage_array = ward(X)\n",
    "dendrogram(linkage_array)\n",
    "\n",
    "# 두 개와 세 개의 클러스터를 구분하는 커트라인을 표시\n",
    "ax = plt.gca()\n",
    "bounds = ax.get_xbound()\n",
    "ax.plot(bounds, [7.25, 7.25], '--', c='k')\n",
    "ax.plot(bounds, [4, 4], '--', c='k')\n",
    "\n",
    "ax.text(bounds[1], 7.25, ' 두 개 클러스터', va='center', fontdict={'size': 15})\n",
    "ax.text(bounds[1], 4, ' 세 개 클러스터', va='center', fontdict={'size': 15})\n",
    "\n",
    "plt.xlabel('샘플 번호')\n",
    "plt.ylabel('클러스터 거리')\n",
    "plt.show()"
   ]
  },
  {
   "cell_type": "markdown",
   "id": "6b50e937",
   "metadata": {},
   "source": [
    "# 3 GMM(Gaussian Mixture Model)"
   ]
  },
  {
   "cell_type": "markdown",
   "id": "58a4cb4a",
   "metadata": {},
   "source": [
    "[GMM](https://untitledtblog.tistory.com/133)"
   ]
  },
  {
   "cell_type": "markdown",
   "id": "56ad429e",
   "metadata": {},
   "source": [
    "- 확률 기반 군집 알고리즘"
   ]
  },
  {
   "cell_type": "code",
   "execution_count": null,
   "id": "864a8ebe",
   "metadata": {},
   "outputs": [],
   "source": [
    "# 무작위로 클러스터 데이터 생성\n",
    "from sklearn.datasets import make_blobs\n",
    "\n",
    "X, y = make_blobs(random_state=170, n_samples=600)\n",
    "rng = np.random.RandomState(74)\n",
    "\n",
    "# 데이터가 길게 늘어지도록 변경\n",
    "transformation = rng.normal(size=(2, 2))\n",
    "X = np.dot(X, transformation)"
   ]
  },
  {
   "cell_type": "code",
   "execution_count": null,
   "id": "a901ac5c",
   "metadata": {},
   "outputs": [],
   "source": [
    "# 세개의 클러스터로 GMM 알고리즘 적용\n",
    "from sklearn.mixture import GaussianMixture\n",
    "\n",
    "gmm = GaussianMixture(n_components=3, random_state=0)\n",
    "gmm_label = gmm.fit(X).predict(X)"
   ]
  },
  {
   "cell_type": "code",
   "execution_count": null,
   "id": "907ab05e",
   "metadata": {},
   "outputs": [],
   "source": [
    "# 클러스터 할당 시각화\n",
    "mglearn.discrete_scatter(X[:,0], X[:,1], gmm_label, markers='o')\n",
    "\n",
    "plt.title('원형이 아닌 클러스터에 GMM 적용')\n",
    "plt.xlabel('특성 0')\n",
    "plt.ylabel('특성 1')\n",
    "plt.show()"
   ]
  },
  {
   "cell_type": "markdown",
   "id": "4e770b48",
   "metadata": {},
   "source": [
    "# 4 DBSCAN"
   ]
  },
  {
   "cell_type": "markdown",
   "id": "eeede5af",
   "metadata": {},
   "source": [
    "[DBSCAN](https://bcho.tistory.com/1205)"
   ]
  },
  {
   "cell_type": "markdown",
   "id": "9d3eba98",
   "metadata": {},
   "source": [
    "#### 옵션\n",
    "- 입실론 주변 영역(epsilon): 개별 데이터를 중심으로 입실론 반경을 가지는 원형의 영역\n",
    "- 최소 데이터 개수(min points): 개별 데이터의 입실론 주변 영역에 포함되는 타 데이터의 개수"
   ]
  },
  {
   "cell_type": "markdown",
   "id": "4a43eb87",
   "metadata": {},
   "source": [
    "#### 포인트 구분\n",
    "- 핵심 포인트(Core Point): 주변 영역 내에 최소 데이터 개수 이상의 타 데이터를 가지고 있는 데이터 포인트\n",
    "- 이웃 포인트(Neighbor Point): 주변 영역 내에 위치한 타 데이터 포인트\n",
    "- 경계 포인트(Border Point): 핵심 포인트를 이웃 포인트로 가지고 있는 데이터 포인트\n",
    "- 잡음 포인트(Noise Point): 최소 데이터 개수 이상의 이웃 포인트를 가지고 있지 않고 핵심 포인트를 이웃 포인트로도 가지고 있지 않은 데이터 포인트"
   ]
  },
  {
   "cell_type": "markdown",
   "id": "1e22c46c",
   "metadata": {},
   "source": [
    "### 4.1 DBSCAN 적용"
   ]
  },
  {
   "cell_type": "code",
   "execution_count": null,
   "id": "0e91af4d",
   "metadata": {},
   "outputs": [],
   "source": [
    "# 데이터 생성\n",
    "from sklearn.datasets import make_blobs\n",
    "X, y = make_blobs(random_state=0, n_samples=12)"
   ]
  },
  {
   "cell_type": "code",
   "execution_count": null,
   "id": "a9873dcf",
   "metadata": {},
   "outputs": [],
   "source": [
    "# DBSCAN\n",
    "from sklearn.cluster import DBSCAN\n",
    "\n",
    "dbscan = DBSCAN()\n",
    "clusters = dbscan.fit_predict(X)\n",
    "\n",
    "print('클러스터 레이블:\\n', clusters)"
   ]
  },
  {
   "cell_type": "code",
   "execution_count": null,
   "id": "f3176a4a",
   "metadata": {
    "scrolled": false
   },
   "outputs": [],
   "source": [
    "# min_samples, eps 옵션에 따른 포인트 표시\n",
    "mglearn.plots.plot_dbscan()"
   ]
  },
  {
   "cell_type": "markdown",
   "id": "47789f0f",
   "metadata": {},
   "source": [
    "### 4.2 DBSCAN 적용 - 데이터 스케일링"
   ]
  },
  {
   "cell_type": "code",
   "execution_count": null,
   "id": "95dff265",
   "metadata": {},
   "outputs": [],
   "source": [
    "# 데이터 생성\n",
    "from sklearn.datasets import make_moons\n",
    "\n",
    "X, y = make_moons(n_samples=200, noise=0.05, random_state=0)"
   ]
  },
  {
   "cell_type": "code",
   "execution_count": null,
   "id": "67e67c6e",
   "metadata": {},
   "outputs": [],
   "source": [
    "# 스케일 조정\n",
    "from sklearn.preprocessing import StandardScaler\n",
    "\n",
    "scaler = StandardScaler()\n",
    "scaler.fit(X)\n",
    "X_scaled = scaler.transform(X)"
   ]
  },
  {
   "cell_type": "code",
   "execution_count": null,
   "id": "aa6b0de0",
   "metadata": {},
   "outputs": [],
   "source": [
    "# DBSCAN\n",
    "from sklearn.cluster import DBSCAN\n",
    "\n",
    "dbscan = DBSCAN()\n",
    "clusters = dbscan.fit_predict(X_scaled)"
   ]
  },
  {
   "cell_type": "code",
   "execution_count": null,
   "id": "04c519de",
   "metadata": {},
   "outputs": [],
   "source": [
    "# 클러스터 할당 시각화\n",
    "\n",
    "plt.scatter(X_scaled[:,0], X_scaled[:,1], c=clusters, cmap=mglearn.cm2, s=60, edgecolors='black')\n",
    "\n",
    "plt.title('기본값 eps=0.5를 사용해 DBSCAN으로 찾은 클러스터 할당')\n",
    "plt.xlabel('특성 0')\n",
    "plt.ylabel('특성 1')\n",
    "plt.show()"
   ]
  },
  {
   "cell_type": "markdown",
   "id": "5ed71ebd",
   "metadata": {},
   "source": [
    "### 4.3 DBSCAN 적용 - 원형 데이터"
   ]
  },
  {
   "cell_type": "code",
   "execution_count": null,
   "id": "3d8bc7b4",
   "metadata": {},
   "outputs": [],
   "source": [
    "# 데이터 생성\n",
    "from sklearn.datasets import make_circles\n",
    "\n",
    "X, y = make_circles(n_samples=1000, shuffle=True, noise=0.05, random_state=0, factor=0.5)"
   ]
  },
  {
   "cell_type": "code",
   "execution_count": null,
   "id": "5bea72a4",
   "metadata": {},
   "outputs": [],
   "source": [
    "# DBSCAN\n",
    "from sklearn.cluster import DBSCAN\n",
    "\n",
    "dbscan = DBSCAN(eps=0.2, min_samples=10, metric='euclidean')\n",
    "clusters = dbscan.fit_predict(X)"
   ]
  },
  {
   "cell_type": "code",
   "execution_count": null,
   "id": "9c309114",
   "metadata": {},
   "outputs": [],
   "source": [
    "# 클러스터 할당 시각화\n",
    "\n",
    "plt.scatter(X[:,0], X[:,1], c=clusters, cmap=mglearn.cm2, s=60, edgecolors='black')\n",
    "\n",
    "plt.title('원형 데이터 분포를 DBSCAN으로 찾은 클러스터 할당')\n",
    "plt.xlabel('특성 0')\n",
    "plt.ylabel('특성 1')\n",
    "plt.show()"
   ]
  },
  {
   "cell_type": "markdown",
   "id": "86b94a3f",
   "metadata": {},
   "source": [
    "# 5 군집 알고리즘 평가"
   ]
  },
  {
   "cell_type": "markdown",
   "id": "d199c4d5",
   "metadata": {},
   "source": [
    "### 5.1 타겟값이 있는 경우\n",
    "- ARI(Adjusted Rand Index)\n",
    "- NMI(Normalized Mutual Information)"
   ]
  },
  {
   "cell_type": "code",
   "execution_count": null,
   "id": "91b615c3",
   "metadata": {},
   "outputs": [],
   "source": [
    "# 데이터 생성\n",
    "from sklearn.datasets import make_moons\n",
    "\n",
    "X, y = make_moons(n_samples=200, noise=0.05, random_state=0)"
   ]
  },
  {
   "cell_type": "code",
   "execution_count": null,
   "id": "d49e56d9",
   "metadata": {},
   "outputs": [],
   "source": [
    "# 스케일 조정\n",
    "from sklearn.preprocessing import StandardScaler\n",
    "\n",
    "scaler = StandardScaler()\n",
    "scaler.fit(X)\n",
    "X_scaled = scaler.transform(X)"
   ]
  },
  {
   "cell_type": "code",
   "execution_count": null,
   "id": "8aff8c7e",
   "metadata": {},
   "outputs": [],
   "source": [
    "from sklearn.cluster import KMeans\n",
    "from sklearn.cluster import AgglomerativeClustering\n",
    "from sklearn.cluster import DBSCAN\n",
    "\n",
    "from sklearn.metrics.cluster import adjusted_rand_score"
   ]
  },
  {
   "cell_type": "code",
   "execution_count": null,
   "id": "83886469",
   "metadata": {},
   "outputs": [],
   "source": [
    "# 군집 알고리즘 별 평가 - ARI\n",
    "\n",
    "fig, axes = plt.subplots(1, 4, figsize=(15, 3), subplot_kw={'xticks': (), 'yticks': ()})\n",
    "\n",
    "# 비교를 위해 무작위로 클러스터 할당을 합니다\n",
    "random_state = np.random.RandomState(seed=0)\n",
    "random_clusters = random_state.randint(low=0, high=2, size=len(X))\n",
    "\n",
    "# 무작위 할당한 클러스터를 그립니다\n",
    "axes[0].scatter(X_scaled[:, 0], X_scaled[:, 1], c=random_clusters, cmap=mglearn.cm3, s=60, edgecolors='black')\n",
    "axes[0].set_title('무작위 할당 - ARI: {:.2f}'.format(adjusted_rand_score(y, random_clusters)))\n",
    "\n",
    "# 사용할 알고리즘 모델을 리스트로 만듭니다\n",
    "algorithms = [KMeans(n_clusters=2), AgglomerativeClustering(n_clusters=2), DBSCAN()]\n",
    "\n",
    "for ax, algorithm in zip(axes[1:], algorithms):\n",
    "    # 클러스터 할당과 클러스터 중심을 그립니다\n",
    "    clusters = algorithm.fit_predict(X_scaled)\n",
    "    ax.scatter(X_scaled[:,0], X_scaled[:,1], c=clusters, cmap=mglearn.cm3, s=60, edgecolors='black')\n",
    "    ax.set_title('{} - ARI: {:.2f}'.format(algorithm.__class__.__name__, adjusted_rand_score(y, clusters)))"
   ]
  },
  {
   "cell_type": "markdown",
   "id": "5b19b048",
   "metadata": {},
   "source": [
    "#### 5.1.1 정확도 - ARI 비교"
   ]
  },
  {
   "cell_type": "code",
   "execution_count": null,
   "id": "01ec64cc",
   "metadata": {},
   "outputs": [],
   "source": [
    "from sklearn.metrics import accuracy_score\n",
    "\n",
    "# 포인트가 클러스터로 나뉜 두 가지 경우\n",
    "clusters1 = [0, 0, 1, 1, 0]\n",
    "clusters2 = [1, 1, 0, 0, 1]\n",
    "\n",
    "# 모든 레이블이 달라졌으므로 정확도는 0입니다\n",
    "print('정확도: {:.2f}'.format(accuracy_score(clusters1, clusters2)))\n",
    "\n",
    "# 같은 포인트가 클러스터에 모였으므로 ARI는 1입니다\n",
    "print('ARI: {:.2f}'.format(adjusted_rand_score(clusters1, clusters2)))"
   ]
  },
  {
   "cell_type": "markdown",
   "id": "fded094b",
   "metadata": {},
   "source": [
    "### 5.2 타겟값이 없는 경우\n",
    "- 실루엣 계수(Silhouette Coefficient)"
   ]
  },
  {
   "cell_type": "code",
   "execution_count": null,
   "id": "6b724e0a",
   "metadata": {},
   "outputs": [],
   "source": [
    "# 데이터 생성\n",
    "from sklearn.datasets import make_moons\n",
    "\n",
    "X, y = make_moons(n_samples=200, noise=0.05, random_state=0)"
   ]
  },
  {
   "cell_type": "code",
   "execution_count": null,
   "id": "843518ca",
   "metadata": {},
   "outputs": [],
   "source": [
    "# 스케일 조정\n",
    "from sklearn.preprocessing import StandardScaler\n",
    "\n",
    "scaler = StandardScaler()\n",
    "scaler.fit(X)\n",
    "X_scaled = scaler.transform(X)"
   ]
  },
  {
   "cell_type": "code",
   "execution_count": null,
   "id": "a031a7d3",
   "metadata": {},
   "outputs": [],
   "source": [
    "from sklearn.metrics.cluster import silhouette_score"
   ]
  },
  {
   "cell_type": "code",
   "execution_count": null,
   "id": "18c66d1d",
   "metadata": {},
   "outputs": [],
   "source": [
    "# 군집 알고리즘 별 평가 - Silhouette Coefficient\n",
    "\n",
    "fig, axes = plt.subplots(1, 4, figsize=(15, 3), subplot_kw={'xticks': (), 'yticks': ()})\n",
    "\n",
    "# 비교를 위해 무작위로 클러스터 할당을 합니다\n",
    "random_state = np.random.RandomState(seed=0)\n",
    "random_clusters = random_state.randint(low=0, high=2, size=len(X))\n",
    "\n",
    "# 무작위 할당한 클러스터를 그립니다\n",
    "axes[0].scatter(X_scaled[:, 0], X_scaled[:, 1], c=random_clusters, cmap=mglearn.cm3, s=60, edgecolors='black')\n",
    "axes[0].set_title('무작위 할당: {:.2f}'.format(silhouette_score(X_scaled, random_clusters)))\n",
    "\n",
    "# 사용할 알고리즘 모델을 리스트로 만듭니다\n",
    "algorithms = [KMeans(n_clusters=2), AgglomerativeClustering(n_clusters=2), DBSCAN()]\n",
    "\n",
    "for ax, algorithm in zip(axes[1:], algorithms):\n",
    "    clusters = algorithm.fit_predict(X_scaled)\n",
    "    # 클러스터 할당과 클러스터 중심을 그립니다\n",
    "    ax.scatter(X_scaled[:, 0], X_scaled[:, 1], c=clusters, cmap=mglearn.cm3, s=60, edgecolors='black')\n",
    "    ax.set_title('{} : {:.2f}'.format(algorithm.__class__.__name__, silhouette_score(X_scaled, clusters)))"
   ]
  },
  {
   "cell_type": "markdown",
   "id": "f076fa13",
   "metadata": {},
   "source": [
    "---"
   ]
  },
  {
   "cell_type": "code",
   "execution_count": null,
   "id": "810a4484",
   "metadata": {},
   "outputs": [],
   "source": [
    "# End of file"
   ]
  },
  {
   "cell_type": "code",
   "execution_count": null,
   "id": "09323c66",
   "metadata": {},
   "outputs": [],
   "source": []
  }
 ],
 "metadata": {
  "kernelspec": {
   "display_name": "Python 3 (ipykernel)",
   "language": "python",
   "name": "python3"
  },
  "language_info": {
   "codemirror_mode": {
    "name": "ipython",
    "version": 3
   },
   "file_extension": ".py",
   "mimetype": "text/x-python",
   "name": "python",
   "nbconvert_exporter": "python",
   "pygments_lexer": "ipython3",
   "version": "3.9.7"
  },
  "vp": {
   "vp_config_version": "1.0.0",
   "vp_menu_width": 273,
   "vp_note_display": true,
   "vp_note_width": 263,
   "vp_position": {
    "width": 541
   },
   "vp_section_display": false,
   "vp_signature": "VisualPython"
  }
 },
 "nbformat": 4,
 "nbformat_minor": 5
}
