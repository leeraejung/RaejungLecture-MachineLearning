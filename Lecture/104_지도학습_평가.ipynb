{
 "cells": [
  {
   "cell_type": "markdown",
   "id": "be8459af",
   "metadata": {},
   "source": [
    "# 지도학습 평가"
   ]
  },
  {
   "cell_type": "markdown",
   "id": "c37da0e3",
   "metadata": {},
   "source": [
    "[머신러닝 모델 평가](https://data-gardner.tistory.com/16)"
   ]
  },
  {
   "cell_type": "markdown",
   "id": "c0c93566",
   "metadata": {},
   "source": [
    "---"
   ]
  },
  {
   "cell_type": "code",
   "execution_count": null,
   "id": "f758a8dd",
   "metadata": {},
   "outputs": [],
   "source": [
    "import numpy as np\n",
    "import pandas as pd\n",
    "import matplotlib.pyplot as plt\n",
    "import seaborn as sns\n",
    "\n",
    "import mglearn\n",
    "\n",
    "plt.rc('figure', figsize=(10, 6))\n",
    "\n",
    "from matplotlib import rcParams\n",
    "rcParams['font.family'] = 'New Gulim'\n",
    "rcParams['font.size'] = 10\n",
    "rcParams['axes.unicode_minus'] = False"
   ]
  },
  {
   "cell_type": "markdown",
   "id": "b1181809",
   "metadata": {},
   "source": [
    "# 1 회귀 평가"
   ]
  },
  {
   "cell_type": "markdown",
   "id": "497dd043",
   "metadata": {},
   "source": [
    "### 1.1 회귀 평가 지표\n",
    "평가 지표 | 설명 | 수식\n",
    ":--- |:---|:---\n",
    "MAE | Mean Absolute Error, 측정값과 예측값의 차이를 절대값으로 변환해 평균을 구함 | $$MAE=\\frac {1} {N} \\sum_{i}^N |Y_{i} - \\hat Y_{i}|$$\n",
    "MSE | Mean Squared Error, 측정값과 예측값의 차이를 제곱해 평균을 구함 | $$MSE=\\frac {1} {N} \\sum_{i}^N (Y_{i} - \\hat Y_{i})^2$$\n",
    "MSLE | Mean Squared Log Error, 측정값과 예측값에 로그를 취한 후 차이를 제곱해 평균을 구함 | $$MSLE=\\frac {1} {N} \\sum_{i}^N (\\log (Y_{i}+1) - \\log (\\hat Y_{i}+1))^2$$\n",
    "RMSE | Root Mean Squared Error, MSE값에 루트를 씌워 스케일을 맞춤 | $$RMSE=\\sqrt {\\frac {1} {N} \\sum_{i}^N (Y_{i} - \\hat Y_{i})^2}$$\n",
    "$R^2$ | 측정값의 분산 대비 예측값의 분산 비율을 지표로 하며, 1에 가까울 수록 모델의 설명력이 높음 | $$R^2 = \\frac {SSE} {SST} = 1 - \\frac {SSR} {SST}$$"
   ]
  },
  {
   "cell_type": "markdown",
   "id": "e7ddcaa0",
   "metadata": {},
   "source": [
    "### 1.2 선형 회귀 적용 - 보스턴 집값 예측"
   ]
  },
  {
   "cell_type": "markdown",
   "id": "e90dc1cb",
   "metadata": {},
   "source": [
    "#### 1.2.1 데이터 로딩"
   ]
  },
  {
   "cell_type": "code",
   "execution_count": null,
   "id": "e18877e4",
   "metadata": {},
   "outputs": [],
   "source": [
    "# 데이터 로딩\n",
    "df = pd.read_csv('data/boston.csv')\n",
    "X = df.drop('target', axis=1).values\n",
    "y = df['target'].values\n",
    "\n",
    "df"
   ]
  },
  {
   "cell_type": "markdown",
   "id": "f2ae0fa4",
   "metadata": {},
   "source": [
    "#### 1.2.2 데이터 탐색"
   ]
  },
  {
   "cell_type": "code",
   "execution_count": null,
   "id": "b96c6bd3",
   "metadata": {},
   "outputs": [],
   "source": [
    "fig, axs = plt.subplots(figsize=(16,8) , ncols=4 , nrows=2)\n",
    "\n",
    "col_list = ['RM','ZN','INDUS','NOX','AGE','PTRATIO','LSTAT','RAD']\n",
    "\n",
    "for i, feature in enumerate(col_list):\n",
    "    row = int(i/4)\n",
    "    col = i%4\n",
    "    sns.regplot(x=feature, y='target', data=df , ax=axs[row][col])\n",
    "    \n",
    "plt.show()"
   ]
  },
  {
   "cell_type": "markdown",
   "id": "bd175a91",
   "metadata": {},
   "source": [
    "#### 1.2.3 선형 회귀 분석"
   ]
  },
  {
   "cell_type": "code",
   "execution_count": null,
   "id": "92d0b54f",
   "metadata": {},
   "outputs": [],
   "source": [
    "# 데이터 분할\n",
    "from sklearn.model_selection import train_test_split\n",
    "X_train, X_test, y_train, y_test = train_test_split(X, y, random_state=123)"
   ]
  },
  {
   "cell_type": "code",
   "execution_count": null,
   "id": "6aabacb1",
   "metadata": {},
   "outputs": [],
   "source": [
    "# Linear Regression\n",
    "from sklearn.linear_model import LinearRegression\n",
    "\n",
    "# 모델 생성\n",
    "model = LinearRegression(fit_intercept=True)"
   ]
  },
  {
   "cell_type": "code",
   "execution_count": null,
   "id": "bd10358a",
   "metadata": {},
   "outputs": [],
   "source": [
    "# 모델 학습\n",
    "model.fit(X_train, y_train)"
   ]
  },
  {
   "cell_type": "code",
   "execution_count": null,
   "id": "4642d802",
   "metadata": {},
   "outputs": [],
   "source": [
    "# 결과 예측\n",
    "pred = model.predict(X_test)\n",
    "pred"
   ]
  },
  {
   "cell_type": "markdown",
   "id": "2a5dc014",
   "metadata": {},
   "source": [
    "#### 1.2.4 선형 회귀 평가"
   ]
  },
  {
   "cell_type": "code",
   "execution_count": null,
   "id": "6e674ba2",
   "metadata": {},
   "outputs": [],
   "source": [
    "from sklearn import metrics"
   ]
  },
  {
   "cell_type": "code",
   "execution_count": null,
   "id": "e9f47754",
   "metadata": {},
   "outputs": [],
   "source": [
    "# Coefficient\n",
    "model.coef_"
   ]
  },
  {
   "cell_type": "code",
   "execution_count": null,
   "id": "334e6de2",
   "metadata": {},
   "outputs": [],
   "source": [
    "# intercept\n",
    "model.intercept_"
   ]
  },
  {
   "cell_type": "code",
   "execution_count": null,
   "id": "c20d38a0",
   "metadata": {},
   "outputs": [],
   "source": [
    "# MAE(Mean Absolute Error)\n",
    "metrics.mean_absolute_error(y_test, pred)"
   ]
  },
  {
   "cell_type": "code",
   "execution_count": null,
   "id": "10b464f2",
   "metadata": {},
   "outputs": [],
   "source": [
    "# MSE(Mean Squared Error)\n",
    "metrics.mean_squared_error(y_test, pred)"
   ]
  },
  {
   "cell_type": "code",
   "execution_count": null,
   "id": "c42af543",
   "metadata": {},
   "outputs": [],
   "source": [
    "# RMSE(Root Mean Squared Error)\n",
    "metrics.mean_squared_error(y_test, pred)**0.5"
   ]
  },
  {
   "cell_type": "code",
   "execution_count": null,
   "id": "502f1004",
   "metadata": {},
   "outputs": [],
   "source": [
    "# R square\n",
    "metrics.r2_score(y_train, model.predict(X_train))"
   ]
  },
  {
   "cell_type": "code",
   "execution_count": null,
   "id": "8b988ba8",
   "metadata": {},
   "outputs": [],
   "source": [
    "# MAPE\n",
    "def MAPE(y_test, y_pred):\n",
    "    return np.mean(np.abs((y_test - pred) / y_test)) * 100 \n",
    "    \n",
    "MAPE(y_test, pred)"
   ]
  },
  {
   "cell_type": "code",
   "execution_count": null,
   "id": "3d0745a5",
   "metadata": {},
   "outputs": [],
   "source": [
    "# Regression plot\n",
    "plt.scatter(y_test, pred)\n",
    "plt.xlabel('y_test')\n",
    "plt.ylabel('pred')\n",
    "plt.show()"
   ]
  },
  {
   "cell_type": "markdown",
   "id": "acf45deb",
   "metadata": {},
   "source": [
    "#### 1.2.5 cross_val_score"
   ]
  },
  {
   "cell_type": "code",
   "execution_count": null,
   "id": "41ad5cf5",
   "metadata": {},
   "outputs": [],
   "source": [
    "from sklearn.model_selection import cross_val_score\n",
    "neg_scores = cross_val_score(model, X, y, scoring='neg_mean_squared_error', cv=5)\n",
    "\n",
    "scores  = np.sqrt(-1 * neg_scores)\n",
    "\n",
    "print('교차 검증 점수:', scores)\n",
    "print('교차 검증 평균 점수: {:.2f}'.format(scores.mean()))"
   ]
  },
  {
   "cell_type": "markdown",
   "id": "16a7c019",
   "metadata": {},
   "source": [
    "# 2 분류 평가\n",
    "- Accuracy\n",
    "- Precision\n",
    "- Recall\n",
    "- F1-score\n",
    "- ROC Curve\n",
    "- AUC"
   ]
  },
  {
   "cell_type": "markdown",
   "id": "20876672",
   "metadata": {},
   "source": [
    "### 2.1 불균형 데이터 셋"
   ]
  },
  {
   "cell_type": "code",
   "execution_count": null,
   "id": "d7b1f382",
   "metadata": {},
   "outputs": [],
   "source": [
    "# 데이터 로딩\n",
    "from sklearn.datasets import load_digits\n",
    "digits = load_digits()"
   ]
  },
  {
   "cell_type": "code",
   "execution_count": null,
   "id": "b730eb87",
   "metadata": {},
   "outputs": [],
   "source": [
    "# 불균형 데이터 셋 생성\n",
    "X = digits.data\n",
    "y = digits.target == 9"
   ]
  },
  {
   "cell_type": "code",
   "execution_count": null,
   "id": "98ed8468",
   "metadata": {},
   "outputs": [],
   "source": [
    "# 데이터 분할\n",
    "X_train, X_test, y_train, y_test = train_test_split(X, y, random_state=123)"
   ]
  },
  {
   "cell_type": "markdown",
   "id": "90845c18",
   "metadata": {},
   "source": [
    "#### 2.1.1 더미 분류기 1 - 빈도 기반"
   ]
  },
  {
   "cell_type": "code",
   "execution_count": null,
   "id": "3041c6ef",
   "metadata": {},
   "outputs": [],
   "source": [
    "from sklearn.dummy import DummyClassifier\n",
    "\n",
    "model_dummy1 = DummyClassifier(strategy='most_frequent').fit(X_train, y_train)\n",
    "pred_dummy1  = model_dummy1.predict(X_test)"
   ]
  },
  {
   "cell_type": "code",
   "execution_count": null,
   "id": "98e62778",
   "metadata": {},
   "outputs": [],
   "source": [
    "model_dummy1.score(X_test, y_test)"
   ]
  },
  {
   "cell_type": "markdown",
   "id": "cfb24fff",
   "metadata": {},
   "source": [
    "#### 2.1.2 더미 분류기 2 - 무작위"
   ]
  },
  {
   "cell_type": "code",
   "execution_count": null,
   "id": "57db792c",
   "metadata": {},
   "outputs": [],
   "source": [
    "model_dummy2 = DummyClassifier().fit(X_train, y_train)\n",
    "pred_dummy2  = model_dummy2.predict(X_test)"
   ]
  },
  {
   "cell_type": "code",
   "execution_count": null,
   "id": "3e88206f",
   "metadata": {},
   "outputs": [],
   "source": [
    "model_dummy2.score(X_test, y_test)"
   ]
  },
  {
   "cell_type": "markdown",
   "id": "246cbff2",
   "metadata": {},
   "source": [
    "#### 2.1.3 결정 트리"
   ]
  },
  {
   "cell_type": "code",
   "execution_count": null,
   "id": "65a509ad",
   "metadata": {},
   "outputs": [],
   "source": [
    "from sklearn.tree import DecisionTreeClassifier\n",
    "\n",
    "model_tree = DecisionTreeClassifier(max_depth=2).fit(X_train, y_train)\n",
    "pred_tree = model_tree.predict(X_test)"
   ]
  },
  {
   "cell_type": "code",
   "execution_count": null,
   "id": "2027aa7b",
   "metadata": {},
   "outputs": [],
   "source": [
    "model_tree.score(X_test, y_test)"
   ]
  },
  {
   "cell_type": "markdown",
   "id": "9e51d269",
   "metadata": {},
   "source": [
    "#### 2.1.4 Logistic Regression"
   ]
  },
  {
   "cell_type": "code",
   "execution_count": null,
   "id": "595476d3",
   "metadata": {},
   "outputs": [],
   "source": [
    "from sklearn.linear_model import LogisticRegression\n",
    "\n",
    "model_logreg = LogisticRegression(C=0.1, max_iter=1000).fit(X_train, y_train)\n",
    "pred_logreg = model_logreg.predict(X_test)"
   ]
  },
  {
   "cell_type": "code",
   "execution_count": null,
   "id": "5b1cb6e2",
   "metadata": {},
   "outputs": [],
   "source": [
    "model_logreg.score(X_test, y_test)"
   ]
  },
  {
   "cell_type": "markdown",
   "id": "9dd65a6d",
   "metadata": {},
   "source": [
    "### 2.2 오차 행렬(Confusion Matrix)"
   ]
  },
  {
   "cell_type": "code",
   "execution_count": null,
   "id": "bacff63e",
   "metadata": {},
   "outputs": [],
   "source": [
    "from sklearn.metrics import confusion_matrix\n",
    "\n",
    "confusion = confusion_matrix(y_test, pred_logreg)\n",
    "\n",
    "print('Confusion Matrix\\n', confusion)"
   ]
  },
  {
   "cell_type": "code",
   "execution_count": null,
   "id": "5e234c3a",
   "metadata": {},
   "outputs": [],
   "source": [
    "pd.crosstab(y_test, pred_logreg, margins=True)"
   ]
  },
  {
   "cell_type": "code",
   "execution_count": null,
   "id": "c1feadcf",
   "metadata": {},
   "outputs": [],
   "source": [
    "mglearn.plots.plot_confusion_matrix_illustration()"
   ]
  },
  {
   "cell_type": "code",
   "execution_count": null,
   "id": "fd868607",
   "metadata": {},
   "outputs": [],
   "source": [
    "mglearn.plots.plot_binary_confusion_matrix()"
   ]
  },
  {
   "cell_type": "markdown",
   "id": "a6977360",
   "metadata": {},
   "source": [
    "#### 2.2.1 각 모델별 오차 행렬(Confusion Matrix)"
   ]
  },
  {
   "cell_type": "code",
   "execution_count": null,
   "id": "58f24b81",
   "metadata": {},
   "outputs": [],
   "source": [
    "print('1. 빈도 기반 더미 모델')\n",
    "print(confusion_matrix(y_test, pred_dummy1))\n",
    "\n",
    "print('\\n2. 무작위 더미 모델')\n",
    "print(confusion_matrix(y_test, pred_dummy2))\n",
    "\n",
    "print('\\n3. 결정 트리')\n",
    "print(confusion_matrix(y_test, pred_tree))\n",
    "\n",
    "print('\\n4. 로지스틱 회귀')\n",
    "print(confusion_matrix(y_test, pred_logreg))"
   ]
  },
  {
   "cell_type": "markdown",
   "id": "d3a4d238",
   "metadata": {},
   "source": [
    "### 2.3 분류 평가 지표"
   ]
  },
  {
   "cell_type": "markdown",
   "id": "aa72eb75",
   "metadata": {},
   "source": [
    "- 정확도(Accuracy)\n",
    "$$\\text{Accuracy} = \\frac{\\text{TP} + \\text{TN}}{\\text{TP} + \\text{TN} + \\text{FP} + \\text{FN}}$$"
   ]
  },
  {
   "cell_type": "markdown",
   "id": "b3c03e9d",
   "metadata": {},
   "source": [
    "- 정밀도(Precision)\n",
    "$$\\text{Precision} = \\frac{\\text{TP}}{\\text{TP} + \\text{FP}}$$"
   ]
  },
  {
   "cell_type": "markdown",
   "id": "dc8f1272",
   "metadata": {
    "collapsed": true,
    "hide_input": false
   },
   "source": [
    "- 재현율(Recall)\n",
    "$$\\text{Recall} = \\frac{\\text{TP}}{\\text{TP} + \\text{FN}}$$"
   ]
  },
  {
   "cell_type": "markdown",
   "id": "1702a8f2",
   "metadata": {},
   "source": [
    "- F1 스코어\n",
    "$$\\text{F1-score} = 2 \\cdot \\frac{\\text{Precision} \\cdot \\text{Recall}}{\\text{Precision} + \\text{Recall}}$$"
   ]
  },
  {
   "cell_type": "code",
   "execution_count": null,
   "id": "20d85713",
   "metadata": {},
   "outputs": [],
   "source": [
    "# Accuracy\n",
    "metrics.accuracy_score(y_test,pred_logreg)"
   ]
  },
  {
   "cell_type": "code",
   "execution_count": null,
   "id": "00b14fba",
   "metadata": {},
   "outputs": [],
   "source": [
    "# Precision\n",
    "metrics.precision_score(y_test, pred_logreg, average='weighted')"
   ]
  },
  {
   "cell_type": "code",
   "execution_count": null,
   "id": "0ec579e4",
   "metadata": {},
   "outputs": [],
   "source": [
    "# Recall\n",
    "metrics.recall_score(y_test, pred_logreg, average='weighted')"
   ]
  },
  {
   "cell_type": "code",
   "execution_count": null,
   "id": "dbb611fa",
   "metadata": {},
   "outputs": [],
   "source": [
    "# F1-score\n",
    "metrics.f1_score(y_test, pred_logreg, average='weighted')"
   ]
  },
  {
   "cell_type": "markdown",
   "id": "f0bacacd",
   "metadata": {},
   "source": [
    "#### 2.3.1 각 모델별 F1-score"
   ]
  },
  {
   "cell_type": "code",
   "execution_count": null,
   "id": "9b753aa0",
   "metadata": {},
   "outputs": [],
   "source": [
    "from sklearn.metrics import f1_score\n",
    "\n",
    "print('1. 빈도 기반 더미 모델: {:.2f}'.format(f1_score(y_test, pred_dummy1)))\n",
    "print('2. 무작위 더미 모델: {:.2f}'.format(f1_score(y_test, pred_dummy2)))\n",
    "print('3. 결정 트리: {:.2f}'.format(f1_score(y_test, pred_tree)))\n",
    "print('4. 로지스틱 회귀: {:.2f}'.format(f1_score(y_test, pred_logreg)))"
   ]
  },
  {
   "cell_type": "markdown",
   "id": "d4c0593d",
   "metadata": {},
   "source": [
    "#### 2.3.2 각 모델별 Classification Report"
   ]
  },
  {
   "cell_type": "code",
   "execution_count": null,
   "id": "60da3a7b",
   "metadata": {},
   "outputs": [],
   "source": [
    "# 1. 빈도 기반 더미 모델\n",
    "from sklearn.metrics import classification_report\n",
    "print(classification_report(y_test, pred_dummy1, target_names=['9 아님', '9'], zero_division=0))"
   ]
  },
  {
   "cell_type": "code",
   "execution_count": null,
   "id": "19259352",
   "metadata": {},
   "outputs": [],
   "source": [
    "# 2. 무작위 더미 모델\n",
    "print(classification_report(y_test, pred_dummy2, target_names=['9 아님', '9'], zero_division=0))"
   ]
  },
  {
   "cell_type": "code",
   "execution_count": null,
   "id": "b50c8f32",
   "metadata": {},
   "outputs": [],
   "source": [
    "# 3. 결정 트리\n",
    "print(classification_report(y_test, pred_tree, target_names=['9 아님', '9']))"
   ]
  },
  {
   "cell_type": "code",
   "execution_count": null,
   "id": "d74619cd",
   "metadata": {},
   "outputs": [],
   "source": [
    "# 4. 로지스틱 회귀\n",
    "print(classification_report(y_test, pred_logreg, target_names=['9 아님', '9']))"
   ]
  },
  {
   "cell_type": "markdown",
   "id": "aabd8d22",
   "metadata": {},
   "source": [
    "#### 2.3.3 임계값 조정"
   ]
  },
  {
   "cell_type": "code",
   "execution_count": null,
   "id": "f458028a",
   "metadata": {},
   "outputs": [],
   "source": [
    "from sklearn.datasets import make_blobs\n",
    "from sklearn.svm import SVC"
   ]
  },
  {
   "cell_type": "code",
   "execution_count": null,
   "id": "90a9f658",
   "metadata": {},
   "outputs": [],
   "source": [
    "# 데이터 로딩\n",
    "X, y = make_blobs(n_samples=(400, 50), cluster_std=[7.0, 2], random_state=123)\n",
    "\n",
    "# 데이터 분할\n",
    "X_train, X_test, y_train, y_test = train_test_split(X, y, random_state=123)\n",
    "\n",
    "# 모델 생성 및 학습\n",
    "svc = SVC(gamma=0.05).fit(X_train, y_train)                                     "
   ]
  },
  {
   "cell_type": "code",
   "execution_count": null,
   "id": "a3c118d1",
   "metadata": {},
   "outputs": [],
   "source": [
    "mglearn.plots.plot_decision_threshold()"
   ]
  },
  {
   "cell_type": "code",
   "execution_count": null,
   "id": "42499780",
   "metadata": {},
   "outputs": [],
   "source": [
    "# Classification Report - threshold: 0.5\n",
    "print(classification_report(y_test, svc.predict(X_test)))"
   ]
  },
  {
   "cell_type": "code",
   "execution_count": null,
   "id": "326baae5",
   "metadata": {},
   "outputs": [],
   "source": [
    "# 임계값 수정된 결과 예측\n",
    "pred_lower_threshold = svc.decision_function(X_test) > -0.8"
   ]
  },
  {
   "cell_type": "code",
   "execution_count": null,
   "id": "ac560871",
   "metadata": {},
   "outputs": [],
   "source": [
    "# Classification Report - lower threshold\n",
    "print(classification_report(y_test, pred_lower_threshold))"
   ]
  },
  {
   "cell_type": "markdown",
   "id": "ec89f55c",
   "metadata": {},
   "source": [
    "#### 2.3.4 ROC Curve"
   ]
  },
  {
   "cell_type": "code",
   "execution_count": null,
   "id": "7ee60899",
   "metadata": {},
   "outputs": [],
   "source": [
    "from sklearn.metrics import roc_curve\n",
    "fpr, tpr, thresholds = roc_curve(y_test, svc.decision_function(X_test))\n",
    "plt.plot(fpr, tpr, label='ROC Curve')\n",
    "plt. xlabel('Sensitivity') \n",
    "plt. ylabel('Specificity') "
   ]
  },
  {
   "cell_type": "markdown",
   "id": "4e388d5a",
   "metadata": {},
   "source": [
    "- TPR: 진짜 양성 비율\n",
    "$$\\text{TPR} = \\frac{\\text{TP}}{\\text{TP} + \\text{FN}}$$"
   ]
  },
  {
   "cell_type": "markdown",
   "id": "480a2843",
   "metadata": {},
   "source": [
    "- FPR: 거짓 양성 비율\n",
    "$$\\text{FPR} = \\frac{\\text{FP}}{\\text{FP} + \\text{TN}}$$"
   ]
  },
  {
   "cell_type": "code",
   "execution_count": null,
   "id": "289443d5",
   "metadata": {},
   "outputs": [],
   "source": [
    "# 데이터 로딩 및 분할\n",
    "\n",
    "from sklearn.datasets import make_blobs\n",
    "from sklearn.model_selection import train_test_split\n",
    "\n",
    "# 데이터 로딩\n",
    "X, y = make_blobs(n_samples=(4000, 500), cluster_std=[7.0, 2], random_state=123)\n",
    "\n",
    "# 데이터 분할\n",
    "X_train, X_test, y_train, y_test = train_test_split(X, y, random_state=123)"
   ]
  },
  {
   "cell_type": "code",
   "execution_count": null,
   "id": "873f7979",
   "metadata": {},
   "outputs": [],
   "source": [
    "# SVC 모델 생성 및 학습\n",
    "\n",
    "from sklearn.svm import SVC\n",
    "svc = SVC(gamma=0.05)\n",
    "svc.fit(X_train, y_train)"
   ]
  },
  {
   "cell_type": "code",
   "execution_count": null,
   "id": "b069cdab",
   "metadata": {},
   "outputs": [],
   "source": [
    "# 랜덤 포레스트 모델 생성 및 학습\n",
    "\n",
    "from sklearn.ensemble import RandomForestClassifier\n",
    "rf = RandomForestClassifier(n_estimators=100, random_state=123, max_features=2)\n",
    "rf.fit(X_train, y_train)"
   ]
  },
  {
   "cell_type": "code",
   "execution_count": null,
   "id": "888338f7",
   "metadata": {},
   "outputs": [],
   "source": [
    "# ROC Curve - SVC\n",
    "\n",
    "from sklearn.metrics import roc_curve\n",
    "\n",
    "fpr, tpr, thresholds = roc_curve(y_test, svc.decision_function(X_test))\n",
    "\n",
    "plt.plot(fpr, tpr, label='ROC 곡선')\n",
    "\n",
    "plt.title('ROC Curve - SVC')\n",
    "plt.xlabel('FPR')\n",
    "plt.ylabel('TPR (재현율)')\n",
    "\n",
    "close_zero = np.argmin(np.abs(thresholds))\n",
    "plt.plot(fpr[close_zero], tpr[close_zero], 'o', markersize=10,\n",
    "         label='임계값 0', fillstyle='none', c='k', mew=2)\n",
    "plt.legend(loc=4)\n",
    "plt.show()"
   ]
  },
  {
   "cell_type": "code",
   "execution_count": null,
   "id": "9a370a16",
   "metadata": {},
   "outputs": [],
   "source": [
    "# ROC Curve - Random Forest, SVC\n",
    "\n",
    "from sklearn.metrics import roc_curve\n",
    "fpr_rf, tpr_rf, thresholds_rf = roc_curve(y_test, rf.predict_proba(X_test)[:, 1])\n",
    "\n",
    "plt.plot(fpr, tpr, label='SVC의 ROC 곡선')\n",
    "plt.plot(fpr_rf, tpr_rf, label='RF의 ROC 곡선')\n",
    "\n",
    "plt.title('ROC Curve - Random Forest, SVC')\n",
    "plt.xlabel('FPR')\n",
    "plt.ylabel('TPR (재현율)')\n",
    "plt.plot(fpr[close_zero], tpr[close_zero], 'o', markersize=10,\n",
    "         label='SVC 임계값 0', fillstyle='none', c='k', mew=2)\n",
    "         \n",
    "close_default_rf = np.argmin(np.abs(thresholds_rf - 0.5))\n",
    "plt.plot(fpr_rf[close_default_rf], tpr_rf[close_default_rf], '^', markersize=10,\n",
    "         label='RF 임계값 0.5', fillstyle='none', c='k', mew=2)\n",
    "\n",
    "plt.legend(loc=4)\n",
    "plt.show()"
   ]
  },
  {
   "cell_type": "markdown",
   "id": "86c28276",
   "metadata": {},
   "source": [
    "#### 2.3.5 AUC"
   ]
  },
  {
   "cell_type": "code",
   "execution_count": null,
   "id": "1d3793fd",
   "metadata": {},
   "outputs": [],
   "source": [
    "from sklearn.metrics import roc_auc_score\n",
    "\n",
    "svc_auc = roc_auc_score(y_test, svc.decision_function(X_test))\n",
    "rf_auc  = roc_auc_score(y_test, rf.predict_proba(X_test)[:, 1])"
   ]
  },
  {
   "cell_type": "code",
   "execution_count": null,
   "id": "b9ee1d04",
   "metadata": {},
   "outputs": [],
   "source": [
    "print('AUC - SVC: {:.3f}'.format(svc_auc) )"
   ]
  },
  {
   "cell_type": "code",
   "execution_count": null,
   "id": "c2f6bfb7",
   "metadata": {},
   "outputs": [],
   "source": [
    "print('AUC - Random Forest: {:.3f}'.format(rf_auc) )"
   ]
  },
  {
   "cell_type": "code",
   "execution_count": null,
   "id": "25a3ba6b",
   "metadata": {},
   "outputs": [],
   "source": [
    "# 불균형 데이터 셋 ROC Curve\n",
    "\n",
    "X = digits.data\n",
    "y = digits.target == 9\n",
    "\n",
    "X_train, X_test, y_train, y_test = train_test_split(X, y, random_state=123)\n",
    "\n",
    "for gamma in [1, 0.1, 0.01]:\n",
    "    svc = SVC(gamma=gamma).fit(X_train, y_train)\n",
    "    accuracy = svc.score(X_test, y_test)\n",
    "    auc = roc_auc_score(y_test, svc.decision_function(X_test))\n",
    "    fpr, tpr, _ = roc_curve(y_test , svc.decision_function(X_test))\n",
    "    print('gamma = {:.2f}  정확도 = {:.2f}  AUC = {:.2f}'.format(gamma, accuracy, auc))\n",
    "    plt.plot(fpr, tpr, label='gamma={:.2f}'.format(gamma))\n",
    "    \n",
    "plt.title('불균형 데이터 셋 평가')\n",
    "plt.xlabel('FPR')\n",
    "plt.ylabel('TPR')\n",
    "plt.xlim(-0.01, 1)\n",
    "plt.ylim(0, 1.02)\n",
    "plt.legend(loc='best')\n",
    "plt.show()"
   ]
  },
  {
   "cell_type": "markdown",
   "id": "cb177401",
   "metadata": {},
   "source": [
    "#### 2.3.6 cross_val_score"
   ]
  },
  {
   "cell_type": "markdown",
   "id": "dd9b5545",
   "metadata": {},
   "source": [
    "- <참고> GridSearchCV() 인자: scoring='accuracy'"
   ]
  },
  {
   "cell_type": "code",
   "execution_count": null,
   "id": "e4332e04",
   "metadata": {},
   "outputs": [],
   "source": [
    "from sklearn.model_selection import cross_val_score"
   ]
  },
  {
   "cell_type": "code",
   "execution_count": null,
   "id": "2a01a50f",
   "metadata": {},
   "outputs": [],
   "source": [
    "# Accracy\n",
    "\n",
    "acc = cross_val_score(SVC(), X, y, scoring='accuracy', cv=5) # default: accuracy\n",
    "\n",
    "print('Accuracy')\n",
    "print('교차 검증 점수:', acc)\n",
    "print('교차 검증 평균 점수: {:.2f}'.format(acc.mean()))"
   ]
  },
  {
   "cell_type": "code",
   "execution_count": null,
   "id": "a313dff8",
   "metadata": {},
   "outputs": [],
   "source": [
    "# Average precision\n",
    "\n",
    "ap  = cross_val_score(SVC(), X, y, scoring='average_precision', cv=5)\n",
    "\n",
    "print('Average_precision')\n",
    "print('교차 검증 점수:', ap)\n",
    "print('교차 검증 평균 점수: {:.2f}'.format(ap.mean()))"
   ]
  },
  {
   "cell_type": "code",
   "execution_count": null,
   "id": "af3b10f0",
   "metadata": {},
   "outputs": [],
   "source": [
    "# Recall macro\n",
    "\n",
    "rm  = cross_val_score(SVC(), X, y, scoring='recall_macro', cv=5)\n",
    "\n",
    "print('Recall macro')\n",
    "print('교차 검증 점수:', rm)\n",
    "print('교차 검증 평균 점수: {:.2f}'.format(rm.mean()))"
   ]
  },
  {
   "cell_type": "markdown",
   "id": "fa223614",
   "metadata": {},
   "source": [
    "### 2.4 다중 분류 평가 지표"
   ]
  },
  {
   "cell_type": "code",
   "execution_count": null,
   "id": "e775deee",
   "metadata": {},
   "outputs": [],
   "source": [
    "# 데이터 분할\n",
    "X_train, X_test, y_train, y_test = train_test_split(digits.data, digits.target, random_state=123)\n",
    "\n",
    "# 모델 생성 및 학습\n",
    "lr = LogisticRegression(max_iter=5000).fit(X_train, y_train)\n",
    "\n",
    "# 예측\n",
    "pred = lr.predict(X_test)"
   ]
  },
  {
   "cell_type": "code",
   "execution_count": null,
   "id": "64aef048",
   "metadata": {},
   "outputs": [],
   "source": [
    "from sklearn.metrics import accuracy_score\n",
    "\n",
    "accuracy_score(y_test, pred)"
   ]
  },
  {
   "cell_type": "code",
   "execution_count": null,
   "id": "a4e8db88",
   "metadata": {},
   "outputs": [],
   "source": [
    "# Confusion matrix\n",
    "\n",
    "print('Confusion Matrix\\n', confusion_matrix(y_test, pred))"
   ]
  },
  {
   "cell_type": "code",
   "execution_count": null,
   "id": "1a3fcc54",
   "metadata": {
    "hide_input": false
   },
   "outputs": [],
   "source": [
    "scores_image = mglearn.tools.heatmap(\n",
    "    confusion_matrix(y_test, pred), xlabel='예측 레이블',\n",
    "    ylabel='진짜 레이블', xticklabels=digits.target_names,\n",
    "    yticklabels=digits.target_names, cmap=plt.cm.gray_r, fmt='%d')    \n",
    "    \n",
    "plt.title('오차 행렬')\n",
    "plt.gca().invert_yaxis()"
   ]
  },
  {
   "cell_type": "code",
   "execution_count": null,
   "id": "e870133e",
   "metadata": {},
   "outputs": [],
   "source": [
    "# Classification Report\n",
    "\n",
    "print(classification_report(y_test, pred))"
   ]
  },
  {
   "cell_type": "code",
   "execution_count": null,
   "id": "f8799d04",
   "metadata": {},
   "outputs": [],
   "source": [
    "# f1-score\n",
    "\n",
    "print('macro 평균 f1 점수: {:.3f}'.format(f1_score(y_test, pred, average='macro')))\n",
    "print('micro 평균 f1 점수: {:.3f}'.format(f1_score(y_test, pred, average='micro')))\n",
    "print('weigthted 평균 f1 점수: {:.3f}'.format(f1_score(y_test, pred, average='weighted')))"
   ]
  },
  {
   "cell_type": "markdown",
   "id": "f076fa13",
   "metadata": {},
   "source": [
    "---"
   ]
  },
  {
   "cell_type": "code",
   "execution_count": null,
   "id": "810a4484",
   "metadata": {},
   "outputs": [],
   "source": [
    "# End of file"
   ]
  },
  {
   "cell_type": "code",
   "execution_count": null,
   "id": "85afea49",
   "metadata": {},
   "outputs": [],
   "source": []
  }
 ],
 "metadata": {
  "kernelspec": {
   "display_name": "Python 3 (ipykernel)",
   "language": "python",
   "name": "python3"
  },
  "language_info": {
   "codemirror_mode": {
    "name": "ipython",
    "version": 3
   },
   "file_extension": ".py",
   "mimetype": "text/x-python",
   "name": "python",
   "nbconvert_exporter": "python",
   "pygments_lexer": "ipython3",
   "version": "3.9.7"
  },
  "vp": {
   "vp_config_version": "1.0.0",
   "vp_menu_width": 273,
   "vp_note_display": true,
   "vp_note_width": 263,
   "vp_position": {
    "width": 541
   },
   "vp_section_display": false,
   "vp_signature": "VisualPython"
  }
 },
 "nbformat": 4,
 "nbformat_minor": 5
}
