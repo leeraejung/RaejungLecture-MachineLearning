{
 "cells": [
  {
   "cell_type": "markdown",
   "id": "be8459af",
   "metadata": {},
   "source": [
    "# Text Analysis - 텍스트 분석"
   ]
  },
  {
   "cell_type": "markdown",
   "id": "c0c93566",
   "metadata": {},
   "source": [
    "---"
   ]
  },
  {
   "cell_type": "code",
   "execution_count": null,
   "id": "f758a8dd",
   "metadata": {},
   "outputs": [],
   "source": [
    "import numpy as np\n",
    "import pandas as pd\n",
    "import matplotlib.pyplot as plt\n",
    "import seaborn as sns\n",
    "\n",
    "import mglearn\n",
    "\n",
    "plt.rc('figure', figsize=(10, 6))\n",
    "\n",
    "from matplotlib import rcParams\n",
    "rcParams['font.family'] = 'New Gulim'\n",
    "rcParams['font.size'] = 10\n",
    "rcParams['axes.unicode_minus'] = False"
   ]
  },
  {
   "cell_type": "markdown",
   "id": "4e770b48",
   "metadata": {},
   "source": [
    "# 1 영화 리뷰 감성 분석 - IMDB"
   ]
  },
  {
   "cell_type": "markdown",
   "id": "04f7a373",
   "metadata": {},
   "source": [
    "### 1.1  데이터 로딩 - IMDB"
   ]
  },
  {
   "cell_type": "code",
   "execution_count": null,
   "id": "2b021402",
   "metadata": {},
   "outputs": [],
   "source": [
    "from sklearn.datasets import load_files\n",
    "\n",
    "reviews_train = load_files('data/aclImdb/train/')\n",
    "reviews_test  = load_files('data/aclImdb/test/')\n",
    "\n",
    "# 텍스트와 레이블을 포함하고 있는 Bunch 오브젝트를 반환합니다.\n",
    "text_train, y_train = reviews_train.data, reviews_train.target\n",
    "text_test,  y_test  = reviews_test.data,  reviews_test.target"
   ]
  },
  {
   "cell_type": "code",
   "execution_count": null,
   "id": "ffa1172e",
   "metadata": {},
   "outputs": [],
   "source": [
    "text_train = [doc.replace(b'<br />', b' ') for doc in text_train]\n",
    "text_test  = [doc.replace(b'<br />', b' ') for doc in text_test]"
   ]
  },
  {
   "cell_type": "code",
   "execution_count": null,
   "id": "bdd91812",
   "metadata": {},
   "outputs": [],
   "source": [
    "print('text_train의 길이:', len(text_train))\n",
    "print('text_train[0]:\\n', text_train[0])"
   ]
  },
  {
   "cell_type": "code",
   "execution_count": null,
   "id": "6b00917a",
   "metadata": {},
   "outputs": [],
   "source": [
    "print('text_test의 길이:', len(text_test))\n",
    "print('text_test[0]:\\n', text_test[0])"
   ]
  },
  {
   "cell_type": "code",
   "execution_count": null,
   "id": "bbf1028b",
   "metadata": {},
   "outputs": [],
   "source": [
    "print('클래스별 샘플 수 (훈련 데이터):',   np.bincount(y_train))\n",
    "print('클래스별 샘플 수 (테스트 데이터):', np.bincount(y_test))"
   ]
  },
  {
   "cell_type": "markdown",
   "id": "39c336a0",
   "metadata": {},
   "source": [
    "### 1.2  BOW 표현"
   ]
  },
  {
   "cell_type": "code",
   "execution_count": null,
   "id": "3b6b675b",
   "metadata": {},
   "outputs": [],
   "source": [
    "# 샘플 데이터\n",
    "bards_words =['The fool doth think he is wise,',\n",
    "              'but the wise man knows himself to be a fool']"
   ]
  },
  {
   "cell_type": "code",
   "execution_count": null,
   "id": "71369147",
   "metadata": {},
   "outputs": [],
   "source": [
    "# BOW 모델 생성 및 학습\n",
    "from sklearn.feature_extraction.text import CountVectorizer\n",
    "\n",
    "vect = CountVectorizer()\n",
    "vect.fit(bards_words)"
   ]
  },
  {
   "cell_type": "code",
   "execution_count": null,
   "id": "9cca948c",
   "metadata": {},
   "outputs": [],
   "source": [
    "print('어휘 사전의 크기:', len(vect.vocabulary_))\n",
    "print('어휘 사전의 내용:\\n', vect.vocabulary_)"
   ]
  },
  {
   "cell_type": "code",
   "execution_count": null,
   "id": "17116035",
   "metadata": {},
   "outputs": [],
   "source": [
    "#  BOW 적용\n",
    "bag_of_words = vect.transform(bards_words)"
   ]
  },
  {
   "cell_type": "code",
   "execution_count": null,
   "id": "1da03835",
   "metadata": {},
   "outputs": [],
   "source": [
    "# 밀집 행렬\n",
    "bag_of_words.toarray()"
   ]
  },
  {
   "cell_type": "markdown",
   "id": "7f90f609",
   "metadata": {},
   "source": [
    "### 1.3 영화 리뷰 감성분석 - BOW"
   ]
  },
  {
   "cell_type": "markdown",
   "id": "5859cd45",
   "metadata": {},
   "source": [
    "#### 1.3.1 영화 리뷰 감성분석 - BOW"
   ]
  },
  {
   "cell_type": "code",
   "execution_count": null,
   "id": "430f0026",
   "metadata": {},
   "outputs": [],
   "source": [
    "# BOW 모델 생성 및 학습\n",
    "from sklearn.feature_extraction.text import CountVectorizer\n",
    "\n",
    "vect = CountVectorizer().fit(text_train)"
   ]
  },
  {
   "cell_type": "code",
   "execution_count": null,
   "id": "7283ff67",
   "metadata": {},
   "outputs": [],
   "source": [
    "# BOW 적용 - train data\n",
    "X_train = vect.transform(text_train)"
   ]
  },
  {
   "cell_type": "code",
   "execution_count": null,
   "id": "88ed60a5",
   "metadata": {},
   "outputs": [],
   "source": [
    "%%time\n",
    "from sklearn.linear_model import LogisticRegression\n",
    "\n",
    "lreg = LogisticRegression(C=0.1, max_iter=5000)\n",
    "lreg.fit(X_train, y_train)\n",
    "\n",
    "print('학습 점수: {:.2f}'.format(lreg.score(X_train, y_train)))"
   ]
  },
  {
   "cell_type": "code",
   "execution_count": null,
   "id": "51977c6c",
   "metadata": {},
   "outputs": [],
   "source": [
    "# BOW 적용 - test data\n",
    "X_test = vect.transform(text_test)\n",
    "\n",
    "print('테스트 점수: {:.2f}'.format(lreg.score(X_test, y_test)))"
   ]
  },
  {
   "cell_type": "markdown",
   "id": "ca8c6cbc",
   "metadata": {},
   "source": [
    "#### 1.3.2 영화 리뷰 감성분석 - BOW(min_df=5)"
   ]
  },
  {
   "cell_type": "code",
   "execution_count": null,
   "id": "79be5bae",
   "metadata": {},
   "outputs": [],
   "source": [
    "# BOW 모델 생성 및 학습\n",
    "from sklearn.feature_extraction.text import CountVectorizer\n",
    "\n",
    "vect = CountVectorizer(min_df=5).fit(text_train)"
   ]
  },
  {
   "cell_type": "code",
   "execution_count": null,
   "id": "1b7c2791",
   "metadata": {
    "scrolled": true
   },
   "outputs": [],
   "source": [
    "# BOW 적용 - train data\n",
    "X_train = vect.transform(text_train)"
   ]
  },
  {
   "cell_type": "code",
   "execution_count": null,
   "id": "c74c4973",
   "metadata": {},
   "outputs": [],
   "source": [
    "%%time\n",
    "from sklearn.linear_model import LogisticRegression\n",
    "\n",
    "lreg = LogisticRegression(C=0.1, max_iter=5000)\n",
    "lreg.fit(X_train, y_train)\n",
    "\n",
    "print('학습 점수: {:.2f}'.format(lreg.score(X_train, y_train)))"
   ]
  },
  {
   "cell_type": "code",
   "execution_count": null,
   "id": "76701878",
   "metadata": {},
   "outputs": [],
   "source": [
    "# BOW 적용 - test data\n",
    "X_test = vect.transform(text_test)\n",
    "\n",
    "print('테스트 점수: {:.2f}'.format(lreg.score(X_test, y_test)))"
   ]
  },
  {
   "cell_type": "markdown",
   "id": "862631ae",
   "metadata": {},
   "source": [
    "#### 1.3.3 영화 리뷰 감성분석 - 불용어 적용"
   ]
  },
  {
   "cell_type": "code",
   "execution_count": null,
   "id": "6fb9aa02",
   "metadata": {},
   "outputs": [],
   "source": [
    "from sklearn.feature_extraction.text import ENGLISH_STOP_WORDS"
   ]
  },
  {
   "cell_type": "code",
   "execution_count": null,
   "id": "744f3b9d",
   "metadata": {},
   "outputs": [],
   "source": [
    "len(ENGLISH_STOP_WORDS)"
   ]
  },
  {
   "cell_type": "code",
   "execution_count": null,
   "id": "04b90544",
   "metadata": {},
   "outputs": [],
   "source": [
    "# BOW 모델 생성 및 학습\n",
    "from sklearn.feature_extraction.text import CountVectorizer\n",
    "\n",
    "vect = CountVectorizer(min_df=5, stop_words='english').fit(text_train)"
   ]
  },
  {
   "cell_type": "code",
   "execution_count": null,
   "id": "720189c5",
   "metadata": {
    "scrolled": true
   },
   "outputs": [],
   "source": [
    "# BOW 적용 - train data\n",
    "X_train = vect.transform(text_train)"
   ]
  },
  {
   "cell_type": "code",
   "execution_count": null,
   "id": "b5cbeb4c",
   "metadata": {},
   "outputs": [],
   "source": [
    "%%time\n",
    "from sklearn.linear_model import LogisticRegression\n",
    "\n",
    "lreg = LogisticRegression(C=0.1, max_iter=5000)\n",
    "lreg.fit(X_train, y_train)\n",
    "\n",
    "print('학습 점수: {:.2f}'.format(lreg.score(X_train, y_train)))"
   ]
  },
  {
   "cell_type": "code",
   "execution_count": null,
   "id": "34942797",
   "metadata": {},
   "outputs": [],
   "source": [
    "# BOW 적용 - test data\n",
    "X_test = vect.transform(text_test)\n",
    "\n",
    "print('테스트 점수: {:.2f}'.format(lreg.score(X_test, y_test)))"
   ]
  },
  {
   "cell_type": "markdown",
   "id": "99fa72a1",
   "metadata": {},
   "source": [
    "#### 1.3.4 영화 리뷰 감성분석 - n-gram"
   ]
  },
  {
   "cell_type": "code",
   "execution_count": null,
   "id": "4f6f15fe",
   "metadata": {},
   "outputs": [],
   "source": [
    "# BOW(n-gram) 모델 생성 및 학습\n",
    "from sklearn.feature_extraction.text import CountVectorizer\n",
    "\n",
    "vect = CountVectorizer(ngram_range=(1, 3)).fit(text_train)"
   ]
  },
  {
   "cell_type": "code",
   "execution_count": null,
   "id": "0078391f",
   "metadata": {
    "scrolled": true
   },
   "outputs": [],
   "source": [
    "# BOW(n-gram) 적용 - train data\n",
    "X_train = vect.transform(text_train)"
   ]
  },
  {
   "cell_type": "code",
   "execution_count": null,
   "id": "3ad4f4d8",
   "metadata": {},
   "outputs": [],
   "source": [
    "%%time\n",
    "from sklearn.linear_model import LogisticRegression\n",
    "\n",
    "lreg = LogisticRegression(C=0.1, max_iter=5000)\n",
    "lreg.fit(X_train, y_train)\n",
    "\n",
    "print('학습 점수: {:.2f}'.format(lreg.score(X_train, y_train)))"
   ]
  },
  {
   "cell_type": "code",
   "execution_count": null,
   "id": "7be051b5",
   "metadata": {},
   "outputs": [],
   "source": [
    "# BOW(n-gram) 적용 - test data\n",
    "X_test = vect.transform(text_test)\n",
    "\n",
    "print('테스트 점수: {:.2f}'.format(lreg.score(X_test, y_test)))"
   ]
  },
  {
   "cell_type": "markdown",
   "id": "730faec1",
   "metadata": {},
   "source": [
    "### 1.4 영화 리뷰 감성 분석 - TF–IDF\n",
    "$$\\text{tfidf}(w, d) = \\text{tf} \\times (\\log\\big(\\frac{N + 1}{N_w + 1}\\big) + 1)$$"
   ]
  },
  {
   "cell_type": "code",
   "execution_count": null,
   "id": "804e5e48",
   "metadata": {},
   "outputs": [],
   "source": [
    "# TF-IDF 모델 생성 및 학습\n",
    "from sklearn.feature_extraction.text import TfidfVectorizer\n",
    "\n",
    "vect = TfidfVectorizer(min_df=5).fit(text_train)"
   ]
  },
  {
   "cell_type": "code",
   "execution_count": null,
   "id": "24a4de97",
   "metadata": {
    "scrolled": true
   },
   "outputs": [],
   "source": [
    "# TF-IDF 적용 - train data\n",
    "X_train = vect.transform(text_train)"
   ]
  },
  {
   "cell_type": "code",
   "execution_count": null,
   "id": "90fb758a",
   "metadata": {},
   "outputs": [],
   "source": [
    "%%time\n",
    "from sklearn.linear_model import LogisticRegression\n",
    "\n",
    "lreg = LogisticRegression(C=0.1, max_iter=5000)\n",
    "lreg.fit(X_train, y_train)\n",
    "\n",
    "print('학습 점수: {:.2f}'.format(lreg.score(X_train, y_train)))"
   ]
  },
  {
   "cell_type": "code",
   "execution_count": null,
   "id": "740f0db7",
   "metadata": {},
   "outputs": [],
   "source": [
    "# BOW 적용 - test data\n",
    "X_test = vect.transform(text_test)\n",
    "\n",
    "print('테스트 점수: {:.2f}'.format(lreg.score(X_test, y_test)))"
   ]
  },
  {
   "cell_type": "markdown",
   "id": "571d13ed",
   "metadata": {},
   "source": [
    "# 2 토픽 모델링과 문서 군집화"
   ]
  },
  {
   "cell_type": "markdown",
   "id": "1920fe74",
   "metadata": {},
   "source": [
    "- LDA(Latent Dirichlet Allocation) - 잠재 디리클레 할당"
   ]
  },
  {
   "cell_type": "markdown",
   "id": "b92aefec",
   "metadata": {},
   "source": [
    "### 2.1 Vectorizaton: text -> vector"
   ]
  },
  {
   "cell_type": "code",
   "execution_count": null,
   "id": "965a88ca",
   "metadata": {},
   "outputs": [],
   "source": [
    "vect = CountVectorizer(max_features=10000, max_df=.15)\n",
    "X = vect.fit_transform(text_train)"
   ]
  },
  {
   "cell_type": "markdown",
   "id": "5bf63eec",
   "metadata": {},
   "source": [
    "### 2.2 LDA 모델 생성 및 변환 - 10개 토픽"
   ]
  },
  {
   "cell_type": "code",
   "execution_count": null,
   "id": "f2b271fd",
   "metadata": {
    "scrolled": false
   },
   "outputs": [],
   "source": [
    "%%time\n",
    "from sklearn.decomposition import LatentDirichletAllocation\n",
    "\n",
    "lda = LatentDirichletAllocation(n_components=10, learning_method='batch', max_iter=25, random_state=0)\n",
    "\n",
    "document_topics = lda.fit_transform(X)"
   ]
  },
  {
   "cell_type": "code",
   "execution_count": null,
   "id": "debe8789",
   "metadata": {},
   "outputs": [],
   "source": [
    "print('lda.components_.shape:', lda.components_.shape)"
   ]
  },
  {
   "cell_type": "code",
   "execution_count": null,
   "id": "a09bf461",
   "metadata": {},
   "outputs": [],
   "source": [
    "# 정렬\n",
    "sorting = np.argsort(lda.components_, axis=1)[:, ::-1]\n",
    "\n",
    "# 피처 이름 추출\n",
    "feature_names = np.array(vect.get_feature_names_out())"
   ]
  },
  {
   "cell_type": "markdown",
   "id": "779b30ee",
   "metadata": {},
   "source": [
    "#### 2.2.1 10개의 토픽을 출력"
   ]
  },
  {
   "cell_type": "code",
   "execution_count": null,
   "id": "acce165d",
   "metadata": {},
   "outputs": [],
   "source": [
    "mglearn.tools.print_topics(topics=range(10), feature_names=feature_names, sorting=sorting, topics_per_chunk=5, n_words=10)"
   ]
  },
  {
   "cell_type": "markdown",
   "id": "24a682b0",
   "metadata": {},
   "source": [
    "### 2.3 LDA 모델 생성 및 변환 - 100개 토픽"
   ]
  },
  {
   "cell_type": "code",
   "execution_count": null,
   "id": "0495641a",
   "metadata": {},
   "outputs": [],
   "source": [
    "%%time\n",
    "from sklearn.decomposition import LatentDirichletAllocation\n",
    "\n",
    "lda100 = LatentDirichletAllocation(n_components=100, learning_method='batch', max_iter=25, random_state=0)\n",
    "document_topics100 = lda100.fit_transform(X)"
   ]
  },
  {
   "cell_type": "code",
   "execution_count": null,
   "id": "f7068d0b",
   "metadata": {},
   "outputs": [],
   "source": [
    "# 토픽 선택(100개 중에서 선택)\n",
    "topics = np.array([7, 16, 24, 25, 28, 36, 37, 41, 45, 51, 53, 54, 63, 89, 97])"
   ]
  },
  {
   "cell_type": "code",
   "execution_count": null,
   "id": "f00e9ee1",
   "metadata": {},
   "outputs": [],
   "source": [
    "# 정렬\n",
    "sorting = np.argsort(lda100.components_, axis=1)[:, ::-1]\n",
    "\n",
    "# 피처 이름 추출\n",
    "feature_names = np.array(vect.get_feature_names_out())"
   ]
  },
  {
   "cell_type": "markdown",
   "id": "2597e0b3",
   "metadata": {},
   "source": [
    "#### 2.3.1 선택된 토픽을 출력"
   ]
  },
  {
   "cell_type": "code",
   "execution_count": null,
   "id": "7ddf7305",
   "metadata": {},
   "outputs": [],
   "source": [
    "mglearn.tools.print_topics(topics=topics, feature_names=feature_names, sorting=sorting, topics_per_chunk=5, n_words=20)"
   ]
  },
  {
   "cell_type": "markdown",
   "id": "fd7e2d55",
   "metadata": {},
   "source": [
    "#### 2.3.2 음악적인 토픽(45번)"
   ]
  },
  {
   "cell_type": "code",
   "execution_count": null,
   "id": "95c85a4c",
   "metadata": {
    "scrolled": false
   },
   "outputs": [],
   "source": [
    "# 졍렬\n",
    "music = np.argsort(document_topics100[:, 45])[::-1]\n",
    "\n",
    "# 이 토픽이 가장 비중이 큰 문서 다섯개 출력\n",
    "for i in music[:10]:\n",
    "    # 첫 두 문장 출력\n",
    "    print(b'.'.join(text_train[i].split(b'.')[:2]) + b'.\\n')"
   ]
  },
  {
   "cell_type": "markdown",
   "id": "1b84cf41",
   "metadata": {},
   "source": [
    "#### 2.3.3 LDA로 학습한 토픽 가중치"
   ]
  },
  {
   "cell_type": "code",
   "execution_count": null,
   "id": "2919a653",
   "metadata": {},
   "outputs": [],
   "source": [
    "fig, ax = plt.subplots(1, 2, figsize=(10, 10))\n",
    "topic_names = ['{:>2} '.format(i) + ' '.join(words) for i, words in enumerate(feature_names[sorting[:, :2]])]\n",
    "\n",
    "# 두 개의 열이 있는 막대 그래프\n",
    "for col in [0, 1]:\n",
    "    start = col * 50\n",
    "    end = (col + 1) * 50\n",
    "    ax[col].barh(np.arange(50), np.sum(document_topics100, axis=0)[start:end])\n",
    "    \n",
    "    ax[col].set_yticks(np.arange(50))\n",
    "    ax[col].set_yticklabels(topic_names[start:end], ha='left', va='top')\n",
    "    ax[col].invert_yaxis()\n",
    "    ax[col].set_xlim(0, 2000)\n",
    "    yax = ax[col].get_yaxis()\n",
    "    yax.set_tick_params(pad=130)\n",
    "plt.tight_layout()\n",
    "plt.show()"
   ]
  },
  {
   "cell_type": "markdown",
   "id": "f076fa13",
   "metadata": {},
   "source": [
    "---"
   ]
  },
  {
   "cell_type": "code",
   "execution_count": null,
   "id": "810a4484",
   "metadata": {},
   "outputs": [],
   "source": [
    "# End of file"
   ]
  },
  {
   "cell_type": "code",
   "execution_count": null,
   "id": "09323c66",
   "metadata": {},
   "outputs": [],
   "source": []
  }
 ],
 "metadata": {
  "kernelspec": {
   "display_name": "Python 3 (ipykernel)",
   "language": "python",
   "name": "python3"
  },
  "language_info": {
   "codemirror_mode": {
    "name": "ipython",
    "version": 3
   },
   "file_extension": ".py",
   "mimetype": "text/x-python",
   "name": "python",
   "nbconvert_exporter": "python",
   "pygments_lexer": "ipython3",
   "version": "3.9.7"
  },
  "vp": {
   "vp_config_version": "1.0.0",
   "vp_menu_width": 273,
   "vp_note_display": true,
   "vp_note_width": 263,
   "vp_position": {
    "width": 541
   },
   "vp_section_display": false,
   "vp_signature": "VisualPython"
  }
 },
 "nbformat": 4,
 "nbformat_minor": 5
}
